{
  "nbformat": 4,
  "nbformat_minor": 0,
  "metadata": {
    "colab": {
      "provenance": [],
      "authorship_tag": "ABX9TyNDtYMlJIGCG0wnJx56+6t1",
      "include_colab_link": true
    },
    "kernelspec": {
      "name": "python3",
      "display_name": "Python 3"
    },
    "language_info": {
      "name": "python"
    }
  },
  "cells": [
    {
      "cell_type": "markdown",
      "metadata": {
        "id": "view-in-github",
        "colab_type": "text"
      },
      "source": [
        "<a href=\"https://colab.research.google.com/github/KeeganFernandesWork/Principal-component-Analysis/blob/main/Principal_Component_Analysis.ipynb\" target=\"_parent\"><img src=\"https://colab.research.google.com/assets/colab-badge.svg\" alt=\"Open In Colab\"/></a>"
      ]
    },
    {
      "cell_type": "markdown",
      "source": [
        "<h1 align=\"center\" id = \"Title\"><font color='green'>Principal Component Analysis</>"
      ],
      "metadata": {
        "id": "Qyz5wGShVbJp"
      }
    },
    {
      "cell_type": "markdown",
      "source": [
        "### <font color='289C4E'>Table of contents<font><a class='anchor' id='top'></a>\n",
        "- [Why do we use PCA](#1)\n",
        "- [Mathematical expalnation of PCA](#2)\n",
        "- [PCA with Python](#3)"
      ],
      "metadata": {
        "id": "6vqWALA_U5Be"
      }
    },
    {
      "cell_type": "markdown",
      "source": [
        "### Importing Dependencies"
      ],
      "metadata": {
        "id": "ODWG85MVFkKk"
      }
    },
    {
      "cell_type": "code",
      "source": [
        "import pandas as pd\n",
        "import matplotlib.pyplot as plt\n",
        "import plotly.express as px\n",
        "import seaborn as sns"
      ],
      "metadata": {
        "id": "uiV7Zk5LFjRO"
      },
      "execution_count": null,
      "outputs": []
    },
    {
      "cell_type": "markdown",
      "source": [
        "### <h2 align=\"center\" id = '1'><font color='green'>Why so we use PCA</h2>"
      ],
      "metadata": {
        "id": "yz_q9RYZXIJu"
      }
    },
    {
      "cell_type": "markdown",
      "source": [
        "Pricipal Component Analysis(PCA) is the is the transformation and reduction(in dimensionality) in Data into a smaller dataset that still contains information from the total data."
      ],
      "metadata": {
        "id": "7DoSM1uCnkD-"
      }
    },
    {
      "cell_type": "markdown",
      "source": [
        "One of the top uses of PCA is visualization. To show why we need to see the various representations of data."
      ],
      "metadata": {
        "id": "PWghhIO2oazm"
      }
    },
    {
      "cell_type": "markdown",
      "source": [
        "![](https://i.stack.imgur.com/vAcf7.png)\n",
        "\n",
        "---\n",
        " \n",
        " The image above is a one dimensional data. We can represent it in a line and can dicriminate between apples,tomatoes and bananas.\n",
        " "
      ],
      "metadata": {
        "id": "AlCxE0_Ho-W6"
      }
    },
    {
      "cell_type": "code",
      "source": [
        "import plotly.express as px\n",
        "df = px.data.iris() # iris is a pandas DataFrame\n",
        "fig = px.scatter(df, x=\"sepal_width\", y=\"sepal_length\",color =\"species\")\n",
        "fig.show()"
      ],
      "metadata": {
        "colab": {
          "base_uri": "https://localhost:8080/",
          "height": 542
        },
        "id": "HQZad_lkwxCt",
        "outputId": "bcd4eaa1-d952-4075-ca6b-0ce8c668e066"
      },
      "execution_count": 22,
      "outputs": [
        {
          "output_type": "display_data",
          "data": {
            "text/html": [
              "<html>\n",
              "<head><meta charset=\"utf-8\" /></head>\n",
              "<body>\n",
              "    <div>            <script src=\"https://cdnjs.cloudflare.com/ajax/libs/mathjax/2.7.5/MathJax.js?config=TeX-AMS-MML_SVG\"></script><script type=\"text/javascript\">if (window.MathJax && window.MathJax.Hub && window.MathJax.Hub.Config) {window.MathJax.Hub.Config({SVG: {font: \"STIX-Web\"}});}</script>                <script type=\"text/javascript\">window.PlotlyConfig = {MathJaxConfig: 'local'};</script>\n",
              "        <script src=\"https://cdn.plot.ly/plotly-2.18.2.min.js\"></script>                <div id=\"998185d5-ffb7-46d5-a4fa-2367d5b9731e\" class=\"plotly-graph-div\" style=\"height:525px; width:100%;\"></div>            <script type=\"text/javascript\">                                    window.PLOTLYENV=window.PLOTLYENV || {};                                    if (document.getElementById(\"998185d5-ffb7-46d5-a4fa-2367d5b9731e\")) {                    Plotly.newPlot(                        \"998185d5-ffb7-46d5-a4fa-2367d5b9731e\",                        [{\"hovertemplate\":\"species=setosa<br>sepal_width=%{x}<br>sepal_length=%{y}<extra></extra>\",\"legendgroup\":\"setosa\",\"marker\":{\"color\":\"#636efa\",\"symbol\":\"circle\"},\"mode\":\"markers\",\"name\":\"setosa\",\"orientation\":\"v\",\"showlegend\":true,\"x\":[3.5,3.0,3.2,3.1,3.6,3.9,3.4,3.4,2.9,3.1,3.7,3.4,3.0,3.0,4.0,4.4,3.9,3.5,3.8,3.8,3.4,3.7,3.6,3.3,3.4,3.0,3.4,3.5,3.4,3.2,3.1,3.4,4.1,4.2,3.1,3.2,3.5,3.1,3.0,3.4,3.5,2.3,3.2,3.5,3.8,3.0,3.8,3.2,3.7,3.3],\"xaxis\":\"x\",\"y\":[5.1,4.9,4.7,4.6,5.0,5.4,4.6,5.0,4.4,4.9,5.4,4.8,4.8,4.3,5.8,5.7,5.4,5.1,5.7,5.1,5.4,5.1,4.6,5.1,4.8,5.0,5.0,5.2,5.2,4.7,4.8,5.4,5.2,5.5,4.9,5.0,5.5,4.9,4.4,5.1,5.0,4.5,4.4,5.0,5.1,4.8,5.1,4.6,5.3,5.0],\"yaxis\":\"y\",\"type\":\"scatter\"},{\"hovertemplate\":\"species=versicolor<br>sepal_width=%{x}<br>sepal_length=%{y}<extra></extra>\",\"legendgroup\":\"versicolor\",\"marker\":{\"color\":\"#EF553B\",\"symbol\":\"circle\"},\"mode\":\"markers\",\"name\":\"versicolor\",\"orientation\":\"v\",\"showlegend\":true,\"x\":[3.2,3.2,3.1,2.3,2.8,2.8,3.3,2.4,2.9,2.7,2.0,3.0,2.2,2.9,2.9,3.1,3.0,2.7,2.2,2.5,3.2,2.8,2.5,2.8,2.9,3.0,2.8,3.0,2.9,2.6,2.4,2.4,2.7,2.7,3.0,3.4,3.1,2.3,3.0,2.5,2.6,3.0,2.6,2.3,2.7,3.0,2.9,2.9,2.5,2.8],\"xaxis\":\"x\",\"y\":[7.0,6.4,6.9,5.5,6.5,5.7,6.3,4.9,6.6,5.2,5.0,5.9,6.0,6.1,5.6,6.7,5.6,5.8,6.2,5.6,5.9,6.1,6.3,6.1,6.4,6.6,6.8,6.7,6.0,5.7,5.5,5.5,5.8,6.0,5.4,6.0,6.7,6.3,5.6,5.5,5.5,6.1,5.8,5.0,5.6,5.7,5.7,6.2,5.1,5.7],\"yaxis\":\"y\",\"type\":\"scatter\"},{\"hovertemplate\":\"species=virginica<br>sepal_width=%{x}<br>sepal_length=%{y}<extra></extra>\",\"legendgroup\":\"virginica\",\"marker\":{\"color\":\"#00cc96\",\"symbol\":\"circle\"},\"mode\":\"markers\",\"name\":\"virginica\",\"orientation\":\"v\",\"showlegend\":true,\"x\":[3.3,2.7,3.0,2.9,3.0,3.0,2.5,2.9,2.5,3.6,3.2,2.7,3.0,2.5,2.8,3.2,3.0,3.8,2.6,2.2,3.2,2.8,2.8,2.7,3.3,3.2,2.8,3.0,2.8,3.0,2.8,3.8,2.8,2.8,2.6,3.0,3.4,3.1,3.0,3.1,3.1,3.1,2.7,3.2,3.3,3.0,2.5,3.0,3.4,3.0],\"xaxis\":\"x\",\"y\":[6.3,5.8,7.1,6.3,6.5,7.6,4.9,7.3,6.7,7.2,6.5,6.4,6.8,5.7,5.8,6.4,6.5,7.7,7.7,6.0,6.9,5.6,7.7,6.3,6.7,7.2,6.2,6.1,6.4,7.2,7.4,7.9,6.4,6.3,6.1,7.7,6.3,6.4,6.0,6.9,6.7,6.9,5.8,6.8,6.7,6.7,6.3,6.5,6.2,5.9],\"yaxis\":\"y\",\"type\":\"scatter\"}],                        {\"template\":{\"data\":{\"histogram2dcontour\":[{\"type\":\"histogram2dcontour\",\"colorbar\":{\"outlinewidth\":0,\"ticks\":\"\"},\"colorscale\":[[0.0,\"#0d0887\"],[0.1111111111111111,\"#46039f\"],[0.2222222222222222,\"#7201a8\"],[0.3333333333333333,\"#9c179e\"],[0.4444444444444444,\"#bd3786\"],[0.5555555555555556,\"#d8576b\"],[0.6666666666666666,\"#ed7953\"],[0.7777777777777778,\"#fb9f3a\"],[0.8888888888888888,\"#fdca26\"],[1.0,\"#f0f921\"]]}],\"choropleth\":[{\"type\":\"choropleth\",\"colorbar\":{\"outlinewidth\":0,\"ticks\":\"\"}}],\"histogram2d\":[{\"type\":\"histogram2d\",\"colorbar\":{\"outlinewidth\":0,\"ticks\":\"\"},\"colorscale\":[[0.0,\"#0d0887\"],[0.1111111111111111,\"#46039f\"],[0.2222222222222222,\"#7201a8\"],[0.3333333333333333,\"#9c179e\"],[0.4444444444444444,\"#bd3786\"],[0.5555555555555556,\"#d8576b\"],[0.6666666666666666,\"#ed7953\"],[0.7777777777777778,\"#fb9f3a\"],[0.8888888888888888,\"#fdca26\"],[1.0,\"#f0f921\"]]}],\"heatmap\":[{\"type\":\"heatmap\",\"colorbar\":{\"outlinewidth\":0,\"ticks\":\"\"},\"colorscale\":[[0.0,\"#0d0887\"],[0.1111111111111111,\"#46039f\"],[0.2222222222222222,\"#7201a8\"],[0.3333333333333333,\"#9c179e\"],[0.4444444444444444,\"#bd3786\"],[0.5555555555555556,\"#d8576b\"],[0.6666666666666666,\"#ed7953\"],[0.7777777777777778,\"#fb9f3a\"],[0.8888888888888888,\"#fdca26\"],[1.0,\"#f0f921\"]]}],\"heatmapgl\":[{\"type\":\"heatmapgl\",\"colorbar\":{\"outlinewidth\":0,\"ticks\":\"\"},\"colorscale\":[[0.0,\"#0d0887\"],[0.1111111111111111,\"#46039f\"],[0.2222222222222222,\"#7201a8\"],[0.3333333333333333,\"#9c179e\"],[0.4444444444444444,\"#bd3786\"],[0.5555555555555556,\"#d8576b\"],[0.6666666666666666,\"#ed7953\"],[0.7777777777777778,\"#fb9f3a\"],[0.8888888888888888,\"#fdca26\"],[1.0,\"#f0f921\"]]}],\"contourcarpet\":[{\"type\":\"contourcarpet\",\"colorbar\":{\"outlinewidth\":0,\"ticks\":\"\"}}],\"contour\":[{\"type\":\"contour\",\"colorbar\":{\"outlinewidth\":0,\"ticks\":\"\"},\"colorscale\":[[0.0,\"#0d0887\"],[0.1111111111111111,\"#46039f\"],[0.2222222222222222,\"#7201a8\"],[0.3333333333333333,\"#9c179e\"],[0.4444444444444444,\"#bd3786\"],[0.5555555555555556,\"#d8576b\"],[0.6666666666666666,\"#ed7953\"],[0.7777777777777778,\"#fb9f3a\"],[0.8888888888888888,\"#fdca26\"],[1.0,\"#f0f921\"]]}],\"surface\":[{\"type\":\"surface\",\"colorbar\":{\"outlinewidth\":0,\"ticks\":\"\"},\"colorscale\":[[0.0,\"#0d0887\"],[0.1111111111111111,\"#46039f\"],[0.2222222222222222,\"#7201a8\"],[0.3333333333333333,\"#9c179e\"],[0.4444444444444444,\"#bd3786\"],[0.5555555555555556,\"#d8576b\"],[0.6666666666666666,\"#ed7953\"],[0.7777777777777778,\"#fb9f3a\"],[0.8888888888888888,\"#fdca26\"],[1.0,\"#f0f921\"]]}],\"mesh3d\":[{\"type\":\"mesh3d\",\"colorbar\":{\"outlinewidth\":0,\"ticks\":\"\"}}],\"scatter\":[{\"fillpattern\":{\"fillmode\":\"overlay\",\"size\":10,\"solidity\":0.2},\"type\":\"scatter\"}],\"parcoords\":[{\"type\":\"parcoords\",\"line\":{\"colorbar\":{\"outlinewidth\":0,\"ticks\":\"\"}}}],\"scatterpolargl\":[{\"type\":\"scatterpolargl\",\"marker\":{\"colorbar\":{\"outlinewidth\":0,\"ticks\":\"\"}}}],\"bar\":[{\"error_x\":{\"color\":\"#2a3f5f\"},\"error_y\":{\"color\":\"#2a3f5f\"},\"marker\":{\"line\":{\"color\":\"#E5ECF6\",\"width\":0.5},\"pattern\":{\"fillmode\":\"overlay\",\"size\":10,\"solidity\":0.2}},\"type\":\"bar\"}],\"scattergeo\":[{\"type\":\"scattergeo\",\"marker\":{\"colorbar\":{\"outlinewidth\":0,\"ticks\":\"\"}}}],\"scatterpolar\":[{\"type\":\"scatterpolar\",\"marker\":{\"colorbar\":{\"outlinewidth\":0,\"ticks\":\"\"}}}],\"histogram\":[{\"marker\":{\"pattern\":{\"fillmode\":\"overlay\",\"size\":10,\"solidity\":0.2}},\"type\":\"histogram\"}],\"scattergl\":[{\"type\":\"scattergl\",\"marker\":{\"colorbar\":{\"outlinewidth\":0,\"ticks\":\"\"}}}],\"scatter3d\":[{\"type\":\"scatter3d\",\"line\":{\"colorbar\":{\"outlinewidth\":0,\"ticks\":\"\"}},\"marker\":{\"colorbar\":{\"outlinewidth\":0,\"ticks\":\"\"}}}],\"scattermapbox\":[{\"type\":\"scattermapbox\",\"marker\":{\"colorbar\":{\"outlinewidth\":0,\"ticks\":\"\"}}}],\"scatterternary\":[{\"type\":\"scatterternary\",\"marker\":{\"colorbar\":{\"outlinewidth\":0,\"ticks\":\"\"}}}],\"scattercarpet\":[{\"type\":\"scattercarpet\",\"marker\":{\"colorbar\":{\"outlinewidth\":0,\"ticks\":\"\"}}}],\"carpet\":[{\"aaxis\":{\"endlinecolor\":\"#2a3f5f\",\"gridcolor\":\"white\",\"linecolor\":\"white\",\"minorgridcolor\":\"white\",\"startlinecolor\":\"#2a3f5f\"},\"baxis\":{\"endlinecolor\":\"#2a3f5f\",\"gridcolor\":\"white\",\"linecolor\":\"white\",\"minorgridcolor\":\"white\",\"startlinecolor\":\"#2a3f5f\"},\"type\":\"carpet\"}],\"table\":[{\"cells\":{\"fill\":{\"color\":\"#EBF0F8\"},\"line\":{\"color\":\"white\"}},\"header\":{\"fill\":{\"color\":\"#C8D4E3\"},\"line\":{\"color\":\"white\"}},\"type\":\"table\"}],\"barpolar\":[{\"marker\":{\"line\":{\"color\":\"#E5ECF6\",\"width\":0.5},\"pattern\":{\"fillmode\":\"overlay\",\"size\":10,\"solidity\":0.2}},\"type\":\"barpolar\"}],\"pie\":[{\"automargin\":true,\"type\":\"pie\"}]},\"layout\":{\"autotypenumbers\":\"strict\",\"colorway\":[\"#636efa\",\"#EF553B\",\"#00cc96\",\"#ab63fa\",\"#FFA15A\",\"#19d3f3\",\"#FF6692\",\"#B6E880\",\"#FF97FF\",\"#FECB52\"],\"font\":{\"color\":\"#2a3f5f\"},\"hovermode\":\"closest\",\"hoverlabel\":{\"align\":\"left\"},\"paper_bgcolor\":\"white\",\"plot_bgcolor\":\"#E5ECF6\",\"polar\":{\"bgcolor\":\"#E5ECF6\",\"angularaxis\":{\"gridcolor\":\"white\",\"linecolor\":\"white\",\"ticks\":\"\"},\"radialaxis\":{\"gridcolor\":\"white\",\"linecolor\":\"white\",\"ticks\":\"\"}},\"ternary\":{\"bgcolor\":\"#E5ECF6\",\"aaxis\":{\"gridcolor\":\"white\",\"linecolor\":\"white\",\"ticks\":\"\"},\"baxis\":{\"gridcolor\":\"white\",\"linecolor\":\"white\",\"ticks\":\"\"},\"caxis\":{\"gridcolor\":\"white\",\"linecolor\":\"white\",\"ticks\":\"\"}},\"coloraxis\":{\"colorbar\":{\"outlinewidth\":0,\"ticks\":\"\"}},\"colorscale\":{\"sequential\":[[0.0,\"#0d0887\"],[0.1111111111111111,\"#46039f\"],[0.2222222222222222,\"#7201a8\"],[0.3333333333333333,\"#9c179e\"],[0.4444444444444444,\"#bd3786\"],[0.5555555555555556,\"#d8576b\"],[0.6666666666666666,\"#ed7953\"],[0.7777777777777778,\"#fb9f3a\"],[0.8888888888888888,\"#fdca26\"],[1.0,\"#f0f921\"]],\"sequentialminus\":[[0.0,\"#0d0887\"],[0.1111111111111111,\"#46039f\"],[0.2222222222222222,\"#7201a8\"],[0.3333333333333333,\"#9c179e\"],[0.4444444444444444,\"#bd3786\"],[0.5555555555555556,\"#d8576b\"],[0.6666666666666666,\"#ed7953\"],[0.7777777777777778,\"#fb9f3a\"],[0.8888888888888888,\"#fdca26\"],[1.0,\"#f0f921\"]],\"diverging\":[[0,\"#8e0152\"],[0.1,\"#c51b7d\"],[0.2,\"#de77ae\"],[0.3,\"#f1b6da\"],[0.4,\"#fde0ef\"],[0.5,\"#f7f7f7\"],[0.6,\"#e6f5d0\"],[0.7,\"#b8e186\"],[0.8,\"#7fbc41\"],[0.9,\"#4d9221\"],[1,\"#276419\"]]},\"xaxis\":{\"gridcolor\":\"white\",\"linecolor\":\"white\",\"ticks\":\"\",\"title\":{\"standoff\":15},\"zerolinecolor\":\"white\",\"automargin\":true,\"zerolinewidth\":2},\"yaxis\":{\"gridcolor\":\"white\",\"linecolor\":\"white\",\"ticks\":\"\",\"title\":{\"standoff\":15},\"zerolinecolor\":\"white\",\"automargin\":true,\"zerolinewidth\":2},\"scene\":{\"xaxis\":{\"backgroundcolor\":\"#E5ECF6\",\"gridcolor\":\"white\",\"linecolor\":\"white\",\"showbackground\":true,\"ticks\":\"\",\"zerolinecolor\":\"white\",\"gridwidth\":2},\"yaxis\":{\"backgroundcolor\":\"#E5ECF6\",\"gridcolor\":\"white\",\"linecolor\":\"white\",\"showbackground\":true,\"ticks\":\"\",\"zerolinecolor\":\"white\",\"gridwidth\":2},\"zaxis\":{\"backgroundcolor\":\"#E5ECF6\",\"gridcolor\":\"white\",\"linecolor\":\"white\",\"showbackground\":true,\"ticks\":\"\",\"zerolinecolor\":\"white\",\"gridwidth\":2}},\"shapedefaults\":{\"line\":{\"color\":\"#2a3f5f\"}},\"annotationdefaults\":{\"arrowcolor\":\"#2a3f5f\",\"arrowhead\":0,\"arrowwidth\":1},\"geo\":{\"bgcolor\":\"white\",\"landcolor\":\"#E5ECF6\",\"subunitcolor\":\"white\",\"showland\":true,\"showlakes\":true,\"lakecolor\":\"white\"},\"title\":{\"x\":0.05},\"mapbox\":{\"style\":\"light\"}}},\"xaxis\":{\"anchor\":\"y\",\"domain\":[0.0,1.0],\"title\":{\"text\":\"sepal_width\"}},\"yaxis\":{\"anchor\":\"x\",\"domain\":[0.0,1.0],\"title\":{\"text\":\"sepal_length\"}},\"legend\":{\"title\":{\"text\":\"species\"},\"tracegroupgap\":0},\"margin\":{\"t\":60}},                        {\"responsive\": true}                    ).then(function(){\n",
              "                            \n",
              "var gd = document.getElementById('998185d5-ffb7-46d5-a4fa-2367d5b9731e');\n",
              "var x = new MutationObserver(function (mutations, observer) {{\n",
              "        var display = window.getComputedStyle(gd).display;\n",
              "        if (!display || display === 'none') {{\n",
              "            console.log([gd, 'removed!']);\n",
              "            Plotly.purge(gd);\n",
              "            observer.disconnect();\n",
              "        }}\n",
              "}});\n",
              "\n",
              "// Listen for the removal of the full notebook cells\n",
              "var notebookContainer = gd.closest('#notebook-container');\n",
              "if (notebookContainer) {{\n",
              "    x.observe(notebookContainer, {childList: true});\n",
              "}}\n",
              "\n",
              "// Listen for the clearing of the current output cell\n",
              "var outputEl = gd.closest('.output');\n",
              "if (outputEl) {{\n",
              "    x.observe(outputEl, {childList: true});\n",
              "}}\n",
              "\n",
              "                        })                };                            </script>        </div>\n",
              "</body>\n",
              "</html>"
            ]
          },
          "metadata": {}
        }
      ]
    },
    {
      "cell_type": "markdown",
      "source": [
        "The image above is is a 2D scatter plot representing the two variables sepal_length and sepal_width. We can see how we can discriminate between the various species using the the 2 columns"
      ],
      "metadata": {
        "id": "aRrf4CrUy9Vm"
      }
    },
    {
      "cell_type": "code",
      "source": [
        "import plotly.express as px\n",
        "df = px.data.iris() # iris is a pandas DataFrame\n",
        "fig = px.scatter_3d(df, x=\"sepal_width\", y=\"sepal_length\",z='petal_width',color =\"species\")\n",
        "fig.show()"
      ],
      "metadata": {
        "colab": {
          "base_uri": "https://localhost:8080/",
          "height": 542
        },
        "id": "4E-59eC_y8OX",
        "outputId": "cf4db69a-c60a-4d4b-e81f-86a997c62f7b"
      },
      "execution_count": 23,
      "outputs": [
        {
          "output_type": "display_data",
          "data": {
            "text/html": [
              "<html>\n",
              "<head><meta charset=\"utf-8\" /></head>\n",
              "<body>\n",
              "    <div>            <script src=\"https://cdnjs.cloudflare.com/ajax/libs/mathjax/2.7.5/MathJax.js?config=TeX-AMS-MML_SVG\"></script><script type=\"text/javascript\">if (window.MathJax && window.MathJax.Hub && window.MathJax.Hub.Config) {window.MathJax.Hub.Config({SVG: {font: \"STIX-Web\"}});}</script>                <script type=\"text/javascript\">window.PlotlyConfig = {MathJaxConfig: 'local'};</script>\n",
              "        <script src=\"https://cdn.plot.ly/plotly-2.18.2.min.js\"></script>                <div id=\"1390d31f-bdbd-4723-a51f-78990587f795\" class=\"plotly-graph-div\" style=\"height:525px; width:100%;\"></div>            <script type=\"text/javascript\">                                    window.PLOTLYENV=window.PLOTLYENV || {};                                    if (document.getElementById(\"1390d31f-bdbd-4723-a51f-78990587f795\")) {                    Plotly.newPlot(                        \"1390d31f-bdbd-4723-a51f-78990587f795\",                        [{\"hovertemplate\":\"species=setosa<br>sepal_width=%{x}<br>sepal_length=%{y}<br>petal_width=%{z}<extra></extra>\",\"legendgroup\":\"setosa\",\"marker\":{\"color\":\"#636efa\",\"symbol\":\"circle\"},\"mode\":\"markers\",\"name\":\"setosa\",\"scene\":\"scene\",\"showlegend\":true,\"x\":[3.5,3.0,3.2,3.1,3.6,3.9,3.4,3.4,2.9,3.1,3.7,3.4,3.0,3.0,4.0,4.4,3.9,3.5,3.8,3.8,3.4,3.7,3.6,3.3,3.4,3.0,3.4,3.5,3.4,3.2,3.1,3.4,4.1,4.2,3.1,3.2,3.5,3.1,3.0,3.4,3.5,2.3,3.2,3.5,3.8,3.0,3.8,3.2,3.7,3.3],\"y\":[5.1,4.9,4.7,4.6,5.0,5.4,4.6,5.0,4.4,4.9,5.4,4.8,4.8,4.3,5.8,5.7,5.4,5.1,5.7,5.1,5.4,5.1,4.6,5.1,4.8,5.0,5.0,5.2,5.2,4.7,4.8,5.4,5.2,5.5,4.9,5.0,5.5,4.9,4.4,5.1,5.0,4.5,4.4,5.0,5.1,4.8,5.1,4.6,5.3,5.0],\"z\":[0.2,0.2,0.2,0.2,0.2,0.4,0.3,0.2,0.2,0.1,0.2,0.2,0.1,0.1,0.2,0.4,0.4,0.3,0.3,0.3,0.2,0.4,0.2,0.5,0.2,0.2,0.4,0.2,0.2,0.2,0.2,0.4,0.1,0.2,0.1,0.2,0.2,0.1,0.2,0.2,0.3,0.3,0.2,0.6,0.4,0.3,0.2,0.2,0.2,0.2],\"type\":\"scatter3d\"},{\"hovertemplate\":\"species=versicolor<br>sepal_width=%{x}<br>sepal_length=%{y}<br>petal_width=%{z}<extra></extra>\",\"legendgroup\":\"versicolor\",\"marker\":{\"color\":\"#EF553B\",\"symbol\":\"circle\"},\"mode\":\"markers\",\"name\":\"versicolor\",\"scene\":\"scene\",\"showlegend\":true,\"x\":[3.2,3.2,3.1,2.3,2.8,2.8,3.3,2.4,2.9,2.7,2.0,3.0,2.2,2.9,2.9,3.1,3.0,2.7,2.2,2.5,3.2,2.8,2.5,2.8,2.9,3.0,2.8,3.0,2.9,2.6,2.4,2.4,2.7,2.7,3.0,3.4,3.1,2.3,3.0,2.5,2.6,3.0,2.6,2.3,2.7,3.0,2.9,2.9,2.5,2.8],\"y\":[7.0,6.4,6.9,5.5,6.5,5.7,6.3,4.9,6.6,5.2,5.0,5.9,6.0,6.1,5.6,6.7,5.6,5.8,6.2,5.6,5.9,6.1,6.3,6.1,6.4,6.6,6.8,6.7,6.0,5.7,5.5,5.5,5.8,6.0,5.4,6.0,6.7,6.3,5.6,5.5,5.5,6.1,5.8,5.0,5.6,5.7,5.7,6.2,5.1,5.7],\"z\":[1.4,1.5,1.5,1.3,1.5,1.3,1.6,1.0,1.3,1.4,1.0,1.5,1.0,1.4,1.3,1.4,1.5,1.0,1.5,1.1,1.8,1.3,1.5,1.2,1.3,1.4,1.4,1.7,1.5,1.0,1.1,1.0,1.2,1.6,1.5,1.6,1.5,1.3,1.3,1.3,1.2,1.4,1.2,1.0,1.3,1.2,1.3,1.3,1.1,1.3],\"type\":\"scatter3d\"},{\"hovertemplate\":\"species=virginica<br>sepal_width=%{x}<br>sepal_length=%{y}<br>petal_width=%{z}<extra></extra>\",\"legendgroup\":\"virginica\",\"marker\":{\"color\":\"#00cc96\",\"symbol\":\"circle\"},\"mode\":\"markers\",\"name\":\"virginica\",\"scene\":\"scene\",\"showlegend\":true,\"x\":[3.3,2.7,3.0,2.9,3.0,3.0,2.5,2.9,2.5,3.6,3.2,2.7,3.0,2.5,2.8,3.2,3.0,3.8,2.6,2.2,3.2,2.8,2.8,2.7,3.3,3.2,2.8,3.0,2.8,3.0,2.8,3.8,2.8,2.8,2.6,3.0,3.4,3.1,3.0,3.1,3.1,3.1,2.7,3.2,3.3,3.0,2.5,3.0,3.4,3.0],\"y\":[6.3,5.8,7.1,6.3,6.5,7.6,4.9,7.3,6.7,7.2,6.5,6.4,6.8,5.7,5.8,6.4,6.5,7.7,7.7,6.0,6.9,5.6,7.7,6.3,6.7,7.2,6.2,6.1,6.4,7.2,7.4,7.9,6.4,6.3,6.1,7.7,6.3,6.4,6.0,6.9,6.7,6.9,5.8,6.8,6.7,6.7,6.3,6.5,6.2,5.9],\"z\":[2.5,1.9,2.1,1.8,2.2,2.1,1.7,1.8,1.8,2.5,2.0,1.9,2.1,2.0,2.4,2.3,1.8,2.2,2.3,1.5,2.3,2.0,2.0,1.8,2.1,1.8,1.8,1.8,2.1,1.6,1.9,2.0,2.2,1.5,1.4,2.3,2.4,1.8,1.8,2.1,2.4,2.3,1.9,2.3,2.5,2.3,1.9,2.0,2.3,1.8],\"type\":\"scatter3d\"}],                        {\"template\":{\"data\":{\"histogram2dcontour\":[{\"type\":\"histogram2dcontour\",\"colorbar\":{\"outlinewidth\":0,\"ticks\":\"\"},\"colorscale\":[[0.0,\"#0d0887\"],[0.1111111111111111,\"#46039f\"],[0.2222222222222222,\"#7201a8\"],[0.3333333333333333,\"#9c179e\"],[0.4444444444444444,\"#bd3786\"],[0.5555555555555556,\"#d8576b\"],[0.6666666666666666,\"#ed7953\"],[0.7777777777777778,\"#fb9f3a\"],[0.8888888888888888,\"#fdca26\"],[1.0,\"#f0f921\"]]}],\"choropleth\":[{\"type\":\"choropleth\",\"colorbar\":{\"outlinewidth\":0,\"ticks\":\"\"}}],\"histogram2d\":[{\"type\":\"histogram2d\",\"colorbar\":{\"outlinewidth\":0,\"ticks\":\"\"},\"colorscale\":[[0.0,\"#0d0887\"],[0.1111111111111111,\"#46039f\"],[0.2222222222222222,\"#7201a8\"],[0.3333333333333333,\"#9c179e\"],[0.4444444444444444,\"#bd3786\"],[0.5555555555555556,\"#d8576b\"],[0.6666666666666666,\"#ed7953\"],[0.7777777777777778,\"#fb9f3a\"],[0.8888888888888888,\"#fdca26\"],[1.0,\"#f0f921\"]]}],\"heatmap\":[{\"type\":\"heatmap\",\"colorbar\":{\"outlinewidth\":0,\"ticks\":\"\"},\"colorscale\":[[0.0,\"#0d0887\"],[0.1111111111111111,\"#46039f\"],[0.2222222222222222,\"#7201a8\"],[0.3333333333333333,\"#9c179e\"],[0.4444444444444444,\"#bd3786\"],[0.5555555555555556,\"#d8576b\"],[0.6666666666666666,\"#ed7953\"],[0.7777777777777778,\"#fb9f3a\"],[0.8888888888888888,\"#fdca26\"],[1.0,\"#f0f921\"]]}],\"heatmapgl\":[{\"type\":\"heatmapgl\",\"colorbar\":{\"outlinewidth\":0,\"ticks\":\"\"},\"colorscale\":[[0.0,\"#0d0887\"],[0.1111111111111111,\"#46039f\"],[0.2222222222222222,\"#7201a8\"],[0.3333333333333333,\"#9c179e\"],[0.4444444444444444,\"#bd3786\"],[0.5555555555555556,\"#d8576b\"],[0.6666666666666666,\"#ed7953\"],[0.7777777777777778,\"#fb9f3a\"],[0.8888888888888888,\"#fdca26\"],[1.0,\"#f0f921\"]]}],\"contourcarpet\":[{\"type\":\"contourcarpet\",\"colorbar\":{\"outlinewidth\":0,\"ticks\":\"\"}}],\"contour\":[{\"type\":\"contour\",\"colorbar\":{\"outlinewidth\":0,\"ticks\":\"\"},\"colorscale\":[[0.0,\"#0d0887\"],[0.1111111111111111,\"#46039f\"],[0.2222222222222222,\"#7201a8\"],[0.3333333333333333,\"#9c179e\"],[0.4444444444444444,\"#bd3786\"],[0.5555555555555556,\"#d8576b\"],[0.6666666666666666,\"#ed7953\"],[0.7777777777777778,\"#fb9f3a\"],[0.8888888888888888,\"#fdca26\"],[1.0,\"#f0f921\"]]}],\"surface\":[{\"type\":\"surface\",\"colorbar\":{\"outlinewidth\":0,\"ticks\":\"\"},\"colorscale\":[[0.0,\"#0d0887\"],[0.1111111111111111,\"#46039f\"],[0.2222222222222222,\"#7201a8\"],[0.3333333333333333,\"#9c179e\"],[0.4444444444444444,\"#bd3786\"],[0.5555555555555556,\"#d8576b\"],[0.6666666666666666,\"#ed7953\"],[0.7777777777777778,\"#fb9f3a\"],[0.8888888888888888,\"#fdca26\"],[1.0,\"#f0f921\"]]}],\"mesh3d\":[{\"type\":\"mesh3d\",\"colorbar\":{\"outlinewidth\":0,\"ticks\":\"\"}}],\"scatter\":[{\"fillpattern\":{\"fillmode\":\"overlay\",\"size\":10,\"solidity\":0.2},\"type\":\"scatter\"}],\"parcoords\":[{\"type\":\"parcoords\",\"line\":{\"colorbar\":{\"outlinewidth\":0,\"ticks\":\"\"}}}],\"scatterpolargl\":[{\"type\":\"scatterpolargl\",\"marker\":{\"colorbar\":{\"outlinewidth\":0,\"ticks\":\"\"}}}],\"bar\":[{\"error_x\":{\"color\":\"#2a3f5f\"},\"error_y\":{\"color\":\"#2a3f5f\"},\"marker\":{\"line\":{\"color\":\"#E5ECF6\",\"width\":0.5},\"pattern\":{\"fillmode\":\"overlay\",\"size\":10,\"solidity\":0.2}},\"type\":\"bar\"}],\"scattergeo\":[{\"type\":\"scattergeo\",\"marker\":{\"colorbar\":{\"outlinewidth\":0,\"ticks\":\"\"}}}],\"scatterpolar\":[{\"type\":\"scatterpolar\",\"marker\":{\"colorbar\":{\"outlinewidth\":0,\"ticks\":\"\"}}}],\"histogram\":[{\"marker\":{\"pattern\":{\"fillmode\":\"overlay\",\"size\":10,\"solidity\":0.2}},\"type\":\"histogram\"}],\"scattergl\":[{\"type\":\"scattergl\",\"marker\":{\"colorbar\":{\"outlinewidth\":0,\"ticks\":\"\"}}}],\"scatter3d\":[{\"type\":\"scatter3d\",\"line\":{\"colorbar\":{\"outlinewidth\":0,\"ticks\":\"\"}},\"marker\":{\"colorbar\":{\"outlinewidth\":0,\"ticks\":\"\"}}}],\"scattermapbox\":[{\"type\":\"scattermapbox\",\"marker\":{\"colorbar\":{\"outlinewidth\":0,\"ticks\":\"\"}}}],\"scatterternary\":[{\"type\":\"scatterternary\",\"marker\":{\"colorbar\":{\"outlinewidth\":0,\"ticks\":\"\"}}}],\"scattercarpet\":[{\"type\":\"scattercarpet\",\"marker\":{\"colorbar\":{\"outlinewidth\":0,\"ticks\":\"\"}}}],\"carpet\":[{\"aaxis\":{\"endlinecolor\":\"#2a3f5f\",\"gridcolor\":\"white\",\"linecolor\":\"white\",\"minorgridcolor\":\"white\",\"startlinecolor\":\"#2a3f5f\"},\"baxis\":{\"endlinecolor\":\"#2a3f5f\",\"gridcolor\":\"white\",\"linecolor\":\"white\",\"minorgridcolor\":\"white\",\"startlinecolor\":\"#2a3f5f\"},\"type\":\"carpet\"}],\"table\":[{\"cells\":{\"fill\":{\"color\":\"#EBF0F8\"},\"line\":{\"color\":\"white\"}},\"header\":{\"fill\":{\"color\":\"#C8D4E3\"},\"line\":{\"color\":\"white\"}},\"type\":\"table\"}],\"barpolar\":[{\"marker\":{\"line\":{\"color\":\"#E5ECF6\",\"width\":0.5},\"pattern\":{\"fillmode\":\"overlay\",\"size\":10,\"solidity\":0.2}},\"type\":\"barpolar\"}],\"pie\":[{\"automargin\":true,\"type\":\"pie\"}]},\"layout\":{\"autotypenumbers\":\"strict\",\"colorway\":[\"#636efa\",\"#EF553B\",\"#00cc96\",\"#ab63fa\",\"#FFA15A\",\"#19d3f3\",\"#FF6692\",\"#B6E880\",\"#FF97FF\",\"#FECB52\"],\"font\":{\"color\":\"#2a3f5f\"},\"hovermode\":\"closest\",\"hoverlabel\":{\"align\":\"left\"},\"paper_bgcolor\":\"white\",\"plot_bgcolor\":\"#E5ECF6\",\"polar\":{\"bgcolor\":\"#E5ECF6\",\"angularaxis\":{\"gridcolor\":\"white\",\"linecolor\":\"white\",\"ticks\":\"\"},\"radialaxis\":{\"gridcolor\":\"white\",\"linecolor\":\"white\",\"ticks\":\"\"}},\"ternary\":{\"bgcolor\":\"#E5ECF6\",\"aaxis\":{\"gridcolor\":\"white\",\"linecolor\":\"white\",\"ticks\":\"\"},\"baxis\":{\"gridcolor\":\"white\",\"linecolor\":\"white\",\"ticks\":\"\"},\"caxis\":{\"gridcolor\":\"white\",\"linecolor\":\"white\",\"ticks\":\"\"}},\"coloraxis\":{\"colorbar\":{\"outlinewidth\":0,\"ticks\":\"\"}},\"colorscale\":{\"sequential\":[[0.0,\"#0d0887\"],[0.1111111111111111,\"#46039f\"],[0.2222222222222222,\"#7201a8\"],[0.3333333333333333,\"#9c179e\"],[0.4444444444444444,\"#bd3786\"],[0.5555555555555556,\"#d8576b\"],[0.6666666666666666,\"#ed7953\"],[0.7777777777777778,\"#fb9f3a\"],[0.8888888888888888,\"#fdca26\"],[1.0,\"#f0f921\"]],\"sequentialminus\":[[0.0,\"#0d0887\"],[0.1111111111111111,\"#46039f\"],[0.2222222222222222,\"#7201a8\"],[0.3333333333333333,\"#9c179e\"],[0.4444444444444444,\"#bd3786\"],[0.5555555555555556,\"#d8576b\"],[0.6666666666666666,\"#ed7953\"],[0.7777777777777778,\"#fb9f3a\"],[0.8888888888888888,\"#fdca26\"],[1.0,\"#f0f921\"]],\"diverging\":[[0,\"#8e0152\"],[0.1,\"#c51b7d\"],[0.2,\"#de77ae\"],[0.3,\"#f1b6da\"],[0.4,\"#fde0ef\"],[0.5,\"#f7f7f7\"],[0.6,\"#e6f5d0\"],[0.7,\"#b8e186\"],[0.8,\"#7fbc41\"],[0.9,\"#4d9221\"],[1,\"#276419\"]]},\"xaxis\":{\"gridcolor\":\"white\",\"linecolor\":\"white\",\"ticks\":\"\",\"title\":{\"standoff\":15},\"zerolinecolor\":\"white\",\"automargin\":true,\"zerolinewidth\":2},\"yaxis\":{\"gridcolor\":\"white\",\"linecolor\":\"white\",\"ticks\":\"\",\"title\":{\"standoff\":15},\"zerolinecolor\":\"white\",\"automargin\":true,\"zerolinewidth\":2},\"scene\":{\"xaxis\":{\"backgroundcolor\":\"#E5ECF6\",\"gridcolor\":\"white\",\"linecolor\":\"white\",\"showbackground\":true,\"ticks\":\"\",\"zerolinecolor\":\"white\",\"gridwidth\":2},\"yaxis\":{\"backgroundcolor\":\"#E5ECF6\",\"gridcolor\":\"white\",\"linecolor\":\"white\",\"showbackground\":true,\"ticks\":\"\",\"zerolinecolor\":\"white\",\"gridwidth\":2},\"zaxis\":{\"backgroundcolor\":\"#E5ECF6\",\"gridcolor\":\"white\",\"linecolor\":\"white\",\"showbackground\":true,\"ticks\":\"\",\"zerolinecolor\":\"white\",\"gridwidth\":2}},\"shapedefaults\":{\"line\":{\"color\":\"#2a3f5f\"}},\"annotationdefaults\":{\"arrowcolor\":\"#2a3f5f\",\"arrowhead\":0,\"arrowwidth\":1},\"geo\":{\"bgcolor\":\"white\",\"landcolor\":\"#E5ECF6\",\"subunitcolor\":\"white\",\"showland\":true,\"showlakes\":true,\"lakecolor\":\"white\"},\"title\":{\"x\":0.05},\"mapbox\":{\"style\":\"light\"}}},\"scene\":{\"domain\":{\"x\":[0.0,1.0],\"y\":[0.0,1.0]},\"xaxis\":{\"title\":{\"text\":\"sepal_width\"}},\"yaxis\":{\"title\":{\"text\":\"sepal_length\"}},\"zaxis\":{\"title\":{\"text\":\"petal_width\"}}},\"legend\":{\"title\":{\"text\":\"species\"},\"tracegroupgap\":0},\"margin\":{\"t\":60}},                        {\"responsive\": true}                    ).then(function(){\n",
              "                            \n",
              "var gd = document.getElementById('1390d31f-bdbd-4723-a51f-78990587f795');\n",
              "var x = new MutationObserver(function (mutations, observer) {{\n",
              "        var display = window.getComputedStyle(gd).display;\n",
              "        if (!display || display === 'none') {{\n",
              "            console.log([gd, 'removed!']);\n",
              "            Plotly.purge(gd);\n",
              "            observer.disconnect();\n",
              "        }}\n",
              "}});\n",
              "\n",
              "// Listen for the removal of the full notebook cells\n",
              "var notebookContainer = gd.closest('#notebook-container');\n",
              "if (notebookContainer) {{\n",
              "    x.observe(notebookContainer, {childList: true});\n",
              "}}\n",
              "\n",
              "// Listen for the clearing of the current output cell\n",
              "var outputEl = gd.closest('.output');\n",
              "if (outputEl) {{\n",
              "    x.observe(outputEl, {childList: true});\n",
              "}}\n",
              "\n",
              "                        })                };                            </script>        </div>\n",
              "</body>\n",
              "</html>"
            ]
          },
          "metadata": {}
        }
      ]
    },
    {
      "cell_type": "markdown",
      "source": [
        "And finally we can represent and classify the data using 3D plots. However this the hard limit of data visualizing. Since humans can't see dimensions 4 and above. So we can use Principal Component Analysis to pick the best components(1,2,3) to represent the data. "
      ],
      "metadata": {
        "id": "q2GFh_y70opu"
      }
    },
    {
      "cell_type": "markdown",
      "source": [
        "# Classification using PCA"
      ],
      "metadata": {
        "id": "tkYkPtB25xbk"
      }
    },
    {
      "cell_type": "markdown",
      "source": [
        "## <h2 align=\"center\" id = '2'><font color='green'>Mathematical Explanation of PCA</h2>"
      ],
      "metadata": {
        "id": "1Uk7YQ5s8riX"
      }
    },
    {
      "cell_type": "markdown",
      "source": [
        "It's important to understant the mathematics behind a Algorithm to understand the usability of the dataset. Unfortunately this concept is complex and can't be explained using the written word alone. I find the channel [StatQuest](https://www.youtube.com/channel/UCtYLUTtgS3k1Fg4y5tAhLbw) is able to explain this concept quite well in the following video.\n",
        "\n",
        "[PCA step-by-step](https://www.youtube.com/watch?v=FgakZw6K1QQ)"
      ],
      "metadata": {
        "id": "z8nxwl_lDTgK"
      }
    },
    {
      "cell_type": "markdown",
      "source": [
        "## <h2 align=\"center\" id = '3'><font color='green'>PCA with Python</h2>"
      ],
      "metadata": {
        "id": "t6nKrRhcK_yv"
      }
    },
    {
      "cell_type": "markdown",
      "source": [
        "We wil use scikit-learn's library to make a component analysis of our 4 dimensional data."
      ],
      "metadata": {
        "id": "E_uN2pcqLL2t"
      }
    },
    {
      "cell_type": "markdown",
      "source": [
        "I will be using a stroke prediction dataset that can be found on [Aishwarya Ramakrishnan's](https://github.com/aishwarya8615) gist repository."
      ],
      "metadata": {
        "id": "OEqok4tLLwH4"
      }
    },
    {
      "cell_type": "code",
      "source": [
        "url = \"https://gist.githubusercontent.com/aishwarya8615/d2107f828d3f904839cbcb7eaa85bd04/raw/cec0340503d82d270821e03254993b6dede60afb/healthcare-dataset-stroke-data.csv\"\n",
        "df = pd.read_csv(url,index_col = 0)\n",
        "df"
      ],
      "metadata": {
        "colab": {
          "base_uri": "https://localhost:8080/",
          "height": 588
        },
        "id": "WXW6IAYiG2O1",
        "outputId": "a76f4690-6c20-4d57-bbb3-536894d1bc10"
      },
      "execution_count": 24,
      "outputs": [
        {
          "output_type": "execute_result",
          "data": {
            "text/plain": [
              "       gender   age  hypertension  heart_disease ever_married      work_type  \\\n",
              "id                                                                             \n",
              "9046     Male  67.0             0              1          Yes        Private   \n",
              "51676  Female  61.0             0              0          Yes  Self-employed   \n",
              "31112    Male  80.0             0              1          Yes        Private   \n",
              "60182  Female  49.0             0              0          Yes        Private   \n",
              "1665   Female  79.0             1              0          Yes  Self-employed   \n",
              "...       ...   ...           ...            ...          ...            ...   \n",
              "18234  Female  80.0             1              0          Yes        Private   \n",
              "44873  Female  81.0             0              0          Yes  Self-employed   \n",
              "19723  Female  35.0             0              0          Yes  Self-employed   \n",
              "37544    Male  51.0             0              0          Yes        Private   \n",
              "44679  Female  44.0             0              0          Yes       Govt_job   \n",
              "\n",
              "      Residence_type  avg_glucose_level   bmi   smoking_status  stroke  \n",
              "id                                                                      \n",
              "9046           Urban             228.69  36.6  formerly smoked       1  \n",
              "51676          Rural             202.21   NaN     never smoked       1  \n",
              "31112          Rural             105.92  32.5     never smoked       1  \n",
              "60182          Urban             171.23  34.4           smokes       1  \n",
              "1665           Rural             174.12  24.0     never smoked       1  \n",
              "...              ...                ...   ...              ...     ...  \n",
              "18234          Urban              83.75   NaN     never smoked       0  \n",
              "44873          Urban             125.20  40.0     never smoked       0  \n",
              "19723          Rural              82.99  30.6     never smoked       0  \n",
              "37544          Rural             166.29  25.6  formerly smoked       0  \n",
              "44679          Urban              85.28  26.2          Unknown       0  \n",
              "\n",
              "[5110 rows x 11 columns]"
            ],
            "text/html": [
              "\n",
              "  <div id=\"df-43ed9cec-8a0a-4f4e-8b18-d18173b7f4fe\">\n",
              "    <div class=\"colab-df-container\">\n",
              "      <div>\n",
              "<style scoped>\n",
              "    .dataframe tbody tr th:only-of-type {\n",
              "        vertical-align: middle;\n",
              "    }\n",
              "\n",
              "    .dataframe tbody tr th {\n",
              "        vertical-align: top;\n",
              "    }\n",
              "\n",
              "    .dataframe thead th {\n",
              "        text-align: right;\n",
              "    }\n",
              "</style>\n",
              "<table border=\"1\" class=\"dataframe\">\n",
              "  <thead>\n",
              "    <tr style=\"text-align: right;\">\n",
              "      <th></th>\n",
              "      <th>gender</th>\n",
              "      <th>age</th>\n",
              "      <th>hypertension</th>\n",
              "      <th>heart_disease</th>\n",
              "      <th>ever_married</th>\n",
              "      <th>work_type</th>\n",
              "      <th>Residence_type</th>\n",
              "      <th>avg_glucose_level</th>\n",
              "      <th>bmi</th>\n",
              "      <th>smoking_status</th>\n",
              "      <th>stroke</th>\n",
              "    </tr>\n",
              "    <tr>\n",
              "      <th>id</th>\n",
              "      <th></th>\n",
              "      <th></th>\n",
              "      <th></th>\n",
              "      <th></th>\n",
              "      <th></th>\n",
              "      <th></th>\n",
              "      <th></th>\n",
              "      <th></th>\n",
              "      <th></th>\n",
              "      <th></th>\n",
              "      <th></th>\n",
              "    </tr>\n",
              "  </thead>\n",
              "  <tbody>\n",
              "    <tr>\n",
              "      <th>9046</th>\n",
              "      <td>Male</td>\n",
              "      <td>67.0</td>\n",
              "      <td>0</td>\n",
              "      <td>1</td>\n",
              "      <td>Yes</td>\n",
              "      <td>Private</td>\n",
              "      <td>Urban</td>\n",
              "      <td>228.69</td>\n",
              "      <td>36.6</td>\n",
              "      <td>formerly smoked</td>\n",
              "      <td>1</td>\n",
              "    </tr>\n",
              "    <tr>\n",
              "      <th>51676</th>\n",
              "      <td>Female</td>\n",
              "      <td>61.0</td>\n",
              "      <td>0</td>\n",
              "      <td>0</td>\n",
              "      <td>Yes</td>\n",
              "      <td>Self-employed</td>\n",
              "      <td>Rural</td>\n",
              "      <td>202.21</td>\n",
              "      <td>NaN</td>\n",
              "      <td>never smoked</td>\n",
              "      <td>1</td>\n",
              "    </tr>\n",
              "    <tr>\n",
              "      <th>31112</th>\n",
              "      <td>Male</td>\n",
              "      <td>80.0</td>\n",
              "      <td>0</td>\n",
              "      <td>1</td>\n",
              "      <td>Yes</td>\n",
              "      <td>Private</td>\n",
              "      <td>Rural</td>\n",
              "      <td>105.92</td>\n",
              "      <td>32.5</td>\n",
              "      <td>never smoked</td>\n",
              "      <td>1</td>\n",
              "    </tr>\n",
              "    <tr>\n",
              "      <th>60182</th>\n",
              "      <td>Female</td>\n",
              "      <td>49.0</td>\n",
              "      <td>0</td>\n",
              "      <td>0</td>\n",
              "      <td>Yes</td>\n",
              "      <td>Private</td>\n",
              "      <td>Urban</td>\n",
              "      <td>171.23</td>\n",
              "      <td>34.4</td>\n",
              "      <td>smokes</td>\n",
              "      <td>1</td>\n",
              "    </tr>\n",
              "    <tr>\n",
              "      <th>1665</th>\n",
              "      <td>Female</td>\n",
              "      <td>79.0</td>\n",
              "      <td>1</td>\n",
              "      <td>0</td>\n",
              "      <td>Yes</td>\n",
              "      <td>Self-employed</td>\n",
              "      <td>Rural</td>\n",
              "      <td>174.12</td>\n",
              "      <td>24.0</td>\n",
              "      <td>never smoked</td>\n",
              "      <td>1</td>\n",
              "    </tr>\n",
              "    <tr>\n",
              "      <th>...</th>\n",
              "      <td>...</td>\n",
              "      <td>...</td>\n",
              "      <td>...</td>\n",
              "      <td>...</td>\n",
              "      <td>...</td>\n",
              "      <td>...</td>\n",
              "      <td>...</td>\n",
              "      <td>...</td>\n",
              "      <td>...</td>\n",
              "      <td>...</td>\n",
              "      <td>...</td>\n",
              "    </tr>\n",
              "    <tr>\n",
              "      <th>18234</th>\n",
              "      <td>Female</td>\n",
              "      <td>80.0</td>\n",
              "      <td>1</td>\n",
              "      <td>0</td>\n",
              "      <td>Yes</td>\n",
              "      <td>Private</td>\n",
              "      <td>Urban</td>\n",
              "      <td>83.75</td>\n",
              "      <td>NaN</td>\n",
              "      <td>never smoked</td>\n",
              "      <td>0</td>\n",
              "    </tr>\n",
              "    <tr>\n",
              "      <th>44873</th>\n",
              "      <td>Female</td>\n",
              "      <td>81.0</td>\n",
              "      <td>0</td>\n",
              "      <td>0</td>\n",
              "      <td>Yes</td>\n",
              "      <td>Self-employed</td>\n",
              "      <td>Urban</td>\n",
              "      <td>125.20</td>\n",
              "      <td>40.0</td>\n",
              "      <td>never smoked</td>\n",
              "      <td>0</td>\n",
              "    </tr>\n",
              "    <tr>\n",
              "      <th>19723</th>\n",
              "      <td>Female</td>\n",
              "      <td>35.0</td>\n",
              "      <td>0</td>\n",
              "      <td>0</td>\n",
              "      <td>Yes</td>\n",
              "      <td>Self-employed</td>\n",
              "      <td>Rural</td>\n",
              "      <td>82.99</td>\n",
              "      <td>30.6</td>\n",
              "      <td>never smoked</td>\n",
              "      <td>0</td>\n",
              "    </tr>\n",
              "    <tr>\n",
              "      <th>37544</th>\n",
              "      <td>Male</td>\n",
              "      <td>51.0</td>\n",
              "      <td>0</td>\n",
              "      <td>0</td>\n",
              "      <td>Yes</td>\n",
              "      <td>Private</td>\n",
              "      <td>Rural</td>\n",
              "      <td>166.29</td>\n",
              "      <td>25.6</td>\n",
              "      <td>formerly smoked</td>\n",
              "      <td>0</td>\n",
              "    </tr>\n",
              "    <tr>\n",
              "      <th>44679</th>\n",
              "      <td>Female</td>\n",
              "      <td>44.0</td>\n",
              "      <td>0</td>\n",
              "      <td>0</td>\n",
              "      <td>Yes</td>\n",
              "      <td>Govt_job</td>\n",
              "      <td>Urban</td>\n",
              "      <td>85.28</td>\n",
              "      <td>26.2</td>\n",
              "      <td>Unknown</td>\n",
              "      <td>0</td>\n",
              "    </tr>\n",
              "  </tbody>\n",
              "</table>\n",
              "<p>5110 rows × 11 columns</p>\n",
              "</div>\n",
              "      <button class=\"colab-df-convert\" onclick=\"convertToInteractive('df-43ed9cec-8a0a-4f4e-8b18-d18173b7f4fe')\"\n",
              "              title=\"Convert this dataframe to an interactive table.\"\n",
              "              style=\"display:none;\">\n",
              "        \n",
              "  <svg xmlns=\"http://www.w3.org/2000/svg\" height=\"24px\"viewBox=\"0 0 24 24\"\n",
              "       width=\"24px\">\n",
              "    <path d=\"M0 0h24v24H0V0z\" fill=\"none\"/>\n",
              "    <path d=\"M18.56 5.44l.94 2.06.94-2.06 2.06-.94-2.06-.94-.94-2.06-.94 2.06-2.06.94zm-11 1L8.5 8.5l.94-2.06 2.06-.94-2.06-.94L8.5 2.5l-.94 2.06-2.06.94zm10 10l.94 2.06.94-2.06 2.06-.94-2.06-.94-.94-2.06-.94 2.06-2.06.94z\"/><path d=\"M17.41 7.96l-1.37-1.37c-.4-.4-.92-.59-1.43-.59-.52 0-1.04.2-1.43.59L10.3 9.45l-7.72 7.72c-.78.78-.78 2.05 0 2.83L4 21.41c.39.39.9.59 1.41.59.51 0 1.02-.2 1.41-.59l7.78-7.78 2.81-2.81c.8-.78.8-2.07 0-2.86zM5.41 20L4 18.59l7.72-7.72 1.47 1.35L5.41 20z\"/>\n",
              "  </svg>\n",
              "      </button>\n",
              "      \n",
              "  <style>\n",
              "    .colab-df-container {\n",
              "      display:flex;\n",
              "      flex-wrap:wrap;\n",
              "      gap: 12px;\n",
              "    }\n",
              "\n",
              "    .colab-df-convert {\n",
              "      background-color: #E8F0FE;\n",
              "      border: none;\n",
              "      border-radius: 50%;\n",
              "      cursor: pointer;\n",
              "      display: none;\n",
              "      fill: #1967D2;\n",
              "      height: 32px;\n",
              "      padding: 0 0 0 0;\n",
              "      width: 32px;\n",
              "    }\n",
              "\n",
              "    .colab-df-convert:hover {\n",
              "      background-color: #E2EBFA;\n",
              "      box-shadow: 0px 1px 2px rgba(60, 64, 67, 0.3), 0px 1px 3px 1px rgba(60, 64, 67, 0.15);\n",
              "      fill: #174EA6;\n",
              "    }\n",
              "\n",
              "    [theme=dark] .colab-df-convert {\n",
              "      background-color: #3B4455;\n",
              "      fill: #D2E3FC;\n",
              "    }\n",
              "\n",
              "    [theme=dark] .colab-df-convert:hover {\n",
              "      background-color: #434B5C;\n",
              "      box-shadow: 0px 1px 3px 1px rgba(0, 0, 0, 0.15);\n",
              "      filter: drop-shadow(0px 1px 2px rgba(0, 0, 0, 0.3));\n",
              "      fill: #FFFFFF;\n",
              "    }\n",
              "  </style>\n",
              "\n",
              "      <script>\n",
              "        const buttonEl =\n",
              "          document.querySelector('#df-43ed9cec-8a0a-4f4e-8b18-d18173b7f4fe button.colab-df-convert');\n",
              "        buttonEl.style.display =\n",
              "          google.colab.kernel.accessAllowed ? 'block' : 'none';\n",
              "\n",
              "        async function convertToInteractive(key) {\n",
              "          const element = document.querySelector('#df-43ed9cec-8a0a-4f4e-8b18-d18173b7f4fe');\n",
              "          const dataTable =\n",
              "            await google.colab.kernel.invokeFunction('convertToInteractive',\n",
              "                                                     [key], {});\n",
              "          if (!dataTable) return;\n",
              "\n",
              "          const docLinkHtml = 'Like what you see? Visit the ' +\n",
              "            '<a target=\"_blank\" href=https://colab.research.google.com/notebooks/data_table.ipynb>data table notebook</a>'\n",
              "            + ' to learn more about interactive tables.';\n",
              "          element.innerHTML = '';\n",
              "          dataTable['output_type'] = 'display_data';\n",
              "          await google.colab.output.renderOutput(dataTable, element);\n",
              "          const docLink = document.createElement('div');\n",
              "          docLink.innerHTML = docLinkHtml;\n",
              "          element.appendChild(docLink);\n",
              "        }\n",
              "      </script>\n",
              "    </div>\n",
              "  </div>\n",
              "  "
            ]
          },
          "metadata": {},
          "execution_count": 24
        }
      ]
    },
    {
      "cell_type": "code",
      "source": [
        "df.info()"
      ],
      "metadata": {
        "colab": {
          "base_uri": "https://localhost:8080/"
        },
        "id": "V5j7x1fVMqb3",
        "outputId": "020d6a22-f9d0-4002-fc42-6f39d6d3b120"
      },
      "execution_count": 25,
      "outputs": [
        {
          "output_type": "stream",
          "name": "stdout",
          "text": [
            "<class 'pandas.core.frame.DataFrame'>\n",
            "Int64Index: 5110 entries, 9046 to 44679\n",
            "Data columns (total 11 columns):\n",
            " #   Column             Non-Null Count  Dtype  \n",
            "---  ------             --------------  -----  \n",
            " 0   gender             5110 non-null   object \n",
            " 1   age                5110 non-null   float64\n",
            " 2   hypertension       5110 non-null   int64  \n",
            " 3   heart_disease      5110 non-null   int64  \n",
            " 4   ever_married       5110 non-null   object \n",
            " 5   work_type          5110 non-null   object \n",
            " 6   Residence_type     5110 non-null   object \n",
            " 7   avg_glucose_level  5110 non-null   float64\n",
            " 8   bmi                4909 non-null   float64\n",
            " 9   smoking_status     5110 non-null   object \n",
            " 10  stroke             5110 non-null   int64  \n",
            "dtypes: float64(3), int64(3), object(5)\n",
            "memory usage: 479.1+ KB\n"
          ]
        }
      ]
    },
    {
      "cell_type": "code",
      "source": [
        "df.describe()"
      ],
      "metadata": {
        "colab": {
          "base_uri": "https://localhost:8080/",
          "height": 300
        },
        "id": "7-riTDgpMt13",
        "outputId": "4f34716f-0d0b-49a4-da30-4863ab178735"
      },
      "execution_count": 26,
      "outputs": [
        {
          "output_type": "execute_result",
          "data": {
            "text/plain": [
              "               age  hypertension  heart_disease  avg_glucose_level  \\\n",
              "count  5110.000000   5110.000000    5110.000000        5110.000000   \n",
              "mean     43.226614      0.097456       0.054012         106.147677   \n",
              "std      22.612647      0.296607       0.226063          45.283560   \n",
              "min       0.080000      0.000000       0.000000          55.120000   \n",
              "25%      25.000000      0.000000       0.000000          77.245000   \n",
              "50%      45.000000      0.000000       0.000000          91.885000   \n",
              "75%      61.000000      0.000000       0.000000         114.090000   \n",
              "max      82.000000      1.000000       1.000000         271.740000   \n",
              "\n",
              "               bmi       stroke  \n",
              "count  4909.000000  5110.000000  \n",
              "mean     28.893237     0.048728  \n",
              "std       7.854067     0.215320  \n",
              "min      10.300000     0.000000  \n",
              "25%      23.500000     0.000000  \n",
              "50%      28.100000     0.000000  \n",
              "75%      33.100000     0.000000  \n",
              "max      97.600000     1.000000  "
            ],
            "text/html": [
              "\n",
              "  <div id=\"df-7d9581cc-15f3-49a1-93f2-0cb78ccfc972\">\n",
              "    <div class=\"colab-df-container\">\n",
              "      <div>\n",
              "<style scoped>\n",
              "    .dataframe tbody tr th:only-of-type {\n",
              "        vertical-align: middle;\n",
              "    }\n",
              "\n",
              "    .dataframe tbody tr th {\n",
              "        vertical-align: top;\n",
              "    }\n",
              "\n",
              "    .dataframe thead th {\n",
              "        text-align: right;\n",
              "    }\n",
              "</style>\n",
              "<table border=\"1\" class=\"dataframe\">\n",
              "  <thead>\n",
              "    <tr style=\"text-align: right;\">\n",
              "      <th></th>\n",
              "      <th>age</th>\n",
              "      <th>hypertension</th>\n",
              "      <th>heart_disease</th>\n",
              "      <th>avg_glucose_level</th>\n",
              "      <th>bmi</th>\n",
              "      <th>stroke</th>\n",
              "    </tr>\n",
              "  </thead>\n",
              "  <tbody>\n",
              "    <tr>\n",
              "      <th>count</th>\n",
              "      <td>5110.000000</td>\n",
              "      <td>5110.000000</td>\n",
              "      <td>5110.000000</td>\n",
              "      <td>5110.000000</td>\n",
              "      <td>4909.000000</td>\n",
              "      <td>5110.000000</td>\n",
              "    </tr>\n",
              "    <tr>\n",
              "      <th>mean</th>\n",
              "      <td>43.226614</td>\n",
              "      <td>0.097456</td>\n",
              "      <td>0.054012</td>\n",
              "      <td>106.147677</td>\n",
              "      <td>28.893237</td>\n",
              "      <td>0.048728</td>\n",
              "    </tr>\n",
              "    <tr>\n",
              "      <th>std</th>\n",
              "      <td>22.612647</td>\n",
              "      <td>0.296607</td>\n",
              "      <td>0.226063</td>\n",
              "      <td>45.283560</td>\n",
              "      <td>7.854067</td>\n",
              "      <td>0.215320</td>\n",
              "    </tr>\n",
              "    <tr>\n",
              "      <th>min</th>\n",
              "      <td>0.080000</td>\n",
              "      <td>0.000000</td>\n",
              "      <td>0.000000</td>\n",
              "      <td>55.120000</td>\n",
              "      <td>10.300000</td>\n",
              "      <td>0.000000</td>\n",
              "    </tr>\n",
              "    <tr>\n",
              "      <th>25%</th>\n",
              "      <td>25.000000</td>\n",
              "      <td>0.000000</td>\n",
              "      <td>0.000000</td>\n",
              "      <td>77.245000</td>\n",
              "      <td>23.500000</td>\n",
              "      <td>0.000000</td>\n",
              "    </tr>\n",
              "    <tr>\n",
              "      <th>50%</th>\n",
              "      <td>45.000000</td>\n",
              "      <td>0.000000</td>\n",
              "      <td>0.000000</td>\n",
              "      <td>91.885000</td>\n",
              "      <td>28.100000</td>\n",
              "      <td>0.000000</td>\n",
              "    </tr>\n",
              "    <tr>\n",
              "      <th>75%</th>\n",
              "      <td>61.000000</td>\n",
              "      <td>0.000000</td>\n",
              "      <td>0.000000</td>\n",
              "      <td>114.090000</td>\n",
              "      <td>33.100000</td>\n",
              "      <td>0.000000</td>\n",
              "    </tr>\n",
              "    <tr>\n",
              "      <th>max</th>\n",
              "      <td>82.000000</td>\n",
              "      <td>1.000000</td>\n",
              "      <td>1.000000</td>\n",
              "      <td>271.740000</td>\n",
              "      <td>97.600000</td>\n",
              "      <td>1.000000</td>\n",
              "    </tr>\n",
              "  </tbody>\n",
              "</table>\n",
              "</div>\n",
              "      <button class=\"colab-df-convert\" onclick=\"convertToInteractive('df-7d9581cc-15f3-49a1-93f2-0cb78ccfc972')\"\n",
              "              title=\"Convert this dataframe to an interactive table.\"\n",
              "              style=\"display:none;\">\n",
              "        \n",
              "  <svg xmlns=\"http://www.w3.org/2000/svg\" height=\"24px\"viewBox=\"0 0 24 24\"\n",
              "       width=\"24px\">\n",
              "    <path d=\"M0 0h24v24H0V0z\" fill=\"none\"/>\n",
              "    <path d=\"M18.56 5.44l.94 2.06.94-2.06 2.06-.94-2.06-.94-.94-2.06-.94 2.06-2.06.94zm-11 1L8.5 8.5l.94-2.06 2.06-.94-2.06-.94L8.5 2.5l-.94 2.06-2.06.94zm10 10l.94 2.06.94-2.06 2.06-.94-2.06-.94-.94-2.06-.94 2.06-2.06.94z\"/><path d=\"M17.41 7.96l-1.37-1.37c-.4-.4-.92-.59-1.43-.59-.52 0-1.04.2-1.43.59L10.3 9.45l-7.72 7.72c-.78.78-.78 2.05 0 2.83L4 21.41c.39.39.9.59 1.41.59.51 0 1.02-.2 1.41-.59l7.78-7.78 2.81-2.81c.8-.78.8-2.07 0-2.86zM5.41 20L4 18.59l7.72-7.72 1.47 1.35L5.41 20z\"/>\n",
              "  </svg>\n",
              "      </button>\n",
              "      \n",
              "  <style>\n",
              "    .colab-df-container {\n",
              "      display:flex;\n",
              "      flex-wrap:wrap;\n",
              "      gap: 12px;\n",
              "    }\n",
              "\n",
              "    .colab-df-convert {\n",
              "      background-color: #E8F0FE;\n",
              "      border: none;\n",
              "      border-radius: 50%;\n",
              "      cursor: pointer;\n",
              "      display: none;\n",
              "      fill: #1967D2;\n",
              "      height: 32px;\n",
              "      padding: 0 0 0 0;\n",
              "      width: 32px;\n",
              "    }\n",
              "\n",
              "    .colab-df-convert:hover {\n",
              "      background-color: #E2EBFA;\n",
              "      box-shadow: 0px 1px 2px rgba(60, 64, 67, 0.3), 0px 1px 3px 1px rgba(60, 64, 67, 0.15);\n",
              "      fill: #174EA6;\n",
              "    }\n",
              "\n",
              "    [theme=dark] .colab-df-convert {\n",
              "      background-color: #3B4455;\n",
              "      fill: #D2E3FC;\n",
              "    }\n",
              "\n",
              "    [theme=dark] .colab-df-convert:hover {\n",
              "      background-color: #434B5C;\n",
              "      box-shadow: 0px 1px 3px 1px rgba(0, 0, 0, 0.15);\n",
              "      filter: drop-shadow(0px 1px 2px rgba(0, 0, 0, 0.3));\n",
              "      fill: #FFFFFF;\n",
              "    }\n",
              "  </style>\n",
              "\n",
              "      <script>\n",
              "        const buttonEl =\n",
              "          document.querySelector('#df-7d9581cc-15f3-49a1-93f2-0cb78ccfc972 button.colab-df-convert');\n",
              "        buttonEl.style.display =\n",
              "          google.colab.kernel.accessAllowed ? 'block' : 'none';\n",
              "\n",
              "        async function convertToInteractive(key) {\n",
              "          const element = document.querySelector('#df-7d9581cc-15f3-49a1-93f2-0cb78ccfc972');\n",
              "          const dataTable =\n",
              "            await google.colab.kernel.invokeFunction('convertToInteractive',\n",
              "                                                     [key], {});\n",
              "          if (!dataTable) return;\n",
              "\n",
              "          const docLinkHtml = 'Like what you see? Visit the ' +\n",
              "            '<a target=\"_blank\" href=https://colab.research.google.com/notebooks/data_table.ipynb>data table notebook</a>'\n",
              "            + ' to learn more about interactive tables.';\n",
              "          element.innerHTML = '';\n",
              "          dataTable['output_type'] = 'display_data';\n",
              "          await google.colab.output.renderOutput(dataTable, element);\n",
              "          const docLink = document.createElement('div');\n",
              "          docLink.innerHTML = docLinkHtml;\n",
              "          element.appendChild(docLink);\n",
              "        }\n",
              "      </script>\n",
              "    </div>\n",
              "  </div>\n",
              "  "
            ]
          },
          "metadata": {},
          "execution_count": 26
        }
      ]
    },
    {
      "cell_type": "code",
      "source": [
        "from imblearn.under_sampling import NearMiss\n",
        "from sklearn.model_selection import train_test_split\n",
        "#display(sns.countplot(df,x = \"stroke\"))\n",
        "cols = [\"age\", \"avg_glucose_level\",\"bmi\",\"hypertension\",\t\"heart_disease\"]\n",
        "undersmaple=NearMiss(version=3, n_neighbors_ver3=3)\n",
        "df.dropna(inplace = True)\n",
        "X_under,y_under=undersmaple.fit_resample(df[cols],df['stroke'])\n",
        "X_under[\"stroke\"] = list(y_under)\n",
        "#train_x,test_x,train_y,test_y=train_test_split(df[cols],df['stroke'],random_state=42,test_size=0.25)\n",
        "#test_x,test_y=smote.fit_resample(test_x,test_y)\n",
        "display(sns.countplot(X_under,x = \"stroke\"))\n",
        "df = X_under"
      ],
      "metadata": {
        "colab": {
          "base_uri": "https://localhost:8080/",
          "height": 296
        },
        "id": "BqzrCCpYMwAb",
        "outputId": "03126bf4-cca8-4187-fc82-e76ca1c55de2"
      },
      "execution_count": 27,
      "outputs": [
        {
          "output_type": "display_data",
          "data": {
            "text/plain": [
              "<Axes: xlabel='stroke', ylabel='count'>"
            ]
          },
          "metadata": {}
        },
        {
          "output_type": "display_data",
          "data": {
            "text/plain": [
              "<Figure size 432x288 with 1 Axes>"
            ],
            "image/png": "[encoded data removed]"
          },
          "metadata": {
            "needs_background": "light"
          }
        }
      ]
    },
    {
      "cell_type": "markdown",
      "source": [
        "We will use the three continous variables age, glucose level and bmi to as inputs to the PCA. But before we continue we will perform a EDA of these variables"
      ],
      "metadata": {
        "id": "mo4OGHPgMlsd"
      }
    },
    {
      "cell_type": "code",
      "source": [
        "print(df['avg_glucose_level'].nunique())# print the number of unique values of age\n",
        "display(px.box(df[\"avg_glucose_level\"]))# print the boxplot of age)\n",
        "display(px.box(data_frame=df , x = 'stroke' , y = 'avg_glucose_level') )\n",
        "display(px.histogram(df, x = \"avg_glucose_level\" , color = \"stroke\"))"
      ],
      "metadata": {
        "colab": {
          "base_uri": "https://localhost:8080/",
          "height": 1000
        },
        "id": "-MWqy2wg58gE",
        "outputId": "b53fa965-3fd9-4455-8abc-5094984f197c"
      },
      "execution_count": 28,
      "outputs": [
        {
          "output_type": "stream",
          "name": "stdout",
          "text": [
            "416\n"
          ]
        },
        {
          "output_type": "display_data",
          "data": {
            "text/html": [
              "<html>\n",
              "<head><meta charset=\"utf-8\" /></head>\n",
              "<body>\n",
              "    <div>            <script src=\"https://cdnjs.cloudflare.com/ajax/libs/mathjax/2.7.5/MathJax.js?config=TeX-AMS-MML_SVG\"></script><script type=\"text/javascript\">if (window.MathJax && window.MathJax.Hub && window.MathJax.Hub.Config) {window.MathJax.Hub.Config({SVG: {font: \"STIX-Web\"}});}</script>                <script type=\"text/javascript\">window.PlotlyConfig = {MathJaxConfig: 'local'};</script>\n",
              "        <script src=\"https://cdn.plot.ly/plotly-2.18.2.min.js\"></script>                <div id=\"b19aeff5-9c4a-4ca0-8c5f-2d8aad20db79\" class=\"plotly-graph-div\" style=\"height:525px; width:100%;\"></div>            <script type=\"text/javascript\">                                    window.PLOTLYENV=window.PLOTLYENV || {};                                    if (document.getElementById(\"b19aeff5-9c4a-4ca0-8c5f-2d8aad20db79\")) {                    Plotly.newPlot(                        \"b19aeff5-9c4a-4ca0-8c5f-2d8aad20db79\",                        [{\"alignmentgroup\":\"True\",\"hovertemplate\":\"variable=%{x}<br>value=%{y}<extra></extra>\",\"legendgroup\":\"\",\"marker\":{\"color\":\"#636efa\"},\"name\":\"\",\"notched\":false,\"offsetgroup\":\"\",\"orientation\":\"v\",\"showlegend\":false,\"x\":[\"avg_glucose_level\",\"avg_glucose_level\",\"avg_glucose_level\",\"avg_glucose_level\",\"avg_glucose_level\",\"avg_glucose_level\",\"avg_glucose_level\",\"avg_glucose_level\",\"avg_glucose_level\",\"avg_glucose_level\",\"avg_glucose_level\",\"avg_glucose_level\",\"avg_glucose_level\",\"avg_glucose_level\",\"avg_glucose_level\",\"avg_glucose_level\",\"avg_glucose_level\",\"avg_glucose_level\",\"avg_glucose_level\",\"avg_glucose_level\",\"avg_glucose_level\",\"avg_glucose_level\",\"avg_glucose_level\",\"avg_glucose_level\",\"avg_glucose_level\",\"avg_glucose_level\",\"avg_glucose_level\",\"avg_glucose_level\",\"avg_glucose_level\",\"avg_glucose_level\",\"avg_glucose_level\",\"avg_glucose_level\",\"avg_glucose_level\",\"avg_glucose_level\",\"avg_glucose_level\",\"avg_glucose_level\",\"avg_glucose_level\",\"avg_glucose_level\",\"avg_glucose_level\",\"avg_glucose_level\",\"avg_glucose_level\",\"avg_glucose_level\",\"avg_glucose_level\",\"avg_glucose_level\",\"avg_glucose_level\",\"avg_glucose_level\",\"avg_glucose_level\",\"avg_glucose_level\",\"avg_glucose_level\",\"avg_glucose_level\",\"avg_glucose_level\",\"avg_glucose_level\",\"avg_glucose_level\",\"avg_glucose_level\",\"avg_glucose_level\",\"avg_glucose_level\",\"avg_glucose_level\",\"avg_glucose_level\",\"avg_glucose_level\",\"avg_glucose_level\",\"avg_glucose_level\",\"avg_glucose_level\",\"avg_glucose_level\",\"avg_glucose_level\",\"avg_glucose_level\",\"avg_glucose_level\",\"avg_glucose_level\",\"avg_glucose_level\",\"avg_glucose_level\",\"avg_glucose_level\",\"avg_glucose_level\",\"avg_glucose_level\",\"avg_glucose_level\",\"avg_glucose_level\",\"avg_glucose_level\",\"avg_glucose_level\",\"avg_glucose_level\",\"avg_glucose_level\",\"avg_glucose_level\",\"avg_glucose_level\",\"avg_glucose_level\",\"avg_glucose_level\",\"avg_glucose_level\",\"avg_glucose_level\",\"avg_glucose_level\",\"avg_glucose_level\",\"avg_glucose_level\",\"avg_glucose_level\",\"avg_glucose_level\",\"avg_glucose_level\",\"avg_glucose_level\",\"avg_glucose_level\",\"avg_glucose_level\",\"avg_glucose_level\",\"avg_glucose_level\",\"avg_glucose_level\",\"avg_glucose_level\",\"avg_glucose_level\",\"avg_glucose_level\",\"avg_glucose_level\",\"avg_glucose_level\",\"avg_glucose_level\",\"avg_glucose_level\",\"avg_glucose_level\",\"avg_glucose_level\",\"avg_glucose_level\",\"avg_glucose_level\",\"avg_glucose_level\",\"avg_glucose_level\",\"avg_glucose_level\",\"avg_glucose_level\",\"avg_glucose_level\",\"avg_glucose_level\",\"avg_glucose_level\",\"avg_glucose_level\",\"avg_glucose_level\",\"avg_glucose_level\",\"avg_glucose_level\",\"avg_glucose_level\",\"avg_glucose_level\",\"avg_glucose_level\",\"avg_glucose_level\",\"avg_glucose_level\",\"avg_glucose_level\",\"avg_glucose_level\",\"avg_glucose_level\",\"avg_glucose_level\",\"avg_glucose_level\",\"avg_glucose_level\",\"avg_glucose_level\",\"avg_glucose_level\",\"avg_glucose_level\",\"avg_glucose_level\",\"avg_glucose_level\",\"avg_glucose_level\",\"avg_glucose_level\",\"avg_glucose_level\",\"avg_glucose_level\",\"avg_glucose_level\",\"avg_glucose_level\",\"avg_glucose_level\",\"avg_glucose_level\",\"avg_glucose_level\",\"avg_glucose_level\",\"avg_glucose_level\",\"avg_glucose_level\",\"avg_glucose_level\",\"avg_glucose_level\",\"avg_glucose_level\",\"avg_glucose_level\",\"avg_glucose_level\",\"avg_glucose_level\",\"avg_glucose_level\",\"avg_glucose_level\",\"avg_glucose_level\",\"avg_glucose_level\",\"avg_glucose_level\",\"avg_glucose_level\",\"avg_glucose_level\",\"avg_glucose_level\",\"avg_glucose_level\",\"avg_glucose_level\",\"avg_glucose_level\",\"avg_glucose_level\",\"avg_glucose_level\",\"avg_glucose_level\",\"avg_glucose_level\",\"avg_glucose_level\",\"avg_glucose_level\",\"avg_glucose_level\",\"avg_glucose_level\",\"avg_glucose_level\",\"avg_glucose_level\",\"avg_glucose_level\",\"avg_glucose_level\",\"avg_glucose_level\",\"avg_glucose_level\",\"avg_glucose_level\",\"avg_glucose_level\",\"avg_glucose_level\",\"avg_glucose_level\",\"avg_glucose_level\",\"avg_glucose_level\",\"avg_glucose_level\",\"avg_glucose_level\",\"avg_glucose_level\",\"avg_glucose_level\",\"avg_glucose_level\",\"avg_glucose_level\",\"avg_glucose_level\",\"avg_glucose_level\",\"avg_glucose_level\",\"avg_glucose_level\",\"avg_glucose_level\",\"avg_glucose_level\",\"avg_glucose_level\",\"avg_glucose_level\",\"avg_glucose_level\",\"avg_glucose_level\",\"avg_glucose_level\",\"avg_glucose_level\",\"avg_glucose_level\",\"avg_glucose_level\",\"avg_glucose_level\",\"avg_glucose_level\",\"avg_glucose_level\",\"avg_glucose_level\",\"avg_glucose_level\",\"avg_glucose_level\",\"avg_glucose_level\",\"avg_glucose_level\",\"avg_glucose_level\",\"avg_glucose_level\",\"avg_glucose_level\",\"avg_glucose_level\",\"avg_glucose_level\",\"avg_glucose_level\",\"avg_glucose_level\",\"avg_glucose_level\",\"avg_glucose_level\",\"avg_glucose_level\",\"avg_glucose_level\",\"avg_glucose_level\",\"avg_glucose_level\",\"avg_glucose_level\",\"avg_glucose_level\",\"avg_glucose_level\",\"avg_glucose_level\",\"avg_glucose_level\",\"avg_glucose_level\",\"avg_glucose_level\",\"avg_glucose_level\",\"avg_glucose_level\",\"avg_glucose_level\",\"avg_glucose_level\",\"avg_glucose_level\",\"avg_glucose_level\",\"avg_glucose_level\",\"avg_glucose_level\",\"avg_glucose_level\",\"avg_glucose_level\",\"avg_glucose_level\",\"avg_glucose_level\",\"avg_glucose_level\",\"avg_glucose_level\",\"avg_glucose_level\",\"avg_glucose_level\",\"avg_glucose_level\",\"avg_glucose_level\",\"avg_glucose_level\",\"avg_glucose_level\",\"avg_glucose_level\",\"avg_glucose_level\",\"avg_glucose_level\",\"avg_glucose_level\",\"avg_glucose_level\",\"avg_glucose_level\",\"avg_glucose_level\",\"avg_glucose_level\",\"avg_glucose_level\",\"avg_glucose_level\",\"avg_glucose_level\",\"avg_glucose_level\",\"avg_glucose_level\",\"avg_glucose_level\",\"avg_glucose_level\",\"avg_glucose_level\",\"avg_glucose_level\",\"avg_glucose_level\",\"avg_glucose_level\",\"avg_glucose_level\",\"avg_glucose_level\",\"avg_glucose_level\",\"avg_glucose_level\",\"avg_glucose_level\",\"avg_glucose_level\",\"avg_glucose_level\",\"avg_glucose_level\",\"avg_glucose_level\",\"avg_glucose_level\",\"avg_glucose_level\",\"avg_glucose_level\",\"avg_glucose_level\",\"avg_glucose_level\",\"avg_glucose_level\",\"avg_glucose_level\",\"avg_glucose_level\",\"avg_glucose_level\",\"avg_glucose_level\",\"avg_glucose_level\",\"avg_glucose_level\",\"avg_glucose_level\",\"avg_glucose_level\",\"avg_glucose_level\",\"avg_glucose_level\",\"avg_glucose_level\",\"avg_glucose_level\",\"avg_glucose_level\",\"avg_glucose_level\",\"avg_glucose_level\",\"avg_glucose_level\",\"avg_glucose_level\",\"avg_glucose_level\",\"avg_glucose_level\",\"avg_glucose_level\",\"avg_glucose_level\",\"avg_glucose_level\",\"avg_glucose_level\",\"avg_glucose_level\",\"avg_glucose_level\",\"avg_glucose_level\",\"avg_glucose_level\",\"avg_glucose_level\",\"avg_glucose_level\",\"avg_glucose_level\",\"avg_glucose_level\",\"avg_glucose_level\",\"avg_glucose_level\",\"avg_glucose_level\",\"avg_glucose_level\",\"avg_glucose_level\",\"avg_glucose_level\",\"avg_glucose_level\",\"avg_glucose_level\",\"avg_glucose_level\",\"avg_glucose_level\",\"avg_glucose_level\",\"avg_glucose_level\",\"avg_glucose_level\",\"avg_glucose_level\",\"avg_glucose_level\",\"avg_glucose_level\",\"avg_glucose_level\",\"avg_glucose_level\",\"avg_glucose_level\",\"avg_glucose_level\",\"avg_glucose_level\",\"avg_glucose_level\",\"avg_glucose_level\",\"avg_glucose_level\",\"avg_glucose_level\",\"avg_glucose_level\",\"avg_glucose_level\",\"avg_glucose_level\",\"avg_glucose_level\",\"avg_glucose_level\",\"avg_glucose_level\",\"avg_glucose_level\",\"avg_glucose_level\",\"avg_glucose_level\",\"avg_glucose_level\",\"avg_glucose_level\",\"avg_glucose_level\",\"avg_glucose_level\",\"avg_glucose_level\",\"avg_glucose_level\",\"avg_glucose_level\",\"avg_glucose_level\",\"avg_glucose_level\",\"avg_glucose_level\",\"avg_glucose_level\",\"avg_glucose_level\",\"avg_glucose_level\",\"avg_glucose_level\",\"avg_glucose_level\",\"avg_glucose_level\",\"avg_glucose_level\",\"avg_glucose_level\",\"avg_glucose_level\",\"avg_glucose_level\",\"avg_glucose_level\",\"avg_glucose_level\",\"avg_glucose_level\",\"avg_glucose_level\",\"avg_glucose_level\",\"avg_glucose_level\",\"avg_glucose_level\",\"avg_glucose_level\",\"avg_glucose_level\",\"avg_glucose_level\",\"avg_glucose_level\",\"avg_glucose_level\",\"avg_glucose_level\",\"avg_glucose_level\",\"avg_glucose_level\",\"avg_glucose_level\",\"avg_glucose_level\",\"avg_glucose_level\",\"avg_glucose_level\",\"avg_glucose_level\",\"avg_glucose_level\",\"avg_glucose_level\",\"avg_glucose_level\",\"avg_glucose_level\",\"avg_glucose_level\",\"avg_glucose_level\",\"avg_glucose_level\",\"avg_glucose_level\",\"avg_glucose_level\",\"avg_glucose_level\",\"avg_glucose_level\",\"avg_glucose_level\",\"avg_glucose_level\",\"avg_glucose_level\",\"avg_glucose_level\",\"avg_glucose_level\",\"avg_glucose_level\",\"avg_glucose_level\",\"avg_glucose_level\",\"avg_glucose_level\",\"avg_glucose_level\",\"avg_glucose_level\",\"avg_glucose_level\",\"avg_glucose_level\",\"avg_glucose_level\",\"avg_glucose_level\",\"avg_glucose_level\",\"avg_glucose_level\"],\"x0\":\" \",\"xaxis\":\"x\",\"y\":[140.93,60.37,140.08,59.99,143.15,61.01,218.1,261.67,221.08,254.63,263.56,58.72,219.7,183.87,232.64,158.9,57.38,140.96,161.95,206.66,152.84,267.61,228.26,153.6,240.86,247.69,220.47,231.72,151.3,221.8,164.77,140.07,251.46,60.13,148.91,267.6,247.48,168.68,136.18,193.87,192.16,225.35,242.3,251.99,247.97,169.43,159.39,239.95,98.12,60.6,177.56,178.29,142.63,237.15,182.9,182.22,212.92,173.14,74.88,244.3,222.6,97.49,84.56,98.37,219.53,77.01,135.32,222.46,180.76,237.21,180.63,216.19,176.71,228.42,173.9,60.98,75.82,98.14,202.21,236.04,204.17,63.61,213.92,199.78,185.28,239.82,78.43,145.03,166.29,179.67,85.68,236.14,73.0,86.37,74.16,215.92,228.2,204.77,170.22,211.12,163.02,215.72,220.24,109.27,122.73,242.62,183.34,58.95,185.31,163.82,209.5,96.0,209.26,57.57,206.49,227.1,207.79,203.57,110.36,189.88,203.44,134.65,240.81,68.34,137.74,57.42,59.31,189.44,243.53,233.59,203.16,173.96,219.5,143.47,109.51,211.35,209.5,58.51,125.32,58.71,212.87,239.52,74.8,64.15,123.87,208.78,191.33,61.36,62.66,211.49,123.95,174.54,60.35,123.49,226.84,201.07,250.8,78.18,210.0,70.19,181.23,89.06,117.77,108.35,123.36,92.21,225.47,223.9,236.84,182.2,63.57,97.93,194.53,193.61,178.89,87.93,66.46,63.71,92.81,205.23,214.45,206.62,108.62,112.95,228.92,86.05,190.7,67.9,95.36,71.15,63.73,67.02,106.65,203.01,93.73,59.93,93.9,95.62,117.63,59.68,105.95,104.79,71.38,69.01,128.72,65.5,92.59,63.01,77.08,228.69,105.92,171.23,174.12,186.21,70.09,94.39,58.57,80.43,120.46,104.51,214.09,167.41,191.61,221.29,89.22,193.94,233.29,228.7,208.3,102.87,104.12,100.98,195.23,212.08,83.41,196.92,252.72,84.2,84.03,219.72,74.63,92.62,60.91,78.03,71.22,144.9,213.03,243.58,107.26,99.33,58.09,127.29,124.13,196.71,59.32,194.99,180.93,185.17,74.9,61.94,93.72,113.01,221.58,104.47,86.23,72.67,179.12,116.55,228.56,96.59,66.72,240.09,110.85,143.43,96.16,88.92,79.79,96.97,111.81,59.35,86.94,98.55,226.98,72.81,68.02,68.56,64.14,235.63,76.34,240.59,78.92,82.81,74.1,190.32,231.61,78.7,110.52,73.18,191.82,93.05,64.17,129.98,68.53,224.1,82.1,216.94,76.11,72.96,82.28,105.22,59.86,62.55,259.63,249.31,131.41,73.54,200.59,190.14,130.54,182.99,206.09,263.32,140.1,207.28,194.37,199.2,103.68,116.44,70.28,72.17,221.79,151.16,67.29,67.41,239.07,223.83,76.57,77.82,92.98,231.56,102.16,221.89,195.71,74.02,203.87,89.13,133.19,162.23,98.02,91.54,97.43,91.02,185.49,64.44,56.11,213.22,78.18,111.04,76.13,112.24,137.3,116.69,215.94,86.62,205.77,112.16,118.03,271.74,97.92,200.62,242.52,93.81,74.96,175.29,90.0,109.47,87.85,106.74,80.13,90.19,134.8,106.58,83.24,103.43,208.65,74.11,95.84,205.33,116.1,210.4,219.73,250.89,72.73,205.35,70.3,104.86,216.58,184.4,97.76,66.03,81.95,97.73,70.94,199.84,218.46,211.06,86.3,162.14,88.2,91.92,76.46,197.28,233.94,247.51,84.96,57.93,78.8,78.81],\"y0\":\" \",\"yaxis\":\"y\",\"type\":\"box\"}],                        {\"template\":{\"data\":{\"histogram2dcontour\":[{\"type\":\"histogram2dcontour\",\"colorbar\":{\"outlinewidth\":0,\"ticks\":\"\"},\"colorscale\":[[0.0,\"#0d0887\"],[0.1111111111111111,\"#46039f\"],[0.2222222222222222,\"#7201a8\"],[0.3333333333333333,\"#9c179e\"],[0.4444444444444444,\"#bd3786\"],[0.5555555555555556,\"#d8576b\"],[0.6666666666666666,\"#ed7953\"],[0.7777777777777778,\"#fb9f3a\"],[0.8888888888888888,\"#fdca26\"],[1.0,\"#f0f921\"]]}],\"choropleth\":[{\"type\":\"choropleth\",\"colorbar\":{\"outlinewidth\":0,\"ticks\":\"\"}}],\"histogram2d\":[{\"type\":\"histogram2d\",\"colorbar\":{\"outlinewidth\":0,\"ticks\":\"\"},\"colorscale\":[[0.0,\"#0d0887\"],[0.1111111111111111,\"#46039f\"],[0.2222222222222222,\"#7201a8\"],[0.3333333333333333,\"#9c179e\"],[0.4444444444444444,\"#bd3786\"],[0.5555555555555556,\"#d8576b\"],[0.6666666666666666,\"#ed7953\"],[0.7777777777777778,\"#fb9f3a\"],[0.8888888888888888,\"#fdca26\"],[1.0,\"#f0f921\"]]}],\"heatmap\":[{\"type\":\"heatmap\",\"colorbar\":{\"outlinewidth\":0,\"ticks\":\"\"},\"colorscale\":[[0.0,\"#0d0887\"],[0.1111111111111111,\"#46039f\"],[0.2222222222222222,\"#7201a8\"],[0.3333333333333333,\"#9c179e\"],[0.4444444444444444,\"#bd3786\"],[0.5555555555555556,\"#d8576b\"],[0.6666666666666666,\"#ed7953\"],[0.7777777777777778,\"#fb9f3a\"],[0.8888888888888888,\"#fdca26\"],[1.0,\"#f0f921\"]]}],\"heatmapgl\":[{\"type\":\"heatmapgl\",\"colorbar\":{\"outlinewidth\":0,\"ticks\":\"\"},\"colorscale\":[[0.0,\"#0d0887\"],[0.1111111111111111,\"#46039f\"],[0.2222222222222222,\"#7201a8\"],[0.3333333333333333,\"#9c179e\"],[0.4444444444444444,\"#bd3786\"],[0.5555555555555556,\"#d8576b\"],[0.6666666666666666,\"#ed7953\"],[0.7777777777777778,\"#fb9f3a\"],[0.8888888888888888,\"#fdca26\"],[1.0,\"#f0f921\"]]}],\"contourcarpet\":[{\"type\":\"contourcarpet\",\"colorbar\":{\"outlinewidth\":0,\"ticks\":\"\"}}],\"contour\":[{\"type\":\"contour\",\"colorbar\":{\"outlinewidth\":0,\"ticks\":\"\"},\"colorscale\":[[0.0,\"#0d0887\"],[0.1111111111111111,\"#46039f\"],[0.2222222222222222,\"#7201a8\"],[0.3333333333333333,\"#9c179e\"],[0.4444444444444444,\"#bd3786\"],[0.5555555555555556,\"#d8576b\"],[0.6666666666666666,\"#ed7953\"],[0.7777777777777778,\"#fb9f3a\"],[0.8888888888888888,\"#fdca26\"],[1.0,\"#f0f921\"]]}],\"surface\":[{\"type\":\"surface\",\"colorbar\":{\"outlinewidth\":0,\"ticks\":\"\"},\"colorscale\":[[0.0,\"#0d0887\"],[0.1111111111111111,\"#46039f\"],[0.2222222222222222,\"#7201a8\"],[0.3333333333333333,\"#9c179e\"],[0.4444444444444444,\"#bd3786\"],[0.5555555555555556,\"#d8576b\"],[0.6666666666666666,\"#ed7953\"],[0.7777777777777778,\"#fb9f3a\"],[0.8888888888888888,\"#fdca26\"],[1.0,\"#f0f921\"]]}],\"mesh3d\":[{\"type\":\"mesh3d\",\"colorbar\":{\"outlinewidth\":0,\"ticks\":\"\"}}],\"scatter\":[{\"fillpattern\":{\"fillmode\":\"overlay\",\"size\":10,\"solidity\":0.2},\"type\":\"scatter\"}],\"parcoords\":[{\"type\":\"parcoords\",\"line\":{\"colorbar\":{\"outlinewidth\":0,\"ticks\":\"\"}}}],\"scatterpolargl\":[{\"type\":\"scatterpolargl\",\"marker\":{\"colorbar\":{\"outlinewidth\":0,\"ticks\":\"\"}}}],\"bar\":[{\"error_x\":{\"color\":\"#2a3f5f\"},\"error_y\":{\"color\":\"#2a3f5f\"},\"marker\":{\"line\":{\"color\":\"#E5ECF6\",\"width\":0.5},\"pattern\":{\"fillmode\":\"overlay\",\"size\":10,\"solidity\":0.2}},\"type\":\"bar\"}],\"scattergeo\":[{\"type\":\"scattergeo\",\"marker\":{\"colorbar\":{\"outlinewidth\":0,\"ticks\":\"\"}}}],\"scatterpolar\":[{\"type\":\"scatterpolar\",\"marker\":{\"colorbar\":{\"outlinewidth\":0,\"ticks\":\"\"}}}],\"histogram\":[{\"marker\":{\"pattern\":{\"fillmode\":\"overlay\",\"size\":10,\"solidity\":0.2}},\"type\":\"histogram\"}],\"scattergl\":[{\"type\":\"scattergl\",\"marker\":{\"colorbar\":{\"outlinewidth\":0,\"ticks\":\"\"}}}],\"scatter3d\":[{\"type\":\"scatter3d\",\"line\":{\"colorbar\":{\"outlinewidth\":0,\"ticks\":\"\"}},\"marker\":{\"colorbar\":{\"outlinewidth\":0,\"ticks\":\"\"}}}],\"scattermapbox\":[{\"type\":\"scattermapbox\",\"marker\":{\"colorbar\":{\"outlinewidth\":0,\"ticks\":\"\"}}}],\"scatterternary\":[{\"type\":\"scatterternary\",\"marker\":{\"colorbar\":{\"outlinewidth\":0,\"ticks\":\"\"}}}],\"scattercarpet\":[{\"type\":\"scattercarpet\",\"marker\":{\"colorbar\":{\"outlinewidth\":0,\"ticks\":\"\"}}}],\"carpet\":[{\"aaxis\":{\"endlinecolor\":\"#2a3f5f\",\"gridcolor\":\"white\",\"linecolor\":\"white\",\"minorgridcolor\":\"white\",\"startlinecolor\":\"#2a3f5f\"},\"baxis\":{\"endlinecolor\":\"#2a3f5f\",\"gridcolor\":\"white\",\"linecolor\":\"white\",\"minorgridcolor\":\"white\",\"startlinecolor\":\"#2a3f5f\"},\"type\":\"carpet\"}],\"table\":[{\"cells\":{\"fill\":{\"color\":\"#EBF0F8\"},\"line\":{\"color\":\"white\"}},\"header\":{\"fill\":{\"color\":\"#C8D4E3\"},\"line\":{\"color\":\"white\"}},\"type\":\"table\"}],\"barpolar\":[{\"marker\":{\"line\":{\"color\":\"#E5ECF6\",\"width\":0.5},\"pattern\":{\"fillmode\":\"overlay\",\"size\":10,\"solidity\":0.2}},\"type\":\"barpolar\"}],\"pie\":[{\"automargin\":true,\"type\":\"pie\"}]},\"layout\":{\"autotypenumbers\":\"strict\",\"colorway\":[\"#636efa\",\"#EF553B\",\"#00cc96\",\"#ab63fa\",\"#FFA15A\",\"#19d3f3\",\"#FF6692\",\"#B6E880\",\"#FF97FF\",\"#FECB52\"],\"font\":{\"color\":\"#2a3f5f\"},\"hovermode\":\"closest\",\"hoverlabel\":{\"align\":\"left\"},\"paper_bgcolor\":\"white\",\"plot_bgcolor\":\"#E5ECF6\",\"polar\":{\"bgcolor\":\"#E5ECF6\",\"angularaxis\":{\"gridcolor\":\"white\",\"linecolor\":\"white\",\"ticks\":\"\"},\"radialaxis\":{\"gridcolor\":\"white\",\"linecolor\":\"white\",\"ticks\":\"\"}},\"ternary\":{\"bgcolor\":\"#E5ECF6\",\"aaxis\":{\"gridcolor\":\"white\",\"linecolor\":\"white\",\"ticks\":\"\"},\"baxis\":{\"gridcolor\":\"white\",\"linecolor\":\"white\",\"ticks\":\"\"},\"caxis\":{\"gridcolor\":\"white\",\"linecolor\":\"white\",\"ticks\":\"\"}},\"coloraxis\":{\"colorbar\":{\"outlinewidth\":0,\"ticks\":\"\"}},\"colorscale\":{\"sequential\":[[0.0,\"#0d0887\"],[0.1111111111111111,\"#46039f\"],[0.2222222222222222,\"#7201a8\"],[0.3333333333333333,\"#9c179e\"],[0.4444444444444444,\"#bd3786\"],[0.5555555555555556,\"#d8576b\"],[0.6666666666666666,\"#ed7953\"],[0.7777777777777778,\"#fb9f3a\"],[0.8888888888888888,\"#fdca26\"],[1.0,\"#f0f921\"]],\"sequentialminus\":[[0.0,\"#0d0887\"],[0.1111111111111111,\"#46039f\"],[0.2222222222222222,\"#7201a8\"],[0.3333333333333333,\"#9c179e\"],[0.4444444444444444,\"#bd3786\"],[0.5555555555555556,\"#d8576b\"],[0.6666666666666666,\"#ed7953\"],[0.7777777777777778,\"#fb9f3a\"],[0.8888888888888888,\"#fdca26\"],[1.0,\"#f0f921\"]],\"diverging\":[[0,\"#8e0152\"],[0.1,\"#c51b7d\"],[0.2,\"#de77ae\"],[0.3,\"#f1b6da\"],[0.4,\"#fde0ef\"],[0.5,\"#f7f7f7\"],[0.6,\"#e6f5d0\"],[0.7,\"#b8e186\"],[0.8,\"#7fbc41\"],[0.9,\"#4d9221\"],[1,\"#276419\"]]},\"xaxis\":{\"gridcolor\":\"white\",\"linecolor\":\"white\",\"ticks\":\"\",\"title\":{\"standoff\":15},\"zerolinecolor\":\"white\",\"automargin\":true,\"zerolinewidth\":2},\"yaxis\":{\"gridcolor\":\"white\",\"linecolor\":\"white\",\"ticks\":\"\",\"title\":{\"standoff\":15},\"zerolinecolor\":\"white\",\"automargin\":true,\"zerolinewidth\":2},\"scene\":{\"xaxis\":{\"backgroundcolor\":\"#E5ECF6\",\"gridcolor\":\"white\",\"linecolor\":\"white\",\"showbackground\":true,\"ticks\":\"\",\"zerolinecolor\":\"white\",\"gridwidth\":2},\"yaxis\":{\"backgroundcolor\":\"#E5ECF6\",\"gridcolor\":\"white\",\"linecolor\":\"white\",\"showbackground\":true,\"ticks\":\"\",\"zerolinecolor\":\"white\",\"gridwidth\":2},\"zaxis\":{\"backgroundcolor\":\"#E5ECF6\",\"gridcolor\":\"white\",\"linecolor\":\"white\",\"showbackground\":true,\"ticks\":\"\",\"zerolinecolor\":\"white\",\"gridwidth\":2}},\"shapedefaults\":{\"line\":{\"color\":\"#2a3f5f\"}},\"annotationdefaults\":{\"arrowcolor\":\"#2a3f5f\",\"arrowhead\":0,\"arrowwidth\":1},\"geo\":{\"bgcolor\":\"white\",\"landcolor\":\"#E5ECF6\",\"subunitcolor\":\"white\",\"showland\":true,\"showlakes\":true,\"lakecolor\":\"white\"},\"title\":{\"x\":0.05},\"mapbox\":{\"style\":\"light\"}}},\"xaxis\":{\"anchor\":\"y\",\"domain\":[0.0,1.0],\"title\":{\"text\":\"variable\"}},\"yaxis\":{\"anchor\":\"x\",\"domain\":[0.0,1.0],\"title\":{\"text\":\"value\"}},\"legend\":{\"tracegroupgap\":0},\"margin\":{\"t\":60},\"boxmode\":\"group\"},                        {\"responsive\": true}                    ).then(function(){\n",
              "                            \n",
              "var gd = document.getElementById('b19aeff5-9c4a-4ca0-8c5f-2d8aad20db79');\n",
              "var x = new MutationObserver(function (mutations, observer) {{\n",
              "        var display = window.getComputedStyle(gd).display;\n",
              "        if (!display || display === 'none') {{\n",
              "            console.log([gd, 'removed!']);\n",
              "            Plotly.purge(gd);\n",
              "            observer.disconnect();\n",
              "        }}\n",
              "}});\n",
              "\n",
              "// Listen for the removal of the full notebook cells\n",
              "var notebookContainer = gd.closest('#notebook-container');\n",
              "if (notebookContainer) {{\n",
              "    x.observe(notebookContainer, {childList: true});\n",
              "}}\n",
              "\n",
              "// Listen for the clearing of the current output cell\n",
              "var outputEl = gd.closest('.output');\n",
              "if (outputEl) {{\n",
              "    x.observe(outputEl, {childList: true});\n",
              "}}\n",
              "\n",
              "                        })                };                            </script>        </div>\n",
              "</body>\n",
              "</html>"
            ]
          },
          "metadata": {}
        },
        {
          "output_type": "display_data",
          "data": {
            "text/html": [
              "<html>\n",
              "<head><meta charset=\"utf-8\" /></head>\n",
              "<body>\n",
              "    <div>            <script src=\"https://cdnjs.cloudflare.com/ajax/libs/mathjax/2.7.5/MathJax.js?config=TeX-AMS-MML_SVG\"></script><script type=\"text/javascript\">if (window.MathJax && window.MathJax.Hub && window.MathJax.Hub.Config) {window.MathJax.Hub.Config({SVG: {font: \"STIX-Web\"}});}</script>                <script type=\"text/javascript\">window.PlotlyConfig = {MathJaxConfig: 'local'};</script>\n",
              "        <script src=\"https://cdn.plot.ly/plotly-2.18.2.min.js\"></script>                <div id=\"57ef74e9-1c5d-4724-9054-39197e411e27\" class=\"plotly-graph-div\" style=\"height:525px; width:100%;\"></div>            <script type=\"text/javascript\">                                    window.PLOTLYENV=window.PLOTLYENV || {};                                    if (document.getElementById(\"57ef74e9-1c5d-4724-9054-39197e411e27\")) {                    Plotly.newPlot(                        \"57ef74e9-1c5d-4724-9054-39197e411e27\",                        [{\"alignmentgroup\":\"True\",\"hovertemplate\":\"stroke=%{x}<br>avg_glucose_level=%{y}<extra></extra>\",\"legendgroup\":\"\",\"marker\":{\"color\":\"#636efa\"},\"name\":\"\",\"notched\":false,\"offsetgroup\":\"\",\"orientation\":\"v\",\"showlegend\":false,\"x\":[0,0,0,0,0,0,0,0,0,0,0,0,0,0,0,0,0,0,0,0,0,0,0,0,0,0,0,0,0,0,0,0,0,0,0,0,0,0,0,0,0,0,0,0,0,0,0,0,0,0,0,0,0,0,0,0,0,0,0,0,0,0,0,0,0,0,0,0,0,0,0,0,0,0,0,0,0,0,0,0,0,0,0,0,0,0,0,0,0,0,0,0,0,0,0,0,0,0,0,0,0,0,0,0,0,0,0,0,0,0,0,0,0,0,0,0,0,0,0,0,0,0,0,0,0,0,0,0,0,0,0,0,0,0,0,0,0,0,0,0,0,0,0,0,0,0,0,0,0,0,0,0,0,0,0,0,0,0,0,0,0,0,0,0,0,0,0,0,0,0,0,0,0,0,0,0,0,0,0,0,0,0,0,0,0,0,0,0,0,0,0,0,0,0,0,0,0,0,0,0,0,0,0,0,0,0,0,0,0,1,1,1,1,1,1,1,1,1,1,1,1,1,1,1,1,1,1,1,1,1,1,1,1,1,1,1,1,1,1,1,1,1,1,1,1,1,1,1,1,1,1,1,1,1,1,1,1,1,1,1,1,1,1,1,1,1,1,1,1,1,1,1,1,1,1,1,1,1,1,1,1,1,1,1,1,1,1,1,1,1,1,1,1,1,1,1,1,1,1,1,1,1,1,1,1,1,1,1,1,1,1,1,1,1,1,1,1,1,1,1,1,1,1,1,1,1,1,1,1,1,1,1,1,1,1,1,1,1,1,1,1,1,1,1,1,1,1,1,1,1,1,1,1,1,1,1,1,1,1,1,1,1,1,1,1,1,1,1,1,1,1,1,1,1,1,1,1,1,1,1,1,1,1,1,1,1,1,1,1,1,1,1,1,1,1,1,1,1,1,1,1,1,1,1,1,1,1,1,1,1,1,1,1,1,1,1,1,1],\"x0\":\" \",\"xaxis\":\"x\",\"y\":[140.93,60.37,140.08,59.99,143.15,61.01,218.1,261.67,221.08,254.63,263.56,58.72,219.7,183.87,232.64,158.9,57.38,140.96,161.95,206.66,152.84,267.61,228.26,153.6,240.86,247.69,220.47,231.72,151.3,221.8,164.77,140.07,251.46,60.13,148.91,267.6,247.48,168.68,136.18,193.87,192.16,225.35,242.3,251.99,247.97,169.43,159.39,239.95,98.12,60.6,177.56,178.29,142.63,237.15,182.9,182.22,212.92,173.14,74.88,244.3,222.6,97.49,84.56,98.37,219.53,77.01,135.32,222.46,180.76,237.21,180.63,216.19,176.71,228.42,173.9,60.98,75.82,98.14,202.21,236.04,204.17,63.61,213.92,199.78,185.28,239.82,78.43,145.03,166.29,179.67,85.68,236.14,73.0,86.37,74.16,215.92,228.2,204.77,170.22,211.12,163.02,215.72,220.24,109.27,122.73,242.62,183.34,58.95,185.31,163.82,209.5,96.0,209.26,57.57,206.49,227.1,207.79,203.57,110.36,189.88,203.44,134.65,240.81,68.34,137.74,57.42,59.31,189.44,243.53,233.59,203.16,173.96,219.5,143.47,109.51,211.35,209.5,58.51,125.32,58.71,212.87,239.52,74.8,64.15,123.87,208.78,191.33,61.36,62.66,211.49,123.95,174.54,60.35,123.49,226.84,201.07,250.8,78.18,210.0,70.19,181.23,89.06,117.77,108.35,123.36,92.21,225.47,223.9,236.84,182.2,63.57,97.93,194.53,193.61,178.89,87.93,66.46,63.71,92.81,205.23,214.45,206.62,108.62,112.95,228.92,86.05,190.7,67.9,95.36,71.15,63.73,67.02,106.65,203.01,93.73,59.93,93.9,95.62,117.63,59.68,105.95,104.79,71.38,69.01,128.72,65.5,92.59,63.01,77.08,228.69,105.92,171.23,174.12,186.21,70.09,94.39,58.57,80.43,120.46,104.51,214.09,167.41,191.61,221.29,89.22,193.94,233.29,228.7,208.3,102.87,104.12,100.98,195.23,212.08,83.41,196.92,252.72,84.2,84.03,219.72,74.63,92.62,60.91,78.03,71.22,144.9,213.03,243.58,107.26,99.33,58.09,127.29,124.13,196.71,59.32,194.99,180.93,185.17,74.9,61.94,93.72,113.01,221.58,104.47,86.23,72.67,179.12,116.55,228.56,96.59,66.72,240.09,110.85,143.43,96.16,88.92,79.79,96.97,111.81,59.35,86.94,98.55,226.98,72.81,68.02,68.56,64.14,235.63,76.34,240.59,78.92,82.81,74.1,190.32,231.61,78.7,110.52,73.18,191.82,93.05,64.17,129.98,68.53,224.1,82.1,216.94,76.11,72.96,82.28,105.22,59.86,62.55,259.63,249.31,131.41,73.54,200.59,190.14,130.54,182.99,206.09,263.32,140.1,207.28,194.37,199.2,103.68,116.44,70.28,72.17,221.79,151.16,67.29,67.41,239.07,223.83,76.57,77.82,92.98,231.56,102.16,221.89,195.71,74.02,203.87,89.13,133.19,162.23,98.02,91.54,97.43,91.02,185.49,64.44,56.11,213.22,78.18,111.04,76.13,112.24,137.3,116.69,215.94,86.62,205.77,112.16,118.03,271.74,97.92,200.62,242.52,93.81,74.96,175.29,90.0,109.47,87.85,106.74,80.13,90.19,134.8,106.58,83.24,103.43,208.65,74.11,95.84,205.33,116.1,210.4,219.73,250.89,72.73,205.35,70.3,104.86,216.58,184.4,97.76,66.03,81.95,97.73,70.94,199.84,218.46,211.06,86.3,162.14,88.2,91.92,76.46,197.28,233.94,247.51,84.96,57.93,78.8,78.81],\"y0\":\" \",\"yaxis\":\"y\",\"type\":\"box\"}],                        {\"template\":{\"data\":{\"histogram2dcontour\":[{\"type\":\"histogram2dcontour\",\"colorbar\":{\"outlinewidth\":0,\"ticks\":\"\"},\"colorscale\":[[0.0,\"#0d0887\"],[0.1111111111111111,\"#46039f\"],[0.2222222222222222,\"#7201a8\"],[0.3333333333333333,\"#9c179e\"],[0.4444444444444444,\"#bd3786\"],[0.5555555555555556,\"#d8576b\"],[0.6666666666666666,\"#ed7953\"],[0.7777777777777778,\"#fb9f3a\"],[0.8888888888888888,\"#fdca26\"],[1.0,\"#f0f921\"]]}],\"choropleth\":[{\"type\":\"choropleth\",\"colorbar\":{\"outlinewidth\":0,\"ticks\":\"\"}}],\"histogram2d\":[{\"type\":\"histogram2d\",\"colorbar\":{\"outlinewidth\":0,\"ticks\":\"\"},\"colorscale\":[[0.0,\"#0d0887\"],[0.1111111111111111,\"#46039f\"],[0.2222222222222222,\"#7201a8\"],[0.3333333333333333,\"#9c179e\"],[0.4444444444444444,\"#bd3786\"],[0.5555555555555556,\"#d8576b\"],[0.6666666666666666,\"#ed7953\"],[0.7777777777777778,\"#fb9f3a\"],[0.8888888888888888,\"#fdca26\"],[1.0,\"#f0f921\"]]}],\"heatmap\":[{\"type\":\"heatmap\",\"colorbar\":{\"outlinewidth\":0,\"ticks\":\"\"},\"colorscale\":[[0.0,\"#0d0887\"],[0.1111111111111111,\"#46039f\"],[0.2222222222222222,\"#7201a8\"],[0.3333333333333333,\"#9c179e\"],[0.4444444444444444,\"#bd3786\"],[0.5555555555555556,\"#d8576b\"],[0.6666666666666666,\"#ed7953\"],[0.7777777777777778,\"#fb9f3a\"],[0.8888888888888888,\"#fdca26\"],[1.0,\"#f0f921\"]]}],\"heatmapgl\":[{\"type\":\"heatmapgl\",\"colorbar\":{\"outlinewidth\":0,\"ticks\":\"\"},\"colorscale\":[[0.0,\"#0d0887\"],[0.1111111111111111,\"#46039f\"],[0.2222222222222222,\"#7201a8\"],[0.3333333333333333,\"#9c179e\"],[0.4444444444444444,\"#bd3786\"],[0.5555555555555556,\"#d8576b\"],[0.6666666666666666,\"#ed7953\"],[0.7777777777777778,\"#fb9f3a\"],[0.8888888888888888,\"#fdca26\"],[1.0,\"#f0f921\"]]}],\"contourcarpet\":[{\"type\":\"contourcarpet\",\"colorbar\":{\"outlinewidth\":0,\"ticks\":\"\"}}],\"contour\":[{\"type\":\"contour\",\"colorbar\":{\"outlinewidth\":0,\"ticks\":\"\"},\"colorscale\":[[0.0,\"#0d0887\"],[0.1111111111111111,\"#46039f\"],[0.2222222222222222,\"#7201a8\"],[0.3333333333333333,\"#9c179e\"],[0.4444444444444444,\"#bd3786\"],[0.5555555555555556,\"#d8576b\"],[0.6666666666666666,\"#ed7953\"],[0.7777777777777778,\"#fb9f3a\"],[0.8888888888888888,\"#fdca26\"],[1.0,\"#f0f921\"]]}],\"surface\":[{\"type\":\"surface\",\"colorbar\":{\"outlinewidth\":0,\"ticks\":\"\"},\"colorscale\":[[0.0,\"#0d0887\"],[0.1111111111111111,\"#46039f\"],[0.2222222222222222,\"#7201a8\"],[0.3333333333333333,\"#9c179e\"],[0.4444444444444444,\"#bd3786\"],[0.5555555555555556,\"#d8576b\"],[0.6666666666666666,\"#ed7953\"],[0.7777777777777778,\"#fb9f3a\"],[0.8888888888888888,\"#fdca26\"],[1.0,\"#f0f921\"]]}],\"mesh3d\":[{\"type\":\"mesh3d\",\"colorbar\":{\"outlinewidth\":0,\"ticks\":\"\"}}],\"scatter\":[{\"fillpattern\":{\"fillmode\":\"overlay\",\"size\":10,\"solidity\":0.2},\"type\":\"scatter\"}],\"parcoords\":[{\"type\":\"parcoords\",\"line\":{\"colorbar\":{\"outlinewidth\":0,\"ticks\":\"\"}}}],\"scatterpolargl\":[{\"type\":\"scatterpolargl\",\"marker\":{\"colorbar\":{\"outlinewidth\":0,\"ticks\":\"\"}}}],\"bar\":[{\"error_x\":{\"color\":\"#2a3f5f\"},\"error_y\":{\"color\":\"#2a3f5f\"},\"marker\":{\"line\":{\"color\":\"#E5ECF6\",\"width\":0.5},\"pattern\":{\"fillmode\":\"overlay\",\"size\":10,\"solidity\":0.2}},\"type\":\"bar\"}],\"scattergeo\":[{\"type\":\"scattergeo\",\"marker\":{\"colorbar\":{\"outlinewidth\":0,\"ticks\":\"\"}}}],\"scatterpolar\":[{\"type\":\"scatterpolar\",\"marker\":{\"colorbar\":{\"outlinewidth\":0,\"ticks\":\"\"}}}],\"histogram\":[{\"marker\":{\"pattern\":{\"fillmode\":\"overlay\",\"size\":10,\"solidity\":0.2}},\"type\":\"histogram\"}],\"scattergl\":[{\"type\":\"scattergl\",\"marker\":{\"colorbar\":{\"outlinewidth\":0,\"ticks\":\"\"}}}],\"scatter3d\":[{\"type\":\"scatter3d\",\"line\":{\"colorbar\":{\"outlinewidth\":0,\"ticks\":\"\"}},\"marker\":{\"colorbar\":{\"outlinewidth\":0,\"ticks\":\"\"}}}],\"scattermapbox\":[{\"type\":\"scattermapbox\",\"marker\":{\"colorbar\":{\"outlinewidth\":0,\"ticks\":\"\"}}}],\"scatterternary\":[{\"type\":\"scatterternary\",\"marker\":{\"colorbar\":{\"outlinewidth\":0,\"ticks\":\"\"}}}],\"scattercarpet\":[{\"type\":\"scattercarpet\",\"marker\":{\"colorbar\":{\"outlinewidth\":0,\"ticks\":\"\"}}}],\"carpet\":[{\"aaxis\":{\"endlinecolor\":\"#2a3f5f\",\"gridcolor\":\"white\",\"linecolor\":\"white\",\"minorgridcolor\":\"white\",\"startlinecolor\":\"#2a3f5f\"},\"baxis\":{\"endlinecolor\":\"#2a3f5f\",\"gridcolor\":\"white\",\"linecolor\":\"white\",\"minorgridcolor\":\"white\",\"startlinecolor\":\"#2a3f5f\"},\"type\":\"carpet\"}],\"table\":[{\"cells\":{\"fill\":{\"color\":\"#EBF0F8\"},\"line\":{\"color\":\"white\"}},\"header\":{\"fill\":{\"color\":\"#C8D4E3\"},\"line\":{\"color\":\"white\"}},\"type\":\"table\"}],\"barpolar\":[{\"marker\":{\"line\":{\"color\":\"#E5ECF6\",\"width\":0.5},\"pattern\":{\"fillmode\":\"overlay\",\"size\":10,\"solidity\":0.2}},\"type\":\"barpolar\"}],\"pie\":[{\"automargin\":true,\"type\":\"pie\"}]},\"layout\":{\"autotypenumbers\":\"strict\",\"colorway\":[\"#636efa\",\"#EF553B\",\"#00cc96\",\"#ab63fa\",\"#FFA15A\",\"#19d3f3\",\"#FF6692\",\"#B6E880\",\"#FF97FF\",\"#FECB52\"],\"font\":{\"color\":\"#2a3f5f\"},\"hovermode\":\"closest\",\"hoverlabel\":{\"align\":\"left\"},\"paper_bgcolor\":\"white\",\"plot_bgcolor\":\"#E5ECF6\",\"polar\":{\"bgcolor\":\"#E5ECF6\",\"angularaxis\":{\"gridcolor\":\"white\",\"linecolor\":\"white\",\"ticks\":\"\"},\"radialaxis\":{\"gridcolor\":\"white\",\"linecolor\":\"white\",\"ticks\":\"\"}},\"ternary\":{\"bgcolor\":\"#E5ECF6\",\"aaxis\":{\"gridcolor\":\"white\",\"linecolor\":\"white\",\"ticks\":\"\"},\"baxis\":{\"gridcolor\":\"white\",\"linecolor\":\"white\",\"ticks\":\"\"},\"caxis\":{\"gridcolor\":\"white\",\"linecolor\":\"white\",\"ticks\":\"\"}},\"coloraxis\":{\"colorbar\":{\"outlinewidth\":0,\"ticks\":\"\"}},\"colorscale\":{\"sequential\":[[0.0,\"#0d0887\"],[0.1111111111111111,\"#46039f\"],[0.2222222222222222,\"#7201a8\"],[0.3333333333333333,\"#9c179e\"],[0.4444444444444444,\"#bd3786\"],[0.5555555555555556,\"#d8576b\"],[0.6666666666666666,\"#ed7953\"],[0.7777777777777778,\"#fb9f3a\"],[0.8888888888888888,\"#fdca26\"],[1.0,\"#f0f921\"]],\"sequentialminus\":[[0.0,\"#0d0887\"],[0.1111111111111111,\"#46039f\"],[0.2222222222222222,\"#7201a8\"],[0.3333333333333333,\"#9c179e\"],[0.4444444444444444,\"#bd3786\"],[0.5555555555555556,\"#d8576b\"],[0.6666666666666666,\"#ed7953\"],[0.7777777777777778,\"#fb9f3a\"],[0.8888888888888888,\"#fdca26\"],[1.0,\"#f0f921\"]],\"diverging\":[[0,\"#8e0152\"],[0.1,\"#c51b7d\"],[0.2,\"#de77ae\"],[0.3,\"#f1b6da\"],[0.4,\"#fde0ef\"],[0.5,\"#f7f7f7\"],[0.6,\"#e6f5d0\"],[0.7,\"#b8e186\"],[0.8,\"#7fbc41\"],[0.9,\"#4d9221\"],[1,\"#276419\"]]},\"xaxis\":{\"gridcolor\":\"white\",\"linecolor\":\"white\",\"ticks\":\"\",\"title\":{\"standoff\":15},\"zerolinecolor\":\"white\",\"automargin\":true,\"zerolinewidth\":2},\"yaxis\":{\"gridcolor\":\"white\",\"linecolor\":\"white\",\"ticks\":\"\",\"title\":{\"standoff\":15},\"zerolinecolor\":\"white\",\"automargin\":true,\"zerolinewidth\":2},\"scene\":{\"xaxis\":{\"backgroundcolor\":\"#E5ECF6\",\"gridcolor\":\"white\",\"linecolor\":\"white\",\"showbackground\":true,\"ticks\":\"\",\"zerolinecolor\":\"white\",\"gridwidth\":2},\"yaxis\":{\"backgroundcolor\":\"#E5ECF6\",\"gridcolor\":\"white\",\"linecolor\":\"white\",\"showbackground\":true,\"ticks\":\"\",\"zerolinecolor\":\"white\",\"gridwidth\":2},\"zaxis\":{\"backgroundcolor\":\"#E5ECF6\",\"gridcolor\":\"white\",\"linecolor\":\"white\",\"showbackground\":true,\"ticks\":\"\",\"zerolinecolor\":\"white\",\"gridwidth\":2}},\"shapedefaults\":{\"line\":{\"color\":\"#2a3f5f\"}},\"annotationdefaults\":{\"arrowcolor\":\"#2a3f5f\",\"arrowhead\":0,\"arrowwidth\":1},\"geo\":{\"bgcolor\":\"white\",\"landcolor\":\"#E5ECF6\",\"subunitcolor\":\"white\",\"showland\":true,\"showlakes\":true,\"lakecolor\":\"white\"},\"title\":{\"x\":0.05},\"mapbox\":{\"style\":\"light\"}}},\"xaxis\":{\"anchor\":\"y\",\"domain\":[0.0,1.0],\"title\":{\"text\":\"stroke\"}},\"yaxis\":{\"anchor\":\"x\",\"domain\":[0.0,1.0],\"title\":{\"text\":\"avg_glucose_level\"}},\"legend\":{\"tracegroupgap\":0},\"margin\":{\"t\":60},\"boxmode\":\"group\"},                        {\"responsive\": true}                    ).then(function(){\n",
              "                            \n",
              "var gd = document.getElementById('57ef74e9-1c5d-4724-9054-39197e411e27');\n",
              "var x = new MutationObserver(function (mutations, observer) {{\n",
              "        var display = window.getComputedStyle(gd).display;\n",
              "        if (!display || display === 'none') {{\n",
              "            console.log([gd, 'removed!']);\n",
              "            Plotly.purge(gd);\n",
              "            observer.disconnect();\n",
              "        }}\n",
              "}});\n",
              "\n",
              "// Listen for the removal of the full notebook cells\n",
              "var notebookContainer = gd.closest('#notebook-container');\n",
              "if (notebookContainer) {{\n",
              "    x.observe(notebookContainer, {childList: true});\n",
              "}}\n",
              "\n",
              "// Listen for the clearing of the current output cell\n",
              "var outputEl = gd.closest('.output');\n",
              "if (outputEl) {{\n",
              "    x.observe(outputEl, {childList: true});\n",
              "}}\n",
              "\n",
              "                        })                };                            </script>        </div>\n",
              "</body>\n",
              "</html>"
            ]
          },
          "metadata": {}
        },
        {
          "output_type": "display_data",
          "data": {
            "text/html": [
              "<html>\n",
              "<head><meta charset=\"utf-8\" /></head>\n",
              "<body>\n",
              "    <div>            <script src=\"https://cdnjs.cloudflare.com/ajax/libs/mathjax/2.7.5/MathJax.js?config=TeX-AMS-MML_SVG\"></script><script type=\"text/javascript\">if (window.MathJax && window.MathJax.Hub && window.MathJax.Hub.Config) {window.MathJax.Hub.Config({SVG: {font: \"STIX-Web\"}});}</script>                <script type=\"text/javascript\">window.PlotlyConfig = {MathJaxConfig: 'local'};</script>\n",
              "        <script src=\"https://cdn.plot.ly/plotly-2.18.2.min.js\"></script>                <div id=\"3f301597-99a2-4d34-a88c-547a40483f38\" class=\"plotly-graph-div\" style=\"height:525px; width:100%;\"></div>            <script type=\"text/javascript\">                                    window.PLOTLYENV=window.PLOTLYENV || {};                                    if (document.getElementById(\"3f301597-99a2-4d34-a88c-547a40483f38\")) {                    Plotly.newPlot(                        \"3f301597-99a2-4d34-a88c-547a40483f38\",                        [{\"alignmentgroup\":\"True\",\"bingroup\":\"x\",\"hovertemplate\":\"stroke=0<br>avg_glucose_level=%{x}<br>count=%{y}<extra></extra>\",\"legendgroup\":\"0\",\"marker\":{\"color\":\"#636efa\",\"pattern\":{\"shape\":\"\"}},\"name\":\"0\",\"offsetgroup\":\"0\",\"orientation\":\"v\",\"showlegend\":true,\"x\":[140.93,60.37,140.08,59.99,143.15,61.01,218.1,261.67,221.08,254.63,263.56,58.72,219.7,183.87,232.64,158.9,57.38,140.96,161.95,206.66,152.84,267.61,228.26,153.6,240.86,247.69,220.47,231.72,151.3,221.8,164.77,140.07,251.46,60.13,148.91,267.6,247.48,168.68,136.18,193.87,192.16,225.35,242.3,251.99,247.97,169.43,159.39,239.95,98.12,60.6,177.56,178.29,142.63,237.15,182.9,182.22,212.92,173.14,74.88,244.3,222.6,97.49,84.56,98.37,219.53,77.01,135.32,222.46,180.76,237.21,180.63,216.19,176.71,228.42,173.9,60.98,75.82,98.14,202.21,236.04,204.17,63.61,213.92,199.78,185.28,239.82,78.43,145.03,166.29,179.67,85.68,236.14,73.0,86.37,74.16,215.92,228.2,204.77,170.22,211.12,163.02,215.72,220.24,109.27,122.73,242.62,183.34,58.95,185.31,163.82,209.5,96.0,209.26,57.57,206.49,227.1,207.79,203.57,110.36,189.88,203.44,134.65,240.81,68.34,137.74,57.42,59.31,189.44,243.53,233.59,203.16,173.96,219.5,143.47,109.51,211.35,209.5,58.51,125.32,58.71,212.87,239.52,74.8,64.15,123.87,208.78,191.33,61.36,62.66,211.49,123.95,174.54,60.35,123.49,226.84,201.07,250.8,78.18,210.0,70.19,181.23,89.06,117.77,108.35,123.36,92.21,225.47,223.9,236.84,182.2,63.57,97.93,194.53,193.61,178.89,87.93,66.46,63.71,92.81,205.23,214.45,206.62,108.62,112.95,228.92,86.05,190.7,67.9,95.36,71.15,63.73,67.02,106.65,203.01,93.73,59.93,93.9,95.62,117.63,59.68,105.95,104.79,71.38,69.01,128.72,65.5,92.59,63.01,77.08],\"xaxis\":\"x\",\"yaxis\":\"y\",\"type\":\"histogram\"},{\"alignmentgroup\":\"True\",\"bingroup\":\"x\",\"hovertemplate\":\"stroke=1<br>avg_glucose_level=%{x}<br>count=%{y}<extra></extra>\",\"legendgroup\":\"1\",\"marker\":{\"color\":\"#EF553B\",\"pattern\":{\"shape\":\"\"}},\"name\":\"1\",\"offsetgroup\":\"1\",\"orientation\":\"v\",\"showlegend\":true,\"x\":[228.69,105.92,171.23,174.12,186.21,70.09,94.39,58.57,80.43,120.46,104.51,214.09,167.41,191.61,221.29,89.22,193.94,233.29,228.7,208.3,102.87,104.12,100.98,195.23,212.08,83.41,196.92,252.72,84.2,84.03,219.72,74.63,92.62,60.91,78.03,71.22,144.9,213.03,243.58,107.26,99.33,58.09,127.29,124.13,196.71,59.32,194.99,180.93,185.17,74.9,61.94,93.72,113.01,221.58,104.47,86.23,72.67,179.12,116.55,228.56,96.59,66.72,240.09,110.85,143.43,96.16,88.92,79.79,96.97,111.81,59.35,86.94,98.55,226.98,72.81,68.02,68.56,64.14,235.63,76.34,240.59,78.92,82.81,74.1,190.32,231.61,78.7,110.52,73.18,191.82,93.05,64.17,129.98,68.53,224.1,82.1,216.94,76.11,72.96,82.28,105.22,59.86,62.55,259.63,249.31,131.41,73.54,200.59,190.14,130.54,182.99,206.09,263.32,140.1,207.28,194.37,199.2,103.68,116.44,70.28,72.17,221.79,151.16,67.29,67.41,239.07,223.83,76.57,77.82,92.98,231.56,102.16,221.89,195.71,74.02,203.87,89.13,133.19,162.23,98.02,91.54,97.43,91.02,185.49,64.44,56.11,213.22,78.18,111.04,76.13,112.24,137.3,116.69,215.94,86.62,205.77,112.16,118.03,271.74,97.92,200.62,242.52,93.81,74.96,175.29,90.0,109.47,87.85,106.74,80.13,90.19,134.8,106.58,83.24,103.43,208.65,74.11,95.84,205.33,116.1,210.4,219.73,250.89,72.73,205.35,70.3,104.86,216.58,184.4,97.76,66.03,81.95,97.73,70.94,199.84,218.46,211.06,86.3,162.14,88.2,91.92,76.46,197.28,233.94,247.51,84.96,57.93,78.8,78.81],\"xaxis\":\"x\",\"yaxis\":\"y\",\"type\":\"histogram\"}],                        {\"template\":{\"data\":{\"histogram2dcontour\":[{\"type\":\"histogram2dcontour\",\"colorbar\":{\"outlinewidth\":0,\"ticks\":\"\"},\"colorscale\":[[0.0,\"#0d0887\"],[0.1111111111111111,\"#46039f\"],[0.2222222222222222,\"#7201a8\"],[0.3333333333333333,\"#9c179e\"],[0.4444444444444444,\"#bd3786\"],[0.5555555555555556,\"#d8576b\"],[0.6666666666666666,\"#ed7953\"],[0.7777777777777778,\"#fb9f3a\"],[0.8888888888888888,\"#fdca26\"],[1.0,\"#f0f921\"]]}],\"choropleth\":[{\"type\":\"choropleth\",\"colorbar\":{\"outlinewidth\":0,\"ticks\":\"\"}}],\"histogram2d\":[{\"type\":\"histogram2d\",\"colorbar\":{\"outlinewidth\":0,\"ticks\":\"\"},\"colorscale\":[[0.0,\"#0d0887\"],[0.1111111111111111,\"#46039f\"],[0.2222222222222222,\"#7201a8\"],[0.3333333333333333,\"#9c179e\"],[0.4444444444444444,\"#bd3786\"],[0.5555555555555556,\"#d8576b\"],[0.6666666666666666,\"#ed7953\"],[0.7777777777777778,\"#fb9f3a\"],[0.8888888888888888,\"#fdca26\"],[1.0,\"#f0f921\"]]}],\"heatmap\":[{\"type\":\"heatmap\",\"colorbar\":{\"outlinewidth\":0,\"ticks\":\"\"},\"colorscale\":[[0.0,\"#0d0887\"],[0.1111111111111111,\"#46039f\"],[0.2222222222222222,\"#7201a8\"],[0.3333333333333333,\"#9c179e\"],[0.4444444444444444,\"#bd3786\"],[0.5555555555555556,\"#d8576b\"],[0.6666666666666666,\"#ed7953\"],[0.7777777777777778,\"#fb9f3a\"],[0.8888888888888888,\"#fdca26\"],[1.0,\"#f0f921\"]]}],\"heatmapgl\":[{\"type\":\"heatmapgl\",\"colorbar\":{\"outlinewidth\":0,\"ticks\":\"\"},\"colorscale\":[[0.0,\"#0d0887\"],[0.1111111111111111,\"#46039f\"],[0.2222222222222222,\"#7201a8\"],[0.3333333333333333,\"#9c179e\"],[0.4444444444444444,\"#bd3786\"],[0.5555555555555556,\"#d8576b\"],[0.6666666666666666,\"#ed7953\"],[0.7777777777777778,\"#fb9f3a\"],[0.8888888888888888,\"#fdca26\"],[1.0,\"#f0f921\"]]}],\"contourcarpet\":[{\"type\":\"contourcarpet\",\"colorbar\":{\"outlinewidth\":0,\"ticks\":\"\"}}],\"contour\":[{\"type\":\"contour\",\"colorbar\":{\"outlinewidth\":0,\"ticks\":\"\"},\"colorscale\":[[0.0,\"#0d0887\"],[0.1111111111111111,\"#46039f\"],[0.2222222222222222,\"#7201a8\"],[0.3333333333333333,\"#9c179e\"],[0.4444444444444444,\"#bd3786\"],[0.5555555555555556,\"#d8576b\"],[0.6666666666666666,\"#ed7953\"],[0.7777777777777778,\"#fb9f3a\"],[0.8888888888888888,\"#fdca26\"],[1.0,\"#f0f921\"]]}],\"surface\":[{\"type\":\"surface\",\"colorbar\":{\"outlinewidth\":0,\"ticks\":\"\"},\"colorscale\":[[0.0,\"#0d0887\"],[0.1111111111111111,\"#46039f\"],[0.2222222222222222,\"#7201a8\"],[0.3333333333333333,\"#9c179e\"],[0.4444444444444444,\"#bd3786\"],[0.5555555555555556,\"#d8576b\"],[0.6666666666666666,\"#ed7953\"],[0.7777777777777778,\"#fb9f3a\"],[0.8888888888888888,\"#fdca26\"],[1.0,\"#f0f921\"]]}],\"mesh3d\":[{\"type\":\"mesh3d\",\"colorbar\":{\"outlinewidth\":0,\"ticks\":\"\"}}],\"scatter\":[{\"fillpattern\":{\"fillmode\":\"overlay\",\"size\":10,\"solidity\":0.2},\"type\":\"scatter\"}],\"parcoords\":[{\"type\":\"parcoords\",\"line\":{\"colorbar\":{\"outlinewidth\":0,\"ticks\":\"\"}}}],\"scatterpolargl\":[{\"type\":\"scatterpolargl\",\"marker\":{\"colorbar\":{\"outlinewidth\":0,\"ticks\":\"\"}}}],\"bar\":[{\"error_x\":{\"color\":\"#2a3f5f\"},\"error_y\":{\"color\":\"#2a3f5f\"},\"marker\":{\"line\":{\"color\":\"#E5ECF6\",\"width\":0.5},\"pattern\":{\"fillmode\":\"overlay\",\"size\":10,\"solidity\":0.2}},\"type\":\"bar\"}],\"scattergeo\":[{\"type\":\"scattergeo\",\"marker\":{\"colorbar\":{\"outlinewidth\":0,\"ticks\":\"\"}}}],\"scatterpolar\":[{\"type\":\"scatterpolar\",\"marker\":{\"colorbar\":{\"outlinewidth\":0,\"ticks\":\"\"}}}],\"histogram\":[{\"marker\":{\"pattern\":{\"fillmode\":\"overlay\",\"size\":10,\"solidity\":0.2}},\"type\":\"histogram\"}],\"scattergl\":[{\"type\":\"scattergl\",\"marker\":{\"colorbar\":{\"outlinewidth\":0,\"ticks\":\"\"}}}],\"scatter3d\":[{\"type\":\"scatter3d\",\"line\":{\"colorbar\":{\"outlinewidth\":0,\"ticks\":\"\"}},\"marker\":{\"colorbar\":{\"outlinewidth\":0,\"ticks\":\"\"}}}],\"scattermapbox\":[{\"type\":\"scattermapbox\",\"marker\":{\"colorbar\":{\"outlinewidth\":0,\"ticks\":\"\"}}}],\"scatterternary\":[{\"type\":\"scatterternary\",\"marker\":{\"colorbar\":{\"outlinewidth\":0,\"ticks\":\"\"}}}],\"scattercarpet\":[{\"type\":\"scattercarpet\",\"marker\":{\"colorbar\":{\"outlinewidth\":0,\"ticks\":\"\"}}}],\"carpet\":[{\"aaxis\":{\"endlinecolor\":\"#2a3f5f\",\"gridcolor\":\"white\",\"linecolor\":\"white\",\"minorgridcolor\":\"white\",\"startlinecolor\":\"#2a3f5f\"},\"baxis\":{\"endlinecolor\":\"#2a3f5f\",\"gridcolor\":\"white\",\"linecolor\":\"white\",\"minorgridcolor\":\"white\",\"startlinecolor\":\"#2a3f5f\"},\"type\":\"carpet\"}],\"table\":[{\"cells\":{\"fill\":{\"color\":\"#EBF0F8\"},\"line\":{\"color\":\"white\"}},\"header\":{\"fill\":{\"color\":\"#C8D4E3\"},\"line\":{\"color\":\"white\"}},\"type\":\"table\"}],\"barpolar\":[{\"marker\":{\"line\":{\"color\":\"#E5ECF6\",\"width\":0.5},\"pattern\":{\"fillmode\":\"overlay\",\"size\":10,\"solidity\":0.2}},\"type\":\"barpolar\"}],\"pie\":[{\"automargin\":true,\"type\":\"pie\"}]},\"layout\":{\"autotypenumbers\":\"strict\",\"colorway\":[\"#636efa\",\"#EF553B\",\"#00cc96\",\"#ab63fa\",\"#FFA15A\",\"#19d3f3\",\"#FF6692\",\"#B6E880\",\"#FF97FF\",\"#FECB52\"],\"font\":{\"color\":\"#2a3f5f\"},\"hovermode\":\"closest\",\"hoverlabel\":{\"align\":\"left\"},\"paper_bgcolor\":\"white\",\"plot_bgcolor\":\"#E5ECF6\",\"polar\":{\"bgcolor\":\"#E5ECF6\",\"angularaxis\":{\"gridcolor\":\"white\",\"linecolor\":\"white\",\"ticks\":\"\"},\"radialaxis\":{\"gridcolor\":\"white\",\"linecolor\":\"white\",\"ticks\":\"\"}},\"ternary\":{\"bgcolor\":\"#E5ECF6\",\"aaxis\":{\"gridcolor\":\"white\",\"linecolor\":\"white\",\"ticks\":\"\"},\"baxis\":{\"gridcolor\":\"white\",\"linecolor\":\"white\",\"ticks\":\"\"},\"caxis\":{\"gridcolor\":\"white\",\"linecolor\":\"white\",\"ticks\":\"\"}},\"coloraxis\":{\"colorbar\":{\"outlinewidth\":0,\"ticks\":\"\"}},\"colorscale\":{\"sequential\":[[0.0,\"#0d0887\"],[0.1111111111111111,\"#46039f\"],[0.2222222222222222,\"#7201a8\"],[0.3333333333333333,\"#9c179e\"],[0.4444444444444444,\"#bd3786\"],[0.5555555555555556,\"#d8576b\"],[0.6666666666666666,\"#ed7953\"],[0.7777777777777778,\"#fb9f3a\"],[0.8888888888888888,\"#fdca26\"],[1.0,\"#f0f921\"]],\"sequentialminus\":[[0.0,\"#0d0887\"],[0.1111111111111111,\"#46039f\"],[0.2222222222222222,\"#7201a8\"],[0.3333333333333333,\"#9c179e\"],[0.4444444444444444,\"#bd3786\"],[0.5555555555555556,\"#d8576b\"],[0.6666666666666666,\"#ed7953\"],[0.7777777777777778,\"#fb9f3a\"],[0.8888888888888888,\"#fdca26\"],[1.0,\"#f0f921\"]],\"diverging\":[[0,\"#8e0152\"],[0.1,\"#c51b7d\"],[0.2,\"#de77ae\"],[0.3,\"#f1b6da\"],[0.4,\"#fde0ef\"],[0.5,\"#f7f7f7\"],[0.6,\"#e6f5d0\"],[0.7,\"#b8e186\"],[0.8,\"#7fbc41\"],[0.9,\"#4d9221\"],[1,\"#276419\"]]},\"xaxis\":{\"gridcolor\":\"white\",\"linecolor\":\"white\",\"ticks\":\"\",\"title\":{\"standoff\":15},\"zerolinecolor\":\"white\",\"automargin\":true,\"zerolinewidth\":2},\"yaxis\":{\"gridcolor\":\"white\",\"linecolor\":\"white\",\"ticks\":\"\",\"title\":{\"standoff\":15},\"zerolinecolor\":\"white\",\"automargin\":true,\"zerolinewidth\":2},\"scene\":{\"xaxis\":{\"backgroundcolor\":\"#E5ECF6\",\"gridcolor\":\"white\",\"linecolor\":\"white\",\"showbackground\":true,\"ticks\":\"\",\"zerolinecolor\":\"white\",\"gridwidth\":2},\"yaxis\":{\"backgroundcolor\":\"#E5ECF6\",\"gridcolor\":\"white\",\"linecolor\":\"white\",\"showbackground\":true,\"ticks\":\"\",\"zerolinecolor\":\"white\",\"gridwidth\":2},\"zaxis\":{\"backgroundcolor\":\"#E5ECF6\",\"gridcolor\":\"white\",\"linecolor\":\"white\",\"showbackground\":true,\"ticks\":\"\",\"zerolinecolor\":\"white\",\"gridwidth\":2}},\"shapedefaults\":{\"line\":{\"color\":\"#2a3f5f\"}},\"annotationdefaults\":{\"arrowcolor\":\"#2a3f5f\",\"arrowhead\":0,\"arrowwidth\":1},\"geo\":{\"bgcolor\":\"white\",\"landcolor\":\"#E5ECF6\",\"subunitcolor\":\"white\",\"showland\":true,\"showlakes\":true,\"lakecolor\":\"white\"},\"title\":{\"x\":0.05},\"mapbox\":{\"style\":\"light\"}}},\"xaxis\":{\"anchor\":\"y\",\"domain\":[0.0,1.0],\"title\":{\"text\":\"avg_glucose_level\"}},\"yaxis\":{\"anchor\":\"x\",\"domain\":[0.0,1.0],\"title\":{\"text\":\"count\"}},\"legend\":{\"title\":{\"text\":\"stroke\"},\"tracegroupgap\":0},\"margin\":{\"t\":60},\"barmode\":\"relative\"},                        {\"responsive\": true}                    ).then(function(){\n",
              "                            \n",
              "var gd = document.getElementById('3f301597-99a2-4d34-a88c-547a40483f38');\n",
              "var x = new MutationObserver(function (mutations, observer) {{\n",
              "        var display = window.getComputedStyle(gd).display;\n",
              "        if (!display || display === 'none') {{\n",
              "            console.log([gd, 'removed!']);\n",
              "            Plotly.purge(gd);\n",
              "            observer.disconnect();\n",
              "        }}\n",
              "}});\n",
              "\n",
              "// Listen for the removal of the full notebook cells\n",
              "var notebookContainer = gd.closest('#notebook-container');\n",
              "if (notebookContainer) {{\n",
              "    x.observe(notebookContainer, {childList: true});\n",
              "}}\n",
              "\n",
              "// Listen for the clearing of the current output cell\n",
              "var outputEl = gd.closest('.output');\n",
              "if (outputEl) {{\n",
              "    x.observe(outputEl, {childList: true});\n",
              "}}\n",
              "\n",
              "                        })                };                            </script>        </div>\n",
              "</body>\n",
              "</html>"
            ]
          },
          "metadata": {}
        }
      ]
    },
    {
      "cell_type": "code",
      "source": [
        "print(df['bmi'].nunique())# print the number of unique values of age\n",
        "display(px.box(df[\"bmi\"]))# print the boxplot of age)\n",
        "display(px.box(data_frame=df , x = 'stroke' , y = 'bmi') )\n",
        "display(px.histogram(df, x = \"bmi\" , color = \"stroke\"))"
      ],
      "metadata": {
        "colab": {
          "base_uri": "https://localhost:8080/",
          "height": 1000
        },
        "id": "eZcLqUpCPq89",
        "outputId": "6c6a9417-a5c2-4603-b14d-38ef96933f2b"
      },
      "execution_count": 29,
      "outputs": [
        {
          "output_type": "stream",
          "name": "stdout",
          "text": [
            "198\n"
          ]
        },
        {
          "output_type": "display_data",
          "data": {
            "text/html": [
              "<html>\n",
              "<head><meta charset=\"utf-8\" /></head>\n",
              "<body>\n",
              "    <div>            <script src=\"https://cdnjs.cloudflare.com/ajax/libs/mathjax/2.7.5/MathJax.js?config=TeX-AMS-MML_SVG\"></script><script type=\"text/javascript\">if (window.MathJax && window.MathJax.Hub && window.MathJax.Hub.Config) {window.MathJax.Hub.Config({SVG: {font: \"STIX-Web\"}});}</script>                <script type=\"text/javascript\">window.PlotlyConfig = {MathJaxConfig: 'local'};</script>\n",
              "        <script src=\"https://cdn.plot.ly/plotly-2.18.2.min.js\"></script>                <div id=\"3c566dff-4b29-4d0a-bd2d-c326e912a412\" class=\"plotly-graph-div\" style=\"height:525px; width:100%;\"></div>            <script type=\"text/javascript\">                                    window.PLOTLYENV=window.PLOTLYENV || {};                                    if (document.getElementById(\"3c566dff-4b29-4d0a-bd2d-c326e912a412\")) {                    Plotly.newPlot(                        \"3c566dff-4b29-4d0a-bd2d-c326e912a412\",                        [{\"alignmentgroup\":\"True\",\"hovertemplate\":\"variable=%{x}<br>value=%{y}<extra></extra>\",\"legendgroup\":\"\",\"marker\":{\"color\":\"#636efa\"},\"name\":\"\",\"notched\":false,\"offsetgroup\":\"\",\"orientation\":\"v\",\"showlegend\":false,\"x\":[\"bmi\",\"bmi\",\"bmi\",\"bmi\",\"bmi\",\"bmi\",\"bmi\",\"bmi\",\"bmi\",\"bmi\",\"bmi\",\"bmi\",\"bmi\",\"bmi\",\"bmi\",\"bmi\",\"bmi\",\"bmi\",\"bmi\",\"bmi\",\"bmi\",\"bmi\",\"bmi\",\"bmi\",\"bmi\",\"bmi\",\"bmi\",\"bmi\",\"bmi\",\"bmi\",\"bmi\",\"bmi\",\"bmi\",\"bmi\",\"bmi\",\"bmi\",\"bmi\",\"bmi\",\"bmi\",\"bmi\",\"bmi\",\"bmi\",\"bmi\",\"bmi\",\"bmi\",\"bmi\",\"bmi\",\"bmi\",\"bmi\",\"bmi\",\"bmi\",\"bmi\",\"bmi\",\"bmi\",\"bmi\",\"bmi\",\"bmi\",\"bmi\",\"bmi\",\"bmi\",\"bmi\",\"bmi\",\"bmi\",\"bmi\",\"bmi\",\"bmi\",\"bmi\",\"bmi\",\"bmi\",\"bmi\",\"bmi\",\"bmi\",\"bmi\",\"bmi\",\"bmi\",\"bmi\",\"bmi\",\"bmi\",\"bmi\",\"bmi\",\"bmi\",\"bmi\",\"bmi\",\"bmi\",\"bmi\",\"bmi\",\"bmi\",\"bmi\",\"bmi\",\"bmi\",\"bmi\",\"bmi\",\"bmi\",\"bmi\",\"bmi\",\"bmi\",\"bmi\",\"bmi\",\"bmi\",\"bmi\",\"bmi\",\"bmi\",\"bmi\",\"bmi\",\"bmi\",\"bmi\",\"bmi\",\"bmi\",\"bmi\",\"bmi\",\"bmi\",\"bmi\",\"bmi\",\"bmi\",\"bmi\",\"bmi\",\"bmi\",\"bmi\",\"bmi\",\"bmi\",\"bmi\",\"bmi\",\"bmi\",\"bmi\",\"bmi\",\"bmi\",\"bmi\",\"bmi\",\"bmi\",\"bmi\",\"bmi\",\"bmi\",\"bmi\",\"bmi\",\"bmi\",\"bmi\",\"bmi\",\"bmi\",\"bmi\",\"bmi\",\"bmi\",\"bmi\",\"bmi\",\"bmi\",\"bmi\",\"bmi\",\"bmi\",\"bmi\",\"bmi\",\"bmi\",\"bmi\",\"bmi\",\"bmi\",\"bmi\",\"bmi\",\"bmi\",\"bmi\",\"bmi\",\"bmi\",\"bmi\",\"bmi\",\"bmi\",\"bmi\",\"bmi\",\"bmi\",\"bmi\",\"bmi\",\"bmi\",\"bmi\",\"bmi\",\"bmi\",\"bmi\",\"bmi\",\"bmi\",\"bmi\",\"bmi\",\"bmi\",\"bmi\",\"bmi\",\"bmi\",\"bmi\",\"bmi\",\"bmi\",\"bmi\",\"bmi\",\"bmi\",\"bmi\",\"bmi\",\"bmi\",\"bmi\",\"bmi\",\"bmi\",\"bmi\",\"bmi\",\"bmi\",\"bmi\",\"bmi\",\"bmi\",\"bmi\",\"bmi\",\"bmi\",\"bmi\",\"bmi\",\"bmi\",\"bmi\",\"bmi\",\"bmi\",\"bmi\",\"bmi\",\"bmi\",\"bmi\",\"bmi\",\"bmi\",\"bmi\",\"bmi\",\"bmi\",\"bmi\",\"bmi\",\"bmi\",\"bmi\",\"bmi\",\"bmi\",\"bmi\",\"bmi\",\"bmi\",\"bmi\",\"bmi\",\"bmi\",\"bmi\",\"bmi\",\"bmi\",\"bmi\",\"bmi\",\"bmi\",\"bmi\",\"bmi\",\"bmi\",\"bmi\",\"bmi\",\"bmi\",\"bmi\",\"bmi\",\"bmi\",\"bmi\",\"bmi\",\"bmi\",\"bmi\",\"bmi\",\"bmi\",\"bmi\",\"bmi\",\"bmi\",\"bmi\",\"bmi\",\"bmi\",\"bmi\",\"bmi\",\"bmi\",\"bmi\",\"bmi\",\"bmi\",\"bmi\",\"bmi\",\"bmi\",\"bmi\",\"bmi\",\"bmi\",\"bmi\",\"bmi\",\"bmi\",\"bmi\",\"bmi\",\"bmi\",\"bmi\",\"bmi\",\"bmi\",\"bmi\",\"bmi\",\"bmi\",\"bmi\",\"bmi\",\"bmi\",\"bmi\",\"bmi\",\"bmi\",\"bmi\",\"bmi\",\"bmi\",\"bmi\",\"bmi\",\"bmi\",\"bmi\",\"bmi\",\"bmi\",\"bmi\",\"bmi\",\"bmi\",\"bmi\",\"bmi\",\"bmi\",\"bmi\",\"bmi\",\"bmi\",\"bmi\",\"bmi\",\"bmi\",\"bmi\",\"bmi\",\"bmi\",\"bmi\",\"bmi\",\"bmi\",\"bmi\",\"bmi\",\"bmi\",\"bmi\",\"bmi\",\"bmi\",\"bmi\",\"bmi\",\"bmi\",\"bmi\",\"bmi\",\"bmi\",\"bmi\",\"bmi\",\"bmi\",\"bmi\",\"bmi\",\"bmi\",\"bmi\",\"bmi\",\"bmi\",\"bmi\",\"bmi\",\"bmi\",\"bmi\",\"bmi\",\"bmi\",\"bmi\",\"bmi\",\"bmi\",\"bmi\",\"bmi\",\"bmi\",\"bmi\",\"bmi\",\"bmi\",\"bmi\",\"bmi\",\"bmi\",\"bmi\",\"bmi\",\"bmi\",\"bmi\",\"bmi\",\"bmi\",\"bmi\",\"bmi\",\"bmi\",\"bmi\",\"bmi\",\"bmi\",\"bmi\",\"bmi\",\"bmi\",\"bmi\",\"bmi\",\"bmi\",\"bmi\",\"bmi\",\"bmi\",\"bmi\",\"bmi\",\"bmi\",\"bmi\",\"bmi\",\"bmi\",\"bmi\",\"bmi\",\"bmi\",\"bmi\",\"bmi\",\"bmi\",\"bmi\",\"bmi\",\"bmi\",\"bmi\",\"bmi\",\"bmi\",\"bmi\",\"bmi\",\"bmi\",\"bmi\",\"bmi\",\"bmi\",\"bmi\",\"bmi\",\"bmi\",\"bmi\",\"bmi\",\"bmi\",\"bmi\",\"bmi\",\"bmi\",\"bmi\",\"bmi\",\"bmi\",\"bmi\",\"bmi\",\"bmi\",\"bmi\",\"bmi\",\"bmi\",\"bmi\",\"bmi\",\"bmi\",\"bmi\"],\"x0\":\" \",\"xaxis\":\"x\",\"y\":[46.5,26.9,43.0,28.2,44.7,32.5,55.0,43.0,57.2,31.0,26.3,40.0,53.8,26.2,45.2,32.4,41.8,34.0,30.8,21.9,28.6,27.9,46.0,28.0,31.9,35.1,48.7,45.7,26.3,44.7,34.5,29.5,35.2,39.6,28.3,30.5,33.5,23.4,32.2,41.0,43.6,26.5,35.3,25.5,36.1,23.5,29.2,32.2,27.5,40.4,30.1,36.1,32.9,27.7,34.4,32.6,21.4,37.0,31.6,37.3,40.1,26.9,41.8,27.2,40.9,31.3,35.8,35.7,26.9,26.6,31.8,30.3,33.2,42.3,35.8,34.9,29.1,42.0,39.3,28.5,41.3,42.3,44.6,45.2,32.0,35.8,18.8,26.8,25.6,30.7,39.6,43.1,20.6,39.2,19.9,27.4,37.7,40.8,27.2,22.0,29.6,39.2,36.8,43.8,37.5,25.5,39.5,24.6,39.3,27.5,37.9,44.5,38.1,26.8,26.3,26.9,38.6,29.1,39.1,34.0,30.5,32.4,27.4,39.3,34.9,33.7,31.4,35.8,27.0,43.9,43.4,31.2,33.8,27.6,41.9,30.7,41.8,30.4,32.9,34.5,34.8,25.5,23.5,40.5,34.9,26.7,24.5,26.5,28.0,41.1,34.8,26.4,25.9,30.7,25.3,21.8,32.9,32.2,30.7,39.1,32.2,34.8,27.1,40.8,33.4,31.0,36.9,28.2,26.8,30.5,32.4,31.2,39.5,37.6,27.4,33.6,39.6,40.5,30.8,39.5,31.2,28.0,25.1,22.2,27.9,20.1,36.0,35.3,21.5,26.1,32.0,41.1,35.9,25.4,23.9,28.9,42.2,29.5,26.2,29.2,23.5,24.1,19.7,32.6,31.0,30.7,24.2,31.5,35.0,36.6,32.5,34.4,24.0,29.0,27.4,22.8,24.2,29.7,36.8,27.3,28.2,30.9,37.5,25.8,37.8,22.4,48.9,26.6,32.5,27.2,23.5,28.2,28.3,44.2,25.4,22.2,30.5,29.7,26.5,33.7,23.1,32.0,29.9,23.9,28.5,26.4,20.2,33.6,38.6,33.7,39.2,27.7,31.4,36.5,33.2,32.8,27.7,40.4,22.2,25.3,30.2,24.0,47.5,20.3,30.0,28.9,28.1,31.1,27.4,26.4,21.7,27.0,24.1,45.9,44.1,22.9,29.7,29.1,27.3,32.3,41.1,25.6,29.8,26.3,37.5,26.2,29.4,32.3,24.4,31.4,27.7,28.0,28.8,31.4,34.6,19.4,28.5,30.3,40.4,24.2,41.5,22.6,24.2,56.6,27.1,30.9,27.3,31.3,24.0,31.0,28.0,30.3,31.7,35.8,28.4,24.0,29.0,36.5,20.1,36.5,26.7,38.7,29.9,34.9,27.0,26.6,25.0,23.8,21.8,36.8,30.0,27.5,24.6,32.9,26.1,31.9,34.1,27.5,25.6,36.9,31.4,37.3,34.1,25.0,45.7,34.2,23.6,27.3,22.3,31.4,26.4,32.9,37.1,45.0,25.5,26.1,30.8,32.0,29.9,37.4,31.7,34.5,27.9,29.5,46.0,42.5,35.5,31.1,26.9,35.8,45.5,28.5,26.6,31.5,32.0,30.8,31.1,33.0,23.4,26.9,33.6,23.9,26.3,27.3,30.7,20.5,21.5,31.0,27.1,40.0,28.6,28.1,28.4,42.2,25.8,31.9,31.0,27.5,29.6,35.4,16.9,21.5,34.4,28.0,26.8,39.3,31.7,32.6,28.4,35.9,21.2,34.5,42.4,40.5,36.7,30.9,29.3,19.6],\"y0\":\" \",\"yaxis\":\"y\",\"type\":\"box\"}],                        {\"template\":{\"data\":{\"histogram2dcontour\":[{\"type\":\"histogram2dcontour\",\"colorbar\":{\"outlinewidth\":0,\"ticks\":\"\"},\"colorscale\":[[0.0,\"#0d0887\"],[0.1111111111111111,\"#46039f\"],[0.2222222222222222,\"#7201a8\"],[0.3333333333333333,\"#9c179e\"],[0.4444444444444444,\"#bd3786\"],[0.5555555555555556,\"#d8576b\"],[0.6666666666666666,\"#ed7953\"],[0.7777777777777778,\"#fb9f3a\"],[0.8888888888888888,\"#fdca26\"],[1.0,\"#f0f921\"]]}],\"choropleth\":[{\"type\":\"choropleth\",\"colorbar\":{\"outlinewidth\":0,\"ticks\":\"\"}}],\"histogram2d\":[{\"type\":\"histogram2d\",\"colorbar\":{\"outlinewidth\":0,\"ticks\":\"\"},\"colorscale\":[[0.0,\"#0d0887\"],[0.1111111111111111,\"#46039f\"],[0.2222222222222222,\"#7201a8\"],[0.3333333333333333,\"#9c179e\"],[0.4444444444444444,\"#bd3786\"],[0.5555555555555556,\"#d8576b\"],[0.6666666666666666,\"#ed7953\"],[0.7777777777777778,\"#fb9f3a\"],[0.8888888888888888,\"#fdca26\"],[1.0,\"#f0f921\"]]}],\"heatmap\":[{\"type\":\"heatmap\",\"colorbar\":{\"outlinewidth\":0,\"ticks\":\"\"},\"colorscale\":[[0.0,\"#0d0887\"],[0.1111111111111111,\"#46039f\"],[0.2222222222222222,\"#7201a8\"],[0.3333333333333333,\"#9c179e\"],[0.4444444444444444,\"#bd3786\"],[0.5555555555555556,\"#d8576b\"],[0.6666666666666666,\"#ed7953\"],[0.7777777777777778,\"#fb9f3a\"],[0.8888888888888888,\"#fdca26\"],[1.0,\"#f0f921\"]]}],\"heatmapgl\":[{\"type\":\"heatmapgl\",\"colorbar\":{\"outlinewidth\":0,\"ticks\":\"\"},\"colorscale\":[[0.0,\"#0d0887\"],[0.1111111111111111,\"#46039f\"],[0.2222222222222222,\"#7201a8\"],[0.3333333333333333,\"#9c179e\"],[0.4444444444444444,\"#bd3786\"],[0.5555555555555556,\"#d8576b\"],[0.6666666666666666,\"#ed7953\"],[0.7777777777777778,\"#fb9f3a\"],[0.8888888888888888,\"#fdca26\"],[1.0,\"#f0f921\"]]}],\"contourcarpet\":[{\"type\":\"contourcarpet\",\"colorbar\":{\"outlinewidth\":0,\"ticks\":\"\"}}],\"contour\":[{\"type\":\"contour\",\"colorbar\":{\"outlinewidth\":0,\"ticks\":\"\"},\"colorscale\":[[0.0,\"#0d0887\"],[0.1111111111111111,\"#46039f\"],[0.2222222222222222,\"#7201a8\"],[0.3333333333333333,\"#9c179e\"],[0.4444444444444444,\"#bd3786\"],[0.5555555555555556,\"#d8576b\"],[0.6666666666666666,\"#ed7953\"],[0.7777777777777778,\"#fb9f3a\"],[0.8888888888888888,\"#fdca26\"],[1.0,\"#f0f921\"]]}],\"surface\":[{\"type\":\"surface\",\"colorbar\":{\"outlinewidth\":0,\"ticks\":\"\"},\"colorscale\":[[0.0,\"#0d0887\"],[0.1111111111111111,\"#46039f\"],[0.2222222222222222,\"#7201a8\"],[0.3333333333333333,\"#9c179e\"],[0.4444444444444444,\"#bd3786\"],[0.5555555555555556,\"#d8576b\"],[0.6666666666666666,\"#ed7953\"],[0.7777777777777778,\"#fb9f3a\"],[0.8888888888888888,\"#fdca26\"],[1.0,\"#f0f921\"]]}],\"mesh3d\":[{\"type\":\"mesh3d\",\"colorbar\":{\"outlinewidth\":0,\"ticks\":\"\"}}],\"scatter\":[{\"fillpattern\":{\"fillmode\":\"overlay\",\"size\":10,\"solidity\":0.2},\"type\":\"scatter\"}],\"parcoords\":[{\"type\":\"parcoords\",\"line\":{\"colorbar\":{\"outlinewidth\":0,\"ticks\":\"\"}}}],\"scatterpolargl\":[{\"type\":\"scatterpolargl\",\"marker\":{\"colorbar\":{\"outlinewidth\":0,\"ticks\":\"\"}}}],\"bar\":[{\"error_x\":{\"color\":\"#2a3f5f\"},\"error_y\":{\"color\":\"#2a3f5f\"},\"marker\":{\"line\":{\"color\":\"#E5ECF6\",\"width\":0.5},\"pattern\":{\"fillmode\":\"overlay\",\"size\":10,\"solidity\":0.2}},\"type\":\"bar\"}],\"scattergeo\":[{\"type\":\"scattergeo\",\"marker\":{\"colorbar\":{\"outlinewidth\":0,\"ticks\":\"\"}}}],\"scatterpolar\":[{\"type\":\"scatterpolar\",\"marker\":{\"colorbar\":{\"outlinewidth\":0,\"ticks\":\"\"}}}],\"histogram\":[{\"marker\":{\"pattern\":{\"fillmode\":\"overlay\",\"size\":10,\"solidity\":0.2}},\"type\":\"histogram\"}],\"scattergl\":[{\"type\":\"scattergl\",\"marker\":{\"colorbar\":{\"outlinewidth\":0,\"ticks\":\"\"}}}],\"scatter3d\":[{\"type\":\"scatter3d\",\"line\":{\"colorbar\":{\"outlinewidth\":0,\"ticks\":\"\"}},\"marker\":{\"colorbar\":{\"outlinewidth\":0,\"ticks\":\"\"}}}],\"scattermapbox\":[{\"type\":\"scattermapbox\",\"marker\":{\"colorbar\":{\"outlinewidth\":0,\"ticks\":\"\"}}}],\"scatterternary\":[{\"type\":\"scatterternary\",\"marker\":{\"colorbar\":{\"outlinewidth\":0,\"ticks\":\"\"}}}],\"scattercarpet\":[{\"type\":\"scattercarpet\",\"marker\":{\"colorbar\":{\"outlinewidth\":0,\"ticks\":\"\"}}}],\"carpet\":[{\"aaxis\":{\"endlinecolor\":\"#2a3f5f\",\"gridcolor\":\"white\",\"linecolor\":\"white\",\"minorgridcolor\":\"white\",\"startlinecolor\":\"#2a3f5f\"},\"baxis\":{\"endlinecolor\":\"#2a3f5f\",\"gridcolor\":\"white\",\"linecolor\":\"white\",\"minorgridcolor\":\"white\",\"startlinecolor\":\"#2a3f5f\"},\"type\":\"carpet\"}],\"table\":[{\"cells\":{\"fill\":{\"color\":\"#EBF0F8\"},\"line\":{\"color\":\"white\"}},\"header\":{\"fill\":{\"color\":\"#C8D4E3\"},\"line\":{\"color\":\"white\"}},\"type\":\"table\"}],\"barpolar\":[{\"marker\":{\"line\":{\"color\":\"#E5ECF6\",\"width\":0.5},\"pattern\":{\"fillmode\":\"overlay\",\"size\":10,\"solidity\":0.2}},\"type\":\"barpolar\"}],\"pie\":[{\"automargin\":true,\"type\":\"pie\"}]},\"layout\":{\"autotypenumbers\":\"strict\",\"colorway\":[\"#636efa\",\"#EF553B\",\"#00cc96\",\"#ab63fa\",\"#FFA15A\",\"#19d3f3\",\"#FF6692\",\"#B6E880\",\"#FF97FF\",\"#FECB52\"],\"font\":{\"color\":\"#2a3f5f\"},\"hovermode\":\"closest\",\"hoverlabel\":{\"align\":\"left\"},\"paper_bgcolor\":\"white\",\"plot_bgcolor\":\"#E5ECF6\",\"polar\":{\"bgcolor\":\"#E5ECF6\",\"angularaxis\":{\"gridcolor\":\"white\",\"linecolor\":\"white\",\"ticks\":\"\"},\"radialaxis\":{\"gridcolor\":\"white\",\"linecolor\":\"white\",\"ticks\":\"\"}},\"ternary\":{\"bgcolor\":\"#E5ECF6\",\"aaxis\":{\"gridcolor\":\"white\",\"linecolor\":\"white\",\"ticks\":\"\"},\"baxis\":{\"gridcolor\":\"white\",\"linecolor\":\"white\",\"ticks\":\"\"},\"caxis\":{\"gridcolor\":\"white\",\"linecolor\":\"white\",\"ticks\":\"\"}},\"coloraxis\":{\"colorbar\":{\"outlinewidth\":0,\"ticks\":\"\"}},\"colorscale\":{\"sequential\":[[0.0,\"#0d0887\"],[0.1111111111111111,\"#46039f\"],[0.2222222222222222,\"#7201a8\"],[0.3333333333333333,\"#9c179e\"],[0.4444444444444444,\"#bd3786\"],[0.5555555555555556,\"#d8576b\"],[0.6666666666666666,\"#ed7953\"],[0.7777777777777778,\"#fb9f3a\"],[0.8888888888888888,\"#fdca26\"],[1.0,\"#f0f921\"]],\"sequentialminus\":[[0.0,\"#0d0887\"],[0.1111111111111111,\"#46039f\"],[0.2222222222222222,\"#7201a8\"],[0.3333333333333333,\"#9c179e\"],[0.4444444444444444,\"#bd3786\"],[0.5555555555555556,\"#d8576b\"],[0.6666666666666666,\"#ed7953\"],[0.7777777777777778,\"#fb9f3a\"],[0.8888888888888888,\"#fdca26\"],[1.0,\"#f0f921\"]],\"diverging\":[[0,\"#8e0152\"],[0.1,\"#c51b7d\"],[0.2,\"#de77ae\"],[0.3,\"#f1b6da\"],[0.4,\"#fde0ef\"],[0.5,\"#f7f7f7\"],[0.6,\"#e6f5d0\"],[0.7,\"#b8e186\"],[0.8,\"#7fbc41\"],[0.9,\"#4d9221\"],[1,\"#276419\"]]},\"xaxis\":{\"gridcolor\":\"white\",\"linecolor\":\"white\",\"ticks\":\"\",\"title\":{\"standoff\":15},\"zerolinecolor\":\"white\",\"automargin\":true,\"zerolinewidth\":2},\"yaxis\":{\"gridcolor\":\"white\",\"linecolor\":\"white\",\"ticks\":\"\",\"title\":{\"standoff\":15},\"zerolinecolor\":\"white\",\"automargin\":true,\"zerolinewidth\":2},\"scene\":{\"xaxis\":{\"backgroundcolor\":\"#E5ECF6\",\"gridcolor\":\"white\",\"linecolor\":\"white\",\"showbackground\":true,\"ticks\":\"\",\"zerolinecolor\":\"white\",\"gridwidth\":2},\"yaxis\":{\"backgroundcolor\":\"#E5ECF6\",\"gridcolor\":\"white\",\"linecolor\":\"white\",\"showbackground\":true,\"ticks\":\"\",\"zerolinecolor\":\"white\",\"gridwidth\":2},\"zaxis\":{\"backgroundcolor\":\"#E5ECF6\",\"gridcolor\":\"white\",\"linecolor\":\"white\",\"showbackground\":true,\"ticks\":\"\",\"zerolinecolor\":\"white\",\"gridwidth\":2}},\"shapedefaults\":{\"line\":{\"color\":\"#2a3f5f\"}},\"annotationdefaults\":{\"arrowcolor\":\"#2a3f5f\",\"arrowhead\":0,\"arrowwidth\":1},\"geo\":{\"bgcolor\":\"white\",\"landcolor\":\"#E5ECF6\",\"subunitcolor\":\"white\",\"showland\":true,\"showlakes\":true,\"lakecolor\":\"white\"},\"title\":{\"x\":0.05},\"mapbox\":{\"style\":\"light\"}}},\"xaxis\":{\"anchor\":\"y\",\"domain\":[0.0,1.0],\"title\":{\"text\":\"variable\"}},\"yaxis\":{\"anchor\":\"x\",\"domain\":[0.0,1.0],\"title\":{\"text\":\"value\"}},\"legend\":{\"tracegroupgap\":0},\"margin\":{\"t\":60},\"boxmode\":\"group\"},                        {\"responsive\": true}                    ).then(function(){\n",
              "                            \n",
              "var gd = document.getElementById('3c566dff-4b29-4d0a-bd2d-c326e912a412');\n",
              "var x = new MutationObserver(function (mutations, observer) {{\n",
              "        var display = window.getComputedStyle(gd).display;\n",
              "        if (!display || display === 'none') {{\n",
              "            console.log([gd, 'removed!']);\n",
              "            Plotly.purge(gd);\n",
              "            observer.disconnect();\n",
              "        }}\n",
              "}});\n",
              "\n",
              "// Listen for the removal of the full notebook cells\n",
              "var notebookContainer = gd.closest('#notebook-container');\n",
              "if (notebookContainer) {{\n",
              "    x.observe(notebookContainer, {childList: true});\n",
              "}}\n",
              "\n",
              "// Listen for the clearing of the current output cell\n",
              "var outputEl = gd.closest('.output');\n",
              "if (outputEl) {{\n",
              "    x.observe(outputEl, {childList: true});\n",
              "}}\n",
              "\n",
              "                        })                };                            </script>        </div>\n",
              "</body>\n",
              "</html>"
            ]
          },
          "metadata": {}
        },
        {
          "output_type": "display_data",
          "data": {
            "text/html": [
              "<html>\n",
              "<head><meta charset=\"utf-8\" /></head>\n",
              "<body>\n",
              "    <div>            <script src=\"https://cdnjs.cloudflare.com/ajax/libs/mathjax/2.7.5/MathJax.js?config=TeX-AMS-MML_SVG\"></script><script type=\"text/javascript\">if (window.MathJax && window.MathJax.Hub && window.MathJax.Hub.Config) {window.MathJax.Hub.Config({SVG: {font: \"STIX-Web\"}});}</script>                <script type=\"text/javascript\">window.PlotlyConfig = {MathJaxConfig: 'local'};</script>\n",
              "        <script src=\"https://cdn.plot.ly/plotly-2.18.2.min.js\"></script>                <div id=\"fb50239d-ff9b-4b7c-92a4-418efcdfa956\" class=\"plotly-graph-div\" style=\"height:525px; width:100%;\"></div>            <script type=\"text/javascript\">                                    window.PLOTLYENV=window.PLOTLYENV || {};                                    if (document.getElementById(\"fb50239d-ff9b-4b7c-92a4-418efcdfa956\")) {                    Plotly.newPlot(                        \"fb50239d-ff9b-4b7c-92a4-418efcdfa956\",                        [{\"alignmentgroup\":\"True\",\"hovertemplate\":\"stroke=%{x}<br>bmi=%{y}<extra></extra>\",\"legendgroup\":\"\",\"marker\":{\"color\":\"#636efa\"},\"name\":\"\",\"notched\":false,\"offsetgroup\":\"\",\"orientation\":\"v\",\"showlegend\":false,\"x\":[0,0,0,0,0,0,0,0,0,0,0,0,0,0,0,0,0,0,0,0,0,0,0,0,0,0,0,0,0,0,0,0,0,0,0,0,0,0,0,0,0,0,0,0,0,0,0,0,0,0,0,0,0,0,0,0,0,0,0,0,0,0,0,0,0,0,0,0,0,0,0,0,0,0,0,0,0,0,0,0,0,0,0,0,0,0,0,0,0,0,0,0,0,0,0,0,0,0,0,0,0,0,0,0,0,0,0,0,0,0,0,0,0,0,0,0,0,0,0,0,0,0,0,0,0,0,0,0,0,0,0,0,0,0,0,0,0,0,0,0,0,0,0,0,0,0,0,0,0,0,0,0,0,0,0,0,0,0,0,0,0,0,0,0,0,0,0,0,0,0,0,0,0,0,0,0,0,0,0,0,0,0,0,0,0,0,0,0,0,0,0,0,0,0,0,0,0,0,0,0,0,0,0,0,0,0,0,0,0,1,1,1,1,1,1,1,1,1,1,1,1,1,1,1,1,1,1,1,1,1,1,1,1,1,1,1,1,1,1,1,1,1,1,1,1,1,1,1,1,1,1,1,1,1,1,1,1,1,1,1,1,1,1,1,1,1,1,1,1,1,1,1,1,1,1,1,1,1,1,1,1,1,1,1,1,1,1,1,1,1,1,1,1,1,1,1,1,1,1,1,1,1,1,1,1,1,1,1,1,1,1,1,1,1,1,1,1,1,1,1,1,1,1,1,1,1,1,1,1,1,1,1,1,1,1,1,1,1,1,1,1,1,1,1,1,1,1,1,1,1,1,1,1,1,1,1,1,1,1,1,1,1,1,1,1,1,1,1,1,1,1,1,1,1,1,1,1,1,1,1,1,1,1,1,1,1,1,1,1,1,1,1,1,1,1,1,1,1,1,1,1,1,1,1,1,1,1,1,1,1,1,1,1,1,1,1,1,1],\"x0\":\" \",\"xaxis\":\"x\",\"y\":[46.5,26.9,43.0,28.2,44.7,32.5,55.0,43.0,57.2,31.0,26.3,40.0,53.8,26.2,45.2,32.4,41.8,34.0,30.8,21.9,28.6,27.9,46.0,28.0,31.9,35.1,48.7,45.7,26.3,44.7,34.5,29.5,35.2,39.6,28.3,30.5,33.5,23.4,32.2,41.0,43.6,26.5,35.3,25.5,36.1,23.5,29.2,32.2,27.5,40.4,30.1,36.1,32.9,27.7,34.4,32.6,21.4,37.0,31.6,37.3,40.1,26.9,41.8,27.2,40.9,31.3,35.8,35.7,26.9,26.6,31.8,30.3,33.2,42.3,35.8,34.9,29.1,42.0,39.3,28.5,41.3,42.3,44.6,45.2,32.0,35.8,18.8,26.8,25.6,30.7,39.6,43.1,20.6,39.2,19.9,27.4,37.7,40.8,27.2,22.0,29.6,39.2,36.8,43.8,37.5,25.5,39.5,24.6,39.3,27.5,37.9,44.5,38.1,26.8,26.3,26.9,38.6,29.1,39.1,34.0,30.5,32.4,27.4,39.3,34.9,33.7,31.4,35.8,27.0,43.9,43.4,31.2,33.8,27.6,41.9,30.7,41.8,30.4,32.9,34.5,34.8,25.5,23.5,40.5,34.9,26.7,24.5,26.5,28.0,41.1,34.8,26.4,25.9,30.7,25.3,21.8,32.9,32.2,30.7,39.1,32.2,34.8,27.1,40.8,33.4,31.0,36.9,28.2,26.8,30.5,32.4,31.2,39.5,37.6,27.4,33.6,39.6,40.5,30.8,39.5,31.2,28.0,25.1,22.2,27.9,20.1,36.0,35.3,21.5,26.1,32.0,41.1,35.9,25.4,23.9,28.9,42.2,29.5,26.2,29.2,23.5,24.1,19.7,32.6,31.0,30.7,24.2,31.5,35.0,36.6,32.5,34.4,24.0,29.0,27.4,22.8,24.2,29.7,36.8,27.3,28.2,30.9,37.5,25.8,37.8,22.4,48.9,26.6,32.5,27.2,23.5,28.2,28.3,44.2,25.4,22.2,30.5,29.7,26.5,33.7,23.1,32.0,29.9,23.9,28.5,26.4,20.2,33.6,38.6,33.7,39.2,27.7,31.4,36.5,33.2,32.8,27.7,40.4,22.2,25.3,30.2,24.0,47.5,20.3,30.0,28.9,28.1,31.1,27.4,26.4,21.7,27.0,24.1,45.9,44.1,22.9,29.7,29.1,27.3,32.3,41.1,25.6,29.8,26.3,37.5,26.2,29.4,32.3,24.4,31.4,27.7,28.0,28.8,31.4,34.6,19.4,28.5,30.3,40.4,24.2,41.5,22.6,24.2,56.6,27.1,30.9,27.3,31.3,24.0,31.0,28.0,30.3,31.7,35.8,28.4,24.0,29.0,36.5,20.1,36.5,26.7,38.7,29.9,34.9,27.0,26.6,25.0,23.8,21.8,36.8,30.0,27.5,24.6,32.9,26.1,31.9,34.1,27.5,25.6,36.9,31.4,37.3,34.1,25.0,45.7,34.2,23.6,27.3,22.3,31.4,26.4,32.9,37.1,45.0,25.5,26.1,30.8,32.0,29.9,37.4,31.7,34.5,27.9,29.5,46.0,42.5,35.5,31.1,26.9,35.8,45.5,28.5,26.6,31.5,32.0,30.8,31.1,33.0,23.4,26.9,33.6,23.9,26.3,27.3,30.7,20.5,21.5,31.0,27.1,40.0,28.6,28.1,28.4,42.2,25.8,31.9,31.0,27.5,29.6,35.4,16.9,21.5,34.4,28.0,26.8,39.3,31.7,32.6,28.4,35.9,21.2,34.5,42.4,40.5,36.7,30.9,29.3,19.6],\"y0\":\" \",\"yaxis\":\"y\",\"type\":\"box\"}],                        {\"template\":{\"data\":{\"histogram2dcontour\":[{\"type\":\"histogram2dcontour\",\"colorbar\":{\"outlinewidth\":0,\"ticks\":\"\"},\"colorscale\":[[0.0,\"#0d0887\"],[0.1111111111111111,\"#46039f\"],[0.2222222222222222,\"#7201a8\"],[0.3333333333333333,\"#9c179e\"],[0.4444444444444444,\"#bd3786\"],[0.5555555555555556,\"#d8576b\"],[0.6666666666666666,\"#ed7953\"],[0.7777777777777778,\"#fb9f3a\"],[0.8888888888888888,\"#fdca26\"],[1.0,\"#f0f921\"]]}],\"choropleth\":[{\"type\":\"choropleth\",\"colorbar\":{\"outlinewidth\":0,\"ticks\":\"\"}}],\"histogram2d\":[{\"type\":\"histogram2d\",\"colorbar\":{\"outlinewidth\":0,\"ticks\":\"\"},\"colorscale\":[[0.0,\"#0d0887\"],[0.1111111111111111,\"#46039f\"],[0.2222222222222222,\"#7201a8\"],[0.3333333333333333,\"#9c179e\"],[0.4444444444444444,\"#bd3786\"],[0.5555555555555556,\"#d8576b\"],[0.6666666666666666,\"#ed7953\"],[0.7777777777777778,\"#fb9f3a\"],[0.8888888888888888,\"#fdca26\"],[1.0,\"#f0f921\"]]}],\"heatmap\":[{\"type\":\"heatmap\",\"colorbar\":{\"outlinewidth\":0,\"ticks\":\"\"},\"colorscale\":[[0.0,\"#0d0887\"],[0.1111111111111111,\"#46039f\"],[0.2222222222222222,\"#7201a8\"],[0.3333333333333333,\"#9c179e\"],[0.4444444444444444,\"#bd3786\"],[0.5555555555555556,\"#d8576b\"],[0.6666666666666666,\"#ed7953\"],[0.7777777777777778,\"#fb9f3a\"],[0.8888888888888888,\"#fdca26\"],[1.0,\"#f0f921\"]]}],\"heatmapgl\":[{\"type\":\"heatmapgl\",\"colorbar\":{\"outlinewidth\":0,\"ticks\":\"\"},\"colorscale\":[[0.0,\"#0d0887\"],[0.1111111111111111,\"#46039f\"],[0.2222222222222222,\"#7201a8\"],[0.3333333333333333,\"#9c179e\"],[0.4444444444444444,\"#bd3786\"],[0.5555555555555556,\"#d8576b\"],[0.6666666666666666,\"#ed7953\"],[0.7777777777777778,\"#fb9f3a\"],[0.8888888888888888,\"#fdca26\"],[1.0,\"#f0f921\"]]}],\"contourcarpet\":[{\"type\":\"contourcarpet\",\"colorbar\":{\"outlinewidth\":0,\"ticks\":\"\"}}],\"contour\":[{\"type\":\"contour\",\"colorbar\":{\"outlinewidth\":0,\"ticks\":\"\"},\"colorscale\":[[0.0,\"#0d0887\"],[0.1111111111111111,\"#46039f\"],[0.2222222222222222,\"#7201a8\"],[0.3333333333333333,\"#9c179e\"],[0.4444444444444444,\"#bd3786\"],[0.5555555555555556,\"#d8576b\"],[0.6666666666666666,\"#ed7953\"],[0.7777777777777778,\"#fb9f3a\"],[0.8888888888888888,\"#fdca26\"],[1.0,\"#f0f921\"]]}],\"surface\":[{\"type\":\"surface\",\"colorbar\":{\"outlinewidth\":0,\"ticks\":\"\"},\"colorscale\":[[0.0,\"#0d0887\"],[0.1111111111111111,\"#46039f\"],[0.2222222222222222,\"#7201a8\"],[0.3333333333333333,\"#9c179e\"],[0.4444444444444444,\"#bd3786\"],[0.5555555555555556,\"#d8576b\"],[0.6666666666666666,\"#ed7953\"],[0.7777777777777778,\"#fb9f3a\"],[0.8888888888888888,\"#fdca26\"],[1.0,\"#f0f921\"]]}],\"mesh3d\":[{\"type\":\"mesh3d\",\"colorbar\":{\"outlinewidth\":0,\"ticks\":\"\"}}],\"scatter\":[{\"fillpattern\":{\"fillmode\":\"overlay\",\"size\":10,\"solidity\":0.2},\"type\":\"scatter\"}],\"parcoords\":[{\"type\":\"parcoords\",\"line\":{\"colorbar\":{\"outlinewidth\":0,\"ticks\":\"\"}}}],\"scatterpolargl\":[{\"type\":\"scatterpolargl\",\"marker\":{\"colorbar\":{\"outlinewidth\":0,\"ticks\":\"\"}}}],\"bar\":[{\"error_x\":{\"color\":\"#2a3f5f\"},\"error_y\":{\"color\":\"#2a3f5f\"},\"marker\":{\"line\":{\"color\":\"#E5ECF6\",\"width\":0.5},\"pattern\":{\"fillmode\":\"overlay\",\"size\":10,\"solidity\":0.2}},\"type\":\"bar\"}],\"scattergeo\":[{\"type\":\"scattergeo\",\"marker\":{\"colorbar\":{\"outlinewidth\":0,\"ticks\":\"\"}}}],\"scatterpolar\":[{\"type\":\"scatterpolar\",\"marker\":{\"colorbar\":{\"outlinewidth\":0,\"ticks\":\"\"}}}],\"histogram\":[{\"marker\":{\"pattern\":{\"fillmode\":\"overlay\",\"size\":10,\"solidity\":0.2}},\"type\":\"histogram\"}],\"scattergl\":[{\"type\":\"scattergl\",\"marker\":{\"colorbar\":{\"outlinewidth\":0,\"ticks\":\"\"}}}],\"scatter3d\":[{\"type\":\"scatter3d\",\"line\":{\"colorbar\":{\"outlinewidth\":0,\"ticks\":\"\"}},\"marker\":{\"colorbar\":{\"outlinewidth\":0,\"ticks\":\"\"}}}],\"scattermapbox\":[{\"type\":\"scattermapbox\",\"marker\":{\"colorbar\":{\"outlinewidth\":0,\"ticks\":\"\"}}}],\"scatterternary\":[{\"type\":\"scatterternary\",\"marker\":{\"colorbar\":{\"outlinewidth\":0,\"ticks\":\"\"}}}],\"scattercarpet\":[{\"type\":\"scattercarpet\",\"marker\":{\"colorbar\":{\"outlinewidth\":0,\"ticks\":\"\"}}}],\"carpet\":[{\"aaxis\":{\"endlinecolor\":\"#2a3f5f\",\"gridcolor\":\"white\",\"linecolor\":\"white\",\"minorgridcolor\":\"white\",\"startlinecolor\":\"#2a3f5f\"},\"baxis\":{\"endlinecolor\":\"#2a3f5f\",\"gridcolor\":\"white\",\"linecolor\":\"white\",\"minorgridcolor\":\"white\",\"startlinecolor\":\"#2a3f5f\"},\"type\":\"carpet\"}],\"table\":[{\"cells\":{\"fill\":{\"color\":\"#EBF0F8\"},\"line\":{\"color\":\"white\"}},\"header\":{\"fill\":{\"color\":\"#C8D4E3\"},\"line\":{\"color\":\"white\"}},\"type\":\"table\"}],\"barpolar\":[{\"marker\":{\"line\":{\"color\":\"#E5ECF6\",\"width\":0.5},\"pattern\":{\"fillmode\":\"overlay\",\"size\":10,\"solidity\":0.2}},\"type\":\"barpolar\"}],\"pie\":[{\"automargin\":true,\"type\":\"pie\"}]},\"layout\":{\"autotypenumbers\":\"strict\",\"colorway\":[\"#636efa\",\"#EF553B\",\"#00cc96\",\"#ab63fa\",\"#FFA15A\",\"#19d3f3\",\"#FF6692\",\"#B6E880\",\"#FF97FF\",\"#FECB52\"],\"font\":{\"color\":\"#2a3f5f\"},\"hovermode\":\"closest\",\"hoverlabel\":{\"align\":\"left\"},\"paper_bgcolor\":\"white\",\"plot_bgcolor\":\"#E5ECF6\",\"polar\":{\"bgcolor\":\"#E5ECF6\",\"angularaxis\":{\"gridcolor\":\"white\",\"linecolor\":\"white\",\"ticks\":\"\"},\"radialaxis\":{\"gridcolor\":\"white\",\"linecolor\":\"white\",\"ticks\":\"\"}},\"ternary\":{\"bgcolor\":\"#E5ECF6\",\"aaxis\":{\"gridcolor\":\"white\",\"linecolor\":\"white\",\"ticks\":\"\"},\"baxis\":{\"gridcolor\":\"white\",\"linecolor\":\"white\",\"ticks\":\"\"},\"caxis\":{\"gridcolor\":\"white\",\"linecolor\":\"white\",\"ticks\":\"\"}},\"coloraxis\":{\"colorbar\":{\"outlinewidth\":0,\"ticks\":\"\"}},\"colorscale\":{\"sequential\":[[0.0,\"#0d0887\"],[0.1111111111111111,\"#46039f\"],[0.2222222222222222,\"#7201a8\"],[0.3333333333333333,\"#9c179e\"],[0.4444444444444444,\"#bd3786\"],[0.5555555555555556,\"#d8576b\"],[0.6666666666666666,\"#ed7953\"],[0.7777777777777778,\"#fb9f3a\"],[0.8888888888888888,\"#fdca26\"],[1.0,\"#f0f921\"]],\"sequentialminus\":[[0.0,\"#0d0887\"],[0.1111111111111111,\"#46039f\"],[0.2222222222222222,\"#7201a8\"],[0.3333333333333333,\"#9c179e\"],[0.4444444444444444,\"#bd3786\"],[0.5555555555555556,\"#d8576b\"],[0.6666666666666666,\"#ed7953\"],[0.7777777777777778,\"#fb9f3a\"],[0.8888888888888888,\"#fdca26\"],[1.0,\"#f0f921\"]],\"diverging\":[[0,\"#8e0152\"],[0.1,\"#c51b7d\"],[0.2,\"#de77ae\"],[0.3,\"#f1b6da\"],[0.4,\"#fde0ef\"],[0.5,\"#f7f7f7\"],[0.6,\"#e6f5d0\"],[0.7,\"#b8e186\"],[0.8,\"#7fbc41\"],[0.9,\"#4d9221\"],[1,\"#276419\"]]},\"xaxis\":{\"gridcolor\":\"white\",\"linecolor\":\"white\",\"ticks\":\"\",\"title\":{\"standoff\":15},\"zerolinecolor\":\"white\",\"automargin\":true,\"zerolinewidth\":2},\"yaxis\":{\"gridcolor\":\"white\",\"linecolor\":\"white\",\"ticks\":\"\",\"title\":{\"standoff\":15},\"zerolinecolor\":\"white\",\"automargin\":true,\"zerolinewidth\":2},\"scene\":{\"xaxis\":{\"backgroundcolor\":\"#E5ECF6\",\"gridcolor\":\"white\",\"linecolor\":\"white\",\"showbackground\":true,\"ticks\":\"\",\"zerolinecolor\":\"white\",\"gridwidth\":2},\"yaxis\":{\"backgroundcolor\":\"#E5ECF6\",\"gridcolor\":\"white\",\"linecolor\":\"white\",\"showbackground\":true,\"ticks\":\"\",\"zerolinecolor\":\"white\",\"gridwidth\":2},\"zaxis\":{\"backgroundcolor\":\"#E5ECF6\",\"gridcolor\":\"white\",\"linecolor\":\"white\",\"showbackground\":true,\"ticks\":\"\",\"zerolinecolor\":\"white\",\"gridwidth\":2}},\"shapedefaults\":{\"line\":{\"color\":\"#2a3f5f\"}},\"annotationdefaults\":{\"arrowcolor\":\"#2a3f5f\",\"arrowhead\":0,\"arrowwidth\":1},\"geo\":{\"bgcolor\":\"white\",\"landcolor\":\"#E5ECF6\",\"subunitcolor\":\"white\",\"showland\":true,\"showlakes\":true,\"lakecolor\":\"white\"},\"title\":{\"x\":0.05},\"mapbox\":{\"style\":\"light\"}}},\"xaxis\":{\"anchor\":\"y\",\"domain\":[0.0,1.0],\"title\":{\"text\":\"stroke\"}},\"yaxis\":{\"anchor\":\"x\",\"domain\":[0.0,1.0],\"title\":{\"text\":\"bmi\"}},\"legend\":{\"tracegroupgap\":0},\"margin\":{\"t\":60},\"boxmode\":\"group\"},                        {\"responsive\": true}                    ).then(function(){\n",
              "                            \n",
              "var gd = document.getElementById('fb50239d-ff9b-4b7c-92a4-418efcdfa956');\n",
              "var x = new MutationObserver(function (mutations, observer) {{\n",
              "        var display = window.getComputedStyle(gd).display;\n",
              "        if (!display || display === 'none') {{\n",
              "            console.log([gd, 'removed!']);\n",
              "            Plotly.purge(gd);\n",
              "            observer.disconnect();\n",
              "        }}\n",
              "}});\n",
              "\n",
              "// Listen for the removal of the full notebook cells\n",
              "var notebookContainer = gd.closest('#notebook-container');\n",
              "if (notebookContainer) {{\n",
              "    x.observe(notebookContainer, {childList: true});\n",
              "}}\n",
              "\n",
              "// Listen for the clearing of the current output cell\n",
              "var outputEl = gd.closest('.output');\n",
              "if (outputEl) {{\n",
              "    x.observe(outputEl, {childList: true});\n",
              "}}\n",
              "\n",
              "                        })                };                            </script>        </div>\n",
              "</body>\n",
              "</html>"
            ]
          },
          "metadata": {}
        },
        {
          "output_type": "display_data",
          "data": {
            "text/html": [
              "<html>\n",
              "<head><meta charset=\"utf-8\" /></head>\n",
              "<body>\n",
              "    <div>            <script src=\"https://cdnjs.cloudflare.com/ajax/libs/mathjax/2.7.5/MathJax.js?config=TeX-AMS-MML_SVG\"></script><script type=\"text/javascript\">if (window.MathJax && window.MathJax.Hub && window.MathJax.Hub.Config) {window.MathJax.Hub.Config({SVG: {font: \"STIX-Web\"}});}</script>                <script type=\"text/javascript\">window.PlotlyConfig = {MathJaxConfig: 'local'};</script>\n",
              "        <script src=\"https://cdn.plot.ly/plotly-2.18.2.min.js\"></script>                <div id=\"e51a2795-56a5-4857-8cb4-7d15aea14905\" class=\"plotly-graph-div\" style=\"height:525px; width:100%;\"></div>            <script type=\"text/javascript\">                                    window.PLOTLYENV=window.PLOTLYENV || {};                                    if (document.getElementById(\"e51a2795-56a5-4857-8cb4-7d15aea14905\")) {                    Plotly.newPlot(                        \"e51a2795-56a5-4857-8cb4-7d15aea14905\",                        [{\"alignmentgroup\":\"True\",\"bingroup\":\"x\",\"hovertemplate\":\"stroke=0<br>bmi=%{x}<br>count=%{y}<extra></extra>\",\"legendgroup\":\"0\",\"marker\":{\"color\":\"#636efa\",\"pattern\":{\"shape\":\"\"}},\"name\":\"0\",\"offsetgroup\":\"0\",\"orientation\":\"v\",\"showlegend\":true,\"x\":[46.5,26.9,43.0,28.2,44.7,32.5,55.0,43.0,57.2,31.0,26.3,40.0,53.8,26.2,45.2,32.4,41.8,34.0,30.8,21.9,28.6,27.9,46.0,28.0,31.9,35.1,48.7,45.7,26.3,44.7,34.5,29.5,35.2,39.6,28.3,30.5,33.5,23.4,32.2,41.0,43.6,26.5,35.3,25.5,36.1,23.5,29.2,32.2,27.5,40.4,30.1,36.1,32.9,27.7,34.4,32.6,21.4,37.0,31.6,37.3,40.1,26.9,41.8,27.2,40.9,31.3,35.8,35.7,26.9,26.6,31.8,30.3,33.2,42.3,35.8,34.9,29.1,42.0,39.3,28.5,41.3,42.3,44.6,45.2,32.0,35.8,18.8,26.8,25.6,30.7,39.6,43.1,20.6,39.2,19.9,27.4,37.7,40.8,27.2,22.0,29.6,39.2,36.8,43.8,37.5,25.5,39.5,24.6,39.3,27.5,37.9,44.5,38.1,26.8,26.3,26.9,38.6,29.1,39.1,34.0,30.5,32.4,27.4,39.3,34.9,33.7,31.4,35.8,27.0,43.9,43.4,31.2,33.8,27.6,41.9,30.7,41.8,30.4,32.9,34.5,34.8,25.5,23.5,40.5,34.9,26.7,24.5,26.5,28.0,41.1,34.8,26.4,25.9,30.7,25.3,21.8,32.9,32.2,30.7,39.1,32.2,34.8,27.1,40.8,33.4,31.0,36.9,28.2,26.8,30.5,32.4,31.2,39.5,37.6,27.4,33.6,39.6,40.5,30.8,39.5,31.2,28.0,25.1,22.2,27.9,20.1,36.0,35.3,21.5,26.1,32.0,41.1,35.9,25.4,23.9,28.9,42.2,29.5,26.2,29.2,23.5,24.1,19.7,32.6,31.0,30.7,24.2,31.5,35.0],\"xaxis\":\"x\",\"yaxis\":\"y\",\"type\":\"histogram\"},{\"alignmentgroup\":\"True\",\"bingroup\":\"x\",\"hovertemplate\":\"stroke=1<br>bmi=%{x}<br>count=%{y}<extra></extra>\",\"legendgroup\":\"1\",\"marker\":{\"color\":\"#EF553B\",\"pattern\":{\"shape\":\"\"}},\"name\":\"1\",\"offsetgroup\":\"1\",\"orientation\":\"v\",\"showlegend\":true,\"x\":[36.6,32.5,34.4,24.0,29.0,27.4,22.8,24.2,29.7,36.8,27.3,28.2,30.9,37.5,25.8,37.8,22.4,48.9,26.6,32.5,27.2,23.5,28.2,28.3,44.2,25.4,22.2,30.5,29.7,26.5,33.7,23.1,32.0,29.9,23.9,28.5,26.4,20.2,33.6,38.6,33.7,39.2,27.7,31.4,36.5,33.2,32.8,27.7,40.4,22.2,25.3,30.2,24.0,47.5,20.3,30.0,28.9,28.1,31.1,27.4,26.4,21.7,27.0,24.1,45.9,44.1,22.9,29.7,29.1,27.3,32.3,41.1,25.6,29.8,26.3,37.5,26.2,29.4,32.3,24.4,31.4,27.7,28.0,28.8,31.4,34.6,19.4,28.5,30.3,40.4,24.2,41.5,22.6,24.2,56.6,27.1,30.9,27.3,31.3,24.0,31.0,28.0,30.3,31.7,35.8,28.4,24.0,29.0,36.5,20.1,36.5,26.7,38.7,29.9,34.9,27.0,26.6,25.0,23.8,21.8,36.8,30.0,27.5,24.6,32.9,26.1,31.9,34.1,27.5,25.6,36.9,31.4,37.3,34.1,25.0,45.7,34.2,23.6,27.3,22.3,31.4,26.4,32.9,37.1,45.0,25.5,26.1,30.8,32.0,29.9,37.4,31.7,34.5,27.9,29.5,46.0,42.5,35.5,31.1,26.9,35.8,45.5,28.5,26.6,31.5,32.0,30.8,31.1,33.0,23.4,26.9,33.6,23.9,26.3,27.3,30.7,20.5,21.5,31.0,27.1,40.0,28.6,28.1,28.4,42.2,25.8,31.9,31.0,27.5,29.6,35.4,16.9,21.5,34.4,28.0,26.8,39.3,31.7,32.6,28.4,35.9,21.2,34.5,42.4,40.5,36.7,30.9,29.3,19.6],\"xaxis\":\"x\",\"yaxis\":\"y\",\"type\":\"histogram\"}],                        {\"template\":{\"data\":{\"histogram2dcontour\":[{\"type\":\"histogram2dcontour\",\"colorbar\":{\"outlinewidth\":0,\"ticks\":\"\"},\"colorscale\":[[0.0,\"#0d0887\"],[0.1111111111111111,\"#46039f\"],[0.2222222222222222,\"#7201a8\"],[0.3333333333333333,\"#9c179e\"],[0.4444444444444444,\"#bd3786\"],[0.5555555555555556,\"#d8576b\"],[0.6666666666666666,\"#ed7953\"],[0.7777777777777778,\"#fb9f3a\"],[0.8888888888888888,\"#fdca26\"],[1.0,\"#f0f921\"]]}],\"choropleth\":[{\"type\":\"choropleth\",\"colorbar\":{\"outlinewidth\":0,\"ticks\":\"\"}}],\"histogram2d\":[{\"type\":\"histogram2d\",\"colorbar\":{\"outlinewidth\":0,\"ticks\":\"\"},\"colorscale\":[[0.0,\"#0d0887\"],[0.1111111111111111,\"#46039f\"],[0.2222222222222222,\"#7201a8\"],[0.3333333333333333,\"#9c179e\"],[0.4444444444444444,\"#bd3786\"],[0.5555555555555556,\"#d8576b\"],[0.6666666666666666,\"#ed7953\"],[0.7777777777777778,\"#fb9f3a\"],[0.8888888888888888,\"#fdca26\"],[1.0,\"#f0f921\"]]}],\"heatmap\":[{\"type\":\"heatmap\",\"colorbar\":{\"outlinewidth\":0,\"ticks\":\"\"},\"colorscale\":[[0.0,\"#0d0887\"],[0.1111111111111111,\"#46039f\"],[0.2222222222222222,\"#7201a8\"],[0.3333333333333333,\"#9c179e\"],[0.4444444444444444,\"#bd3786\"],[0.5555555555555556,\"#d8576b\"],[0.6666666666666666,\"#ed7953\"],[0.7777777777777778,\"#fb9f3a\"],[0.8888888888888888,\"#fdca26\"],[1.0,\"#f0f921\"]]}],\"heatmapgl\":[{\"type\":\"heatmapgl\",\"colorbar\":{\"outlinewidth\":0,\"ticks\":\"\"},\"colorscale\":[[0.0,\"#0d0887\"],[0.1111111111111111,\"#46039f\"],[0.2222222222222222,\"#7201a8\"],[0.3333333333333333,\"#9c179e\"],[0.4444444444444444,\"#bd3786\"],[0.5555555555555556,\"#d8576b\"],[0.6666666666666666,\"#ed7953\"],[0.7777777777777778,\"#fb9f3a\"],[0.8888888888888888,\"#fdca26\"],[1.0,\"#f0f921\"]]}],\"contourcarpet\":[{\"type\":\"contourcarpet\",\"colorbar\":{\"outlinewidth\":0,\"ticks\":\"\"}}],\"contour\":[{\"type\":\"contour\",\"colorbar\":{\"outlinewidth\":0,\"ticks\":\"\"},\"colorscale\":[[0.0,\"#0d0887\"],[0.1111111111111111,\"#46039f\"],[0.2222222222222222,\"#7201a8\"],[0.3333333333333333,\"#9c179e\"],[0.4444444444444444,\"#bd3786\"],[0.5555555555555556,\"#d8576b\"],[0.6666666666666666,\"#ed7953\"],[0.7777777777777778,\"#fb9f3a\"],[0.8888888888888888,\"#fdca26\"],[1.0,\"#f0f921\"]]}],\"surface\":[{\"type\":\"surface\",\"colorbar\":{\"outlinewidth\":0,\"ticks\":\"\"},\"colorscale\":[[0.0,\"#0d0887\"],[0.1111111111111111,\"#46039f\"],[0.2222222222222222,\"#7201a8\"],[0.3333333333333333,\"#9c179e\"],[0.4444444444444444,\"#bd3786\"],[0.5555555555555556,\"#d8576b\"],[0.6666666666666666,\"#ed7953\"],[0.7777777777777778,\"#fb9f3a\"],[0.8888888888888888,\"#fdca26\"],[1.0,\"#f0f921\"]]}],\"mesh3d\":[{\"type\":\"mesh3d\",\"colorbar\":{\"outlinewidth\":0,\"ticks\":\"\"}}],\"scatter\":[{\"fillpattern\":{\"fillmode\":\"overlay\",\"size\":10,\"solidity\":0.2},\"type\":\"scatter\"}],\"parcoords\":[{\"type\":\"parcoords\",\"line\":{\"colorbar\":{\"outlinewidth\":0,\"ticks\":\"\"}}}],\"scatterpolargl\":[{\"type\":\"scatterpolargl\",\"marker\":{\"colorbar\":{\"outlinewidth\":0,\"ticks\":\"\"}}}],\"bar\":[{\"error_x\":{\"color\":\"#2a3f5f\"},\"error_y\":{\"color\":\"#2a3f5f\"},\"marker\":{\"line\":{\"color\":\"#E5ECF6\",\"width\":0.5},\"pattern\":{\"fillmode\":\"overlay\",\"size\":10,\"solidity\":0.2}},\"type\":\"bar\"}],\"scattergeo\":[{\"type\":\"scattergeo\",\"marker\":{\"colorbar\":{\"outlinewidth\":0,\"ticks\":\"\"}}}],\"scatterpolar\":[{\"type\":\"scatterpolar\",\"marker\":{\"colorbar\":{\"outlinewidth\":0,\"ticks\":\"\"}}}],\"histogram\":[{\"marker\":{\"pattern\":{\"fillmode\":\"overlay\",\"size\":10,\"solidity\":0.2}},\"type\":\"histogram\"}],\"scattergl\":[{\"type\":\"scattergl\",\"marker\":{\"colorbar\":{\"outlinewidth\":0,\"ticks\":\"\"}}}],\"scatter3d\":[{\"type\":\"scatter3d\",\"line\":{\"colorbar\":{\"outlinewidth\":0,\"ticks\":\"\"}},\"marker\":{\"colorbar\":{\"outlinewidth\":0,\"ticks\":\"\"}}}],\"scattermapbox\":[{\"type\":\"scattermapbox\",\"marker\":{\"colorbar\":{\"outlinewidth\":0,\"ticks\":\"\"}}}],\"scatterternary\":[{\"type\":\"scatterternary\",\"marker\":{\"colorbar\":{\"outlinewidth\":0,\"ticks\":\"\"}}}],\"scattercarpet\":[{\"type\":\"scattercarpet\",\"marker\":{\"colorbar\":{\"outlinewidth\":0,\"ticks\":\"\"}}}],\"carpet\":[{\"aaxis\":{\"endlinecolor\":\"#2a3f5f\",\"gridcolor\":\"white\",\"linecolor\":\"white\",\"minorgridcolor\":\"white\",\"startlinecolor\":\"#2a3f5f\"},\"baxis\":{\"endlinecolor\":\"#2a3f5f\",\"gridcolor\":\"white\",\"linecolor\":\"white\",\"minorgridcolor\":\"white\",\"startlinecolor\":\"#2a3f5f\"},\"type\":\"carpet\"}],\"table\":[{\"cells\":{\"fill\":{\"color\":\"#EBF0F8\"},\"line\":{\"color\":\"white\"}},\"header\":{\"fill\":{\"color\":\"#C8D4E3\"},\"line\":{\"color\":\"white\"}},\"type\":\"table\"}],\"barpolar\":[{\"marker\":{\"line\":{\"color\":\"#E5ECF6\",\"width\":0.5},\"pattern\":{\"fillmode\":\"overlay\",\"size\":10,\"solidity\":0.2}},\"type\":\"barpolar\"}],\"pie\":[{\"automargin\":true,\"type\":\"pie\"}]},\"layout\":{\"autotypenumbers\":\"strict\",\"colorway\":[\"#636efa\",\"#EF553B\",\"#00cc96\",\"#ab63fa\",\"#FFA15A\",\"#19d3f3\",\"#FF6692\",\"#B6E880\",\"#FF97FF\",\"#FECB52\"],\"font\":{\"color\":\"#2a3f5f\"},\"hovermode\":\"closest\",\"hoverlabel\":{\"align\":\"left\"},\"paper_bgcolor\":\"white\",\"plot_bgcolor\":\"#E5ECF6\",\"polar\":{\"bgcolor\":\"#E5ECF6\",\"angularaxis\":{\"gridcolor\":\"white\",\"linecolor\":\"white\",\"ticks\":\"\"},\"radialaxis\":{\"gridcolor\":\"white\",\"linecolor\":\"white\",\"ticks\":\"\"}},\"ternary\":{\"bgcolor\":\"#E5ECF6\",\"aaxis\":{\"gridcolor\":\"white\",\"linecolor\":\"white\",\"ticks\":\"\"},\"baxis\":{\"gridcolor\":\"white\",\"linecolor\":\"white\",\"ticks\":\"\"},\"caxis\":{\"gridcolor\":\"white\",\"linecolor\":\"white\",\"ticks\":\"\"}},\"coloraxis\":{\"colorbar\":{\"outlinewidth\":0,\"ticks\":\"\"}},\"colorscale\":{\"sequential\":[[0.0,\"#0d0887\"],[0.1111111111111111,\"#46039f\"],[0.2222222222222222,\"#7201a8\"],[0.3333333333333333,\"#9c179e\"],[0.4444444444444444,\"#bd3786\"],[0.5555555555555556,\"#d8576b\"],[0.6666666666666666,\"#ed7953\"],[0.7777777777777778,\"#fb9f3a\"],[0.8888888888888888,\"#fdca26\"],[1.0,\"#f0f921\"]],\"sequentialminus\":[[0.0,\"#0d0887\"],[0.1111111111111111,\"#46039f\"],[0.2222222222222222,\"#7201a8\"],[0.3333333333333333,\"#9c179e\"],[0.4444444444444444,\"#bd3786\"],[0.5555555555555556,\"#d8576b\"],[0.6666666666666666,\"#ed7953\"],[0.7777777777777778,\"#fb9f3a\"],[0.8888888888888888,\"#fdca26\"],[1.0,\"#f0f921\"]],\"diverging\":[[0,\"#8e0152\"],[0.1,\"#c51b7d\"],[0.2,\"#de77ae\"],[0.3,\"#f1b6da\"],[0.4,\"#fde0ef\"],[0.5,\"#f7f7f7\"],[0.6,\"#e6f5d0\"],[0.7,\"#b8e186\"],[0.8,\"#7fbc41\"],[0.9,\"#4d9221\"],[1,\"#276419\"]]},\"xaxis\":{\"gridcolor\":\"white\",\"linecolor\":\"white\",\"ticks\":\"\",\"title\":{\"standoff\":15},\"zerolinecolor\":\"white\",\"automargin\":true,\"zerolinewidth\":2},\"yaxis\":{\"gridcolor\":\"white\",\"linecolor\":\"white\",\"ticks\":\"\",\"title\":{\"standoff\":15},\"zerolinecolor\":\"white\",\"automargin\":true,\"zerolinewidth\":2},\"scene\":{\"xaxis\":{\"backgroundcolor\":\"#E5ECF6\",\"gridcolor\":\"white\",\"linecolor\":\"white\",\"showbackground\":true,\"ticks\":\"\",\"zerolinecolor\":\"white\",\"gridwidth\":2},\"yaxis\":{\"backgroundcolor\":\"#E5ECF6\",\"gridcolor\":\"white\",\"linecolor\":\"white\",\"showbackground\":true,\"ticks\":\"\",\"zerolinecolor\":\"white\",\"gridwidth\":2},\"zaxis\":{\"backgroundcolor\":\"#E5ECF6\",\"gridcolor\":\"white\",\"linecolor\":\"white\",\"showbackground\":true,\"ticks\":\"\",\"zerolinecolor\":\"white\",\"gridwidth\":2}},\"shapedefaults\":{\"line\":{\"color\":\"#2a3f5f\"}},\"annotationdefaults\":{\"arrowcolor\":\"#2a3f5f\",\"arrowhead\":0,\"arrowwidth\":1},\"geo\":{\"bgcolor\":\"white\",\"landcolor\":\"#E5ECF6\",\"subunitcolor\":\"white\",\"showland\":true,\"showlakes\":true,\"lakecolor\":\"white\"},\"title\":{\"x\":0.05},\"mapbox\":{\"style\":\"light\"}}},\"xaxis\":{\"anchor\":\"y\",\"domain\":[0.0,1.0],\"title\":{\"text\":\"bmi\"}},\"yaxis\":{\"anchor\":\"x\",\"domain\":[0.0,1.0],\"title\":{\"text\":\"count\"}},\"legend\":{\"title\":{\"text\":\"stroke\"},\"tracegroupgap\":0},\"margin\":{\"t\":60},\"barmode\":\"relative\"},                        {\"responsive\": true}                    ).then(function(){\n",
              "                            \n",
              "var gd = document.getElementById('e51a2795-56a5-4857-8cb4-7d15aea14905');\n",
              "var x = new MutationObserver(function (mutations, observer) {{\n",
              "        var display = window.getComputedStyle(gd).display;\n",
              "        if (!display || display === 'none') {{\n",
              "            console.log([gd, 'removed!']);\n",
              "            Plotly.purge(gd);\n",
              "            observer.disconnect();\n",
              "        }}\n",
              "}});\n",
              "\n",
              "// Listen for the removal of the full notebook cells\n",
              "var notebookContainer = gd.closest('#notebook-container');\n",
              "if (notebookContainer) {{\n",
              "    x.observe(notebookContainer, {childList: true});\n",
              "}}\n",
              "\n",
              "// Listen for the clearing of the current output cell\n",
              "var outputEl = gd.closest('.output');\n",
              "if (outputEl) {{\n",
              "    x.observe(outputEl, {childList: true});\n",
              "}}\n",
              "\n",
              "                        })                };                            </script>        </div>\n",
              "</body>\n",
              "</html>"
            ]
          },
          "metadata": {}
        }
      ]
    },
    {
      "cell_type": "code",
      "source": [
        "from sklearn.decomposition import PCA\n",
        "pca = PCA(n_components = 3)\n",
        "pca.fit(df[[\"age\", \"avg_glucose_level\",\"bmi\",\"hypertension\",\t\"heart_disease\"]])"
      ],
      "metadata": {
        "colab": {
          "base_uri": "https://localhost:8080/",
          "height": 75
        },
        "id": "Llgo_lhXTIOQ",
        "outputId": "2b2fde6e-336d-4642-fc6b-4368b6f60ae0"
      },
      "execution_count": 37,
      "outputs": [
        {
          "output_type": "execute_result",
          "data": {
            "text/plain": [
              "PCA(n_components=3)"
            ],
            "text/html": [
              "<style>#sk-container-id-4 {color: black;background-color: white;}#sk-container-id-4 pre{padding: 0;}#sk-container-id-4 div.sk-toggleable {background-color: white;}#sk-container-id-4 label.sk-toggleable__label {cursor: pointer;display: block;width: 100%;margin-bottom: 0;padding: 0.3em;box-sizing: border-box;text-align: center;}#sk-container-id-4 label.sk-toggleable__label-arrow:before {content: \"▸\";float: left;margin-right: 0.25em;color: #696969;}#sk-container-id-4 label.sk-toggleable__label-arrow:hover:before {color: black;}#sk-container-id-4 div.sk-estimator:hover label.sk-toggleable__label-arrow:before {color: black;}#sk-container-id-4 div.sk-toggleable__content {max-height: 0;max-width: 0;overflow: hidden;text-align: left;background-color: #f0f8ff;}#sk-container-id-4 div.sk-toggleable__content pre {margin: 0.2em;color: black;border-radius: 0.25em;background-color: #f0f8ff;}#sk-container-id-4 input.sk-toggleable__control:checked~div.sk-toggleable__content {max-height: 200px;max-width: 100%;overflow: auto;}#sk-container-id-4 input.sk-toggleable__control:checked~label.sk-toggleable__label-arrow:before {content: \"▾\";}#sk-container-id-4 div.sk-estimator input.sk-toggleable__control:checked~label.sk-toggleable__label {background-color: #d4ebff;}#sk-container-id-4 div.sk-label input.sk-toggleable__control:checked~label.sk-toggleable__label {background-color: #d4ebff;}#sk-container-id-4 input.sk-hidden--visually {border: 0;clip: rect(1px 1px 1px 1px);clip: rect(1px, 1px, 1px, 1px);height: 1px;margin: -1px;overflow: hidden;padding: 0;position: absolute;width: 1px;}#sk-container-id-4 div.sk-estimator {font-family: monospace;background-color: #f0f8ff;border: 1px dotted black;border-radius: 0.25em;box-sizing: border-box;margin-bottom: 0.5em;}#sk-container-id-4 div.sk-estimator:hover {background-color: #d4ebff;}#sk-container-id-4 div.sk-parallel-item::after {content: \"\";width: 100%;border-bottom: 1px solid gray;flex-grow: 1;}#sk-container-id-4 div.sk-label:hover label.sk-toggleable__label {background-color: #d4ebff;}#sk-container-id-4 div.sk-serial::before {content: \"\";position: absolute;border-left: 1px solid gray;box-sizing: border-box;top: 0;bottom: 0;left: 50%;z-index: 0;}#sk-container-id-4 div.sk-serial {display: flex;flex-direction: column;align-items: center;background-color: white;padding-right: 0.2em;padding-left: 0.2em;position: relative;}#sk-container-id-4 div.sk-item {position: relative;z-index: 1;}#sk-container-id-4 div.sk-parallel {display: flex;align-items: stretch;justify-content: center;background-color: white;position: relative;}#sk-container-id-4 div.sk-item::before, #sk-container-id-4 div.sk-parallel-item::before {content: \"\";position: absolute;border-left: 1px solid gray;box-sizing: border-box;top: 0;bottom: 0;left: 50%;z-index: -1;}#sk-container-id-4 div.sk-parallel-item {display: flex;flex-direction: column;z-index: 1;position: relative;background-color: white;}#sk-container-id-4 div.sk-parallel-item:first-child::after {align-self: flex-end;width: 50%;}#sk-container-id-4 div.sk-parallel-item:last-child::after {align-self: flex-start;width: 50%;}#sk-container-id-4 div.sk-parallel-item:only-child::after {width: 0;}#sk-container-id-4 div.sk-dashed-wrapped {border: 1px dashed gray;margin: 0 0.4em 0.5em 0.4em;box-sizing: border-box;padding-bottom: 0.4em;background-color: white;}#sk-container-id-4 div.sk-label label {font-family: monospace;font-weight: bold;display: inline-block;line-height: 1.2em;}#sk-container-id-4 div.sk-label-container {text-align: center;}#sk-container-id-4 div.sk-container {/* jupyter's `normalize.less` sets `[hidden] { display: none; }` but bootstrap.min.css set `[hidden] { display: none !important; }` so we also need the `!important` here to be able to override the default hidden behavior on the sphinx rendered scikit-learn.org. See: https://github.com/scikit-learn/scikit-learn/issues/21755 */display: inline-block !important;position: relative;}#sk-container-id-4 div.sk-text-repr-fallback {display: none;}</style><div id=\"sk-container-id-4\" class=\"sk-top-container\"><div class=\"sk-text-repr-fallback\"><pre>PCA(n_components=3)</pre><b>In a Jupyter environment, please rerun this cell to show the HTML representation or trust the notebook. <br />On GitHub, the HTML representation is unable to render, please try loading this page with nbviewer.org.</b></div><div class=\"sk-container\" hidden><div class=\"sk-item\"><div class=\"sk-estimator sk-toggleable\"><input class=\"sk-toggleable__control sk-hidden--visually\" id=\"sk-estimator-id-4\" type=\"checkbox\" checked><label for=\"sk-estimator-id-4\" class=\"sk-toggleable__label sk-toggleable__label-arrow\">PCA</label><div class=\"sk-toggleable__content\"><pre>PCA(n_components=3)</pre></div></div></div></div></div>"
            ]
          },
          "metadata": {},
          "execution_count": 37
        }
      ]
    },
    {
      "cell_type": "code",
      "source": [
        "pca.explained_variance_ratio_"
      ],
      "metadata": {
        "colab": {
          "base_uri": "https://localhost:8080/"
        },
        "id": "oUbO9JD4aot-",
        "outputId": "22a52d31-1cc7-47a5-a5f6-dfdf1830a495"
      },
      "execution_count": 38,
      "outputs": [
        {
          "output_type": "execute_result",
          "data": {
            "text/plain": [
              "array([0.95162582, 0.03968159, 0.00862427])"
            ]
          },
          "metadata": {},
          "execution_count": 38
        }
      ]
    },
    {
      "cell_type": "code",
      "source": [
        "Array = pd.DataFrame(pca.fit_transform(df[[\"age\", \"avg_glucose_level\",\"bmi\",\"hypertension\",\t\"heart_disease\"]]).tolist(),columns = [\"PC1\",\"PC2\",\"PC3\"])\n",
        "Array.info()"
      ],
      "metadata": {
        "colab": {
          "base_uri": "https://localhost:8080/"
        },
        "id": "ugTIGQLsllEt",
        "outputId": "3fbe19a2-63e6-47d5-ea65-e15caae2c2ff"
      },
      "execution_count": 39,
      "outputs": [
        {
          "output_type": "stream",
          "name": "stdout",
          "text": [
            "<class 'pandas.core.frame.DataFrame'>\n",
            "RangeIndex: 418 entries, 0 to 417\n",
            "Data columns (total 3 columns):\n",
            " #   Column  Non-Null Count  Dtype  \n",
            "---  ------  --------------  -----  \n",
            " 0   PC1     418 non-null    float64\n",
            " 1   PC2     418 non-null    float64\n",
            " 2   PC3     418 non-null    float64\n",
            "dtypes: float64(3)\n",
            "memory usage: 9.9 KB\n"
          ]
        }
      ]
    },
    {
      "cell_type": "code",
      "source": [
        "Array[\"stroke\"] = list(df[\"stroke\"])\n",
        "Array"
      ],
      "metadata": {
        "colab": {
          "base_uri": "https://localhost:8080/",
          "height": 424
        },
        "id": "G5-lIJL11ugw",
        "outputId": "c2c3ad1a-e917-45d4-ded9-66edc2153b09"
      },
      "execution_count": 40,
      "outputs": [
        {
          "output_type": "execute_result",
          "data": {
            "text/plain": [
              "            PC1        PC2        PC3  stroke\n",
              "0     -5.009500  26.475030   9.502563       0\n",
              "1    -86.935234  46.523260 -12.616759       0\n",
              "2     -5.917974  24.740288   6.318571       0\n",
              "3    -87.212180  44.830565 -10.916058       0\n",
              "4     -2.499319  16.385436   9.756842       0\n",
              "..          ...        ...        ...     ...\n",
              "413  102.231276   1.773378   5.738697       1\n",
              "414  -60.643995   7.232221   5.121119       1\n",
              "415  -89.266332  47.294345  -8.626147       1\n",
              "416  -66.383056 -12.082548   1.849852       1\n",
              "417  -66.529549 -17.048137  -7.005157       1\n",
              "\n",
              "[418 rows x 4 columns]"
            ],
            "text/html": [
              "\n",
              "  <div id=\"df-2da8139a-9798-48be-b80b-95d3b4419407\">\n",
              "    <div class=\"colab-df-container\">\n",
              "      <div>\n",
              "<style scoped>\n",
              "    .dataframe tbody tr th:only-of-type {\n",
              "        vertical-align: middle;\n",
              "    }\n",
              "\n",
              "    .dataframe tbody tr th {\n",
              "        vertical-align: top;\n",
              "    }\n",
              "\n",
              "    .dataframe thead th {\n",
              "        text-align: right;\n",
              "    }\n",
              "</style>\n",
              "<table border=\"1\" class=\"dataframe\">\n",
              "  <thead>\n",
              "    <tr style=\"text-align: right;\">\n",
              "      <th></th>\n",
              "      <th>PC1</th>\n",
              "      <th>PC2</th>\n",
              "      <th>PC3</th>\n",
              "      <th>stroke</th>\n",
              "    </tr>\n",
              "  </thead>\n",
              "  <tbody>\n",
              "    <tr>\n",
              "      <th>0</th>\n",
              "      <td>-5.009500</td>\n",
              "      <td>26.475030</td>\n",
              "      <td>9.502563</td>\n",
              "      <td>0</td>\n",
              "    </tr>\n",
              "    <tr>\n",
              "      <th>1</th>\n",
              "      <td>-86.935234</td>\n",
              "      <td>46.523260</td>\n",
              "      <td>-12.616759</td>\n",
              "      <td>0</td>\n",
              "    </tr>\n",
              "    <tr>\n",
              "      <th>2</th>\n",
              "      <td>-5.917974</td>\n",
              "      <td>24.740288</td>\n",
              "      <td>6.318571</td>\n",
              "      <td>0</td>\n",
              "    </tr>\n",
              "    <tr>\n",
              "      <th>3</th>\n",
              "      <td>-87.212180</td>\n",
              "      <td>44.830565</td>\n",
              "      <td>-10.916058</td>\n",
              "      <td>0</td>\n",
              "    </tr>\n",
              "    <tr>\n",
              "      <th>4</th>\n",
              "      <td>-2.499319</td>\n",
              "      <td>16.385436</td>\n",
              "      <td>9.756842</td>\n",
              "      <td>0</td>\n",
              "    </tr>\n",
              "    <tr>\n",
              "      <th>...</th>\n",
              "      <td>...</td>\n",
              "      <td>...</td>\n",
              "      <td>...</td>\n",
              "      <td>...</td>\n",
              "    </tr>\n",
              "    <tr>\n",
              "      <th>413</th>\n",
              "      <td>102.231276</td>\n",
              "      <td>1.773378</td>\n",
              "      <td>5.738697</td>\n",
              "      <td>1</td>\n",
              "    </tr>\n",
              "    <tr>\n",
              "      <th>414</th>\n",
              "      <td>-60.643995</td>\n",
              "      <td>7.232221</td>\n",
              "      <td>5.121119</td>\n",
              "      <td>1</td>\n",
              "    </tr>\n",
              "    <tr>\n",
              "      <th>415</th>\n",
              "      <td>-89.266332</td>\n",
              "      <td>47.294345</td>\n",
              "      <td>-8.626147</td>\n",
              "      <td>1</td>\n",
              "    </tr>\n",
              "    <tr>\n",
              "      <th>416</th>\n",
              "      <td>-66.383056</td>\n",
              "      <td>-12.082548</td>\n",
              "      <td>1.849852</td>\n",
              "      <td>1</td>\n",
              "    </tr>\n",
              "    <tr>\n",
              "      <th>417</th>\n",
              "      <td>-66.529549</td>\n",
              "      <td>-17.048137</td>\n",
              "      <td>-7.005157</td>\n",
              "      <td>1</td>\n",
              "    </tr>\n",
              "  </tbody>\n",
              "</table>\n",
              "<p>418 rows × 4 columns</p>\n",
              "</div>\n",
              "      <button class=\"colab-df-convert\" onclick=\"convertToInteractive('df-2da8139a-9798-48be-b80b-95d3b4419407')\"\n",
              "              title=\"Convert this dataframe to an interactive table.\"\n",
              "              style=\"display:none;\">\n",
              "        \n",
              "  <svg xmlns=\"http://www.w3.org/2000/svg\" height=\"24px\"viewBox=\"0 0 24 24\"\n",
              "       width=\"24px\">\n",
              "    <path d=\"M0 0h24v24H0V0z\" fill=\"none\"/>\n",
              "    <path d=\"M18.56 5.44l.94 2.06.94-2.06 2.06-.94-2.06-.94-.94-2.06-.94 2.06-2.06.94zm-11 1L8.5 8.5l.94-2.06 2.06-.94-2.06-.94L8.5 2.5l-.94 2.06-2.06.94zm10 10l.94 2.06.94-2.06 2.06-.94-2.06-.94-.94-2.06-.94 2.06-2.06.94z\"/><path d=\"M17.41 7.96l-1.37-1.37c-.4-.4-.92-.59-1.43-.59-.52 0-1.04.2-1.43.59L10.3 9.45l-7.72 7.72c-.78.78-.78 2.05 0 2.83L4 21.41c.39.39.9.59 1.41.59.51 0 1.02-.2 1.41-.59l7.78-7.78 2.81-2.81c.8-.78.8-2.07 0-2.86zM5.41 20L4 18.59l7.72-7.72 1.47 1.35L5.41 20z\"/>\n",
              "  </svg>\n",
              "      </button>\n",
              "      \n",
              "  <style>\n",
              "    .colab-df-container {\n",
              "      display:flex;\n",
              "      flex-wrap:wrap;\n",
              "      gap: 12px;\n",
              "    }\n",
              "\n",
              "    .colab-df-convert {\n",
              "      background-color: #E8F0FE;\n",
              "      border: none;\n",
              "      border-radius: 50%;\n",
              "      cursor: pointer;\n",
              "      display: none;\n",
              "      fill: #1967D2;\n",
              "      height: 32px;\n",
              "      padding: 0 0 0 0;\n",
              "      width: 32px;\n",
              "    }\n",
              "\n",
              "    .colab-df-convert:hover {\n",
              "      background-color: #E2EBFA;\n",
              "      box-shadow: 0px 1px 2px rgba(60, 64, 67, 0.3), 0px 1px 3px 1px rgba(60, 64, 67, 0.15);\n",
              "      fill: #174EA6;\n",
              "    }\n",
              "\n",
              "    [theme=dark] .colab-df-convert {\n",
              "      background-color: #3B4455;\n",
              "      fill: #D2E3FC;\n",
              "    }\n",
              "\n",
              "    [theme=dark] .colab-df-convert:hover {\n",
              "      background-color: #434B5C;\n",
              "      box-shadow: 0px 1px 3px 1px rgba(0, 0, 0, 0.15);\n",
              "      filter: drop-shadow(0px 1px 2px rgba(0, 0, 0, 0.3));\n",
              "      fill: #FFFFFF;\n",
              "    }\n",
              "  </style>\n",
              "\n",
              "      <script>\n",
              "        const buttonEl =\n",
              "          document.querySelector('#df-2da8139a-9798-48be-b80b-95d3b4419407 button.colab-df-convert');\n",
              "        buttonEl.style.display =\n",
              "          google.colab.kernel.accessAllowed ? 'block' : 'none';\n",
              "\n",
              "        async function convertToInteractive(key) {\n",
              "          const element = document.querySelector('#df-2da8139a-9798-48be-b80b-95d3b4419407');\n",
              "          const dataTable =\n",
              "            await google.colab.kernel.invokeFunction('convertToInteractive',\n",
              "                                                     [key], {});\n",
              "          if (!dataTable) return;\n",
              "\n",
              "          const docLinkHtml = 'Like what you see? Visit the ' +\n",
              "            '<a target=\"_blank\" href=https://colab.research.google.com/notebooks/data_table.ipynb>data table notebook</a>'\n",
              "            + ' to learn more about interactive tables.';\n",
              "          element.innerHTML = '';\n",
              "          dataTable['output_type'] = 'display_data';\n",
              "          await google.colab.output.renderOutput(dataTable, element);\n",
              "          const docLink = document.createElement('div');\n",
              "          docLink.innerHTML = docLinkHtml;\n",
              "          element.appendChild(docLink);\n",
              "        }\n",
              "      </script>\n",
              "    </div>\n",
              "  </div>\n",
              "  "
            ]
          },
          "metadata": {},
          "execution_count": 40
        }
      ]
    },
    {
      "cell_type": "code",
      "source": [
        "px.scatter_3d(Array,x = \"PC1\" , y= \"PC2\" ,z = \"PC3\" ,color = \"stroke\")"
      ],
      "metadata": {
        "colab": {
          "base_uri": "https://localhost:8080/",
          "height": 542
        },
        "id": "NHxHSdKerNg6",
        "outputId": "5aea84ac-ea8d-413e-f94d-ee4e52901f75"
      },
      "execution_count": 41,
      "outputs": [
        {
          "output_type": "display_data",
          "data": {
            "text/html": [
              "<html>\n",
              "<head><meta charset=\"utf-8\" /></head>\n",
              "<body>\n",
              "    <div>            <script src=\"https://cdnjs.cloudflare.com/ajax/libs/mathjax/2.7.5/MathJax.js?config=TeX-AMS-MML_SVG\"></script><script type=\"text/javascript\">if (window.MathJax && window.MathJax.Hub && window.MathJax.Hub.Config) {window.MathJax.Hub.Config({SVG: {font: \"STIX-Web\"}});}</script>                <script type=\"text/javascript\">window.PlotlyConfig = {MathJaxConfig: 'local'};</script>\n",
              "        <script src=\"https://cdn.plot.ly/plotly-2.18.2.min.js\"></script>                <div id=\"52007c8b-3e4e-48fe-ba72-a78980273ec3\" class=\"plotly-graph-div\" style=\"height:525px; width:100%;\"></div>            <script type=\"text/javascript\">                                    window.PLOTLYENV=window.PLOTLYENV || {};                                    if (document.getElementById(\"52007c8b-3e4e-48fe-ba72-a78980273ec3\")) {                    Plotly.newPlot(                        \"52007c8b-3e4e-48fe-ba72-a78980273ec3\",                        [{\"hovertemplate\":\"PC1=%{x}<br>PC2=%{y}<br>PC3=%{z}<br>stroke=%{marker.color}<extra></extra>\",\"legendgroup\":\"\",\"marker\":{\"color\":[0,0,0,0,0,0,0,0,0,0,0,0,0,0,0,0,0,0,0,0,0,0,0,0,0,0,0,0,0,0,0,0,0,0,0,0,0,0,0,0,0,0,0,0,0,0,0,0,0,0,0,0,0,0,0,0,0,0,0,0,0,0,0,0,0,0,0,0,0,0,0,0,0,0,0,0,0,0,0,0,0,0,0,0,0,0,0,0,0,0,0,0,0,0,0,0,0,0,0,0,0,0,0,0,0,0,0,0,0,0,0,0,0,0,0,0,0,0,0,0,0,0,0,0,0,0,0,0,0,0,0,0,0,0,0,0,0,0,0,0,0,0,0,0,0,0,0,0,0,0,0,0,0,0,0,0,0,0,0,0,0,0,0,0,0,0,0,0,0,0,0,0,0,0,0,0,0,0,0,0,0,0,0,0,0,0,0,0,0,0,0,0,0,0,0,0,0,0,0,0,0,0,0,0,0,0,0,0,0,1,1,1,1,1,1,1,1,1,1,1,1,1,1,1,1,1,1,1,1,1,1,1,1,1,1,1,1,1,1,1,1,1,1,1,1,1,1,1,1,1,1,1,1,1,1,1,1,1,1,1,1,1,1,1,1,1,1,1,1,1,1,1,1,1,1,1,1,1,1,1,1,1,1,1,1,1,1,1,1,1,1,1,1,1,1,1,1,1,1,1,1,1,1,1,1,1,1,1,1,1,1,1,1,1,1,1,1,1,1,1,1,1,1,1,1,1,1,1,1,1,1,1,1,1,1,1,1,1,1,1,1,1,1,1,1,1,1,1,1,1,1,1,1,1,1,1,1,1,1,1,1,1,1,1,1,1,1,1,1,1,1,1,1,1,1,1,1,1,1,1,1,1,1,1,1,1,1,1,1,1,1,1,1,1,1,1,1,1,1,1,1,1,1,1,1,1,1,1,1,1,1,1,1,1,1,1,1,1],\"coloraxis\":\"coloraxis\",\"symbol\":\"circle\"},\"mode\":\"markers\",\"name\":\"\",\"scene\":\"scene\",\"showlegend\":false,\"x\":[-5.009500038705203,-86.9352342434729,-5.917974288323903,-87.2121799198216,-2.499319038557384,-86.04449328950602,72.45098918389323,116.23958981875161,75.58972331395466,109.05736946103491,117.85280017893506,-87.52001265236554,74.15360123152465,37.72350154337253,86.92031241144215,13.690636744964118,-88.67468563933726,-4.632243981065046,16.967325211727978,60.514473713692,7.092707611567278,122.24706433785651,82.6678038547314,7.904051045641951,94.84696804323973,101.72104389888388,75.33131838486496,86.22038975619951,5.833077624165153,76.92771418057659,19.850097055971084,-5.641359569846,105.9665145312276,-86.01911343948649,3.8048359054181056,122.30718598938988,101.94492317555718,23.459759521994926,-9.421728996300851,48.00657357778011,46.4014997818323,79.37778396373633,96.81774699091187,106.5096535036293,102.09548442212602,24.110591107099207,13.380385578861775,94.28618153896718,-48.42200326353137,-84.27016306766954,31.660261528153487,32.82169857872195,-2.6179279175885455,91.23181925353428,37.21195514176733,36.31449370118356,67.09471888348533,27.15612641283257,-71.66707656007338,98.52895022919958,76.92387958529868,-49.03338346859111,-61.21389309960707,-48.14620996315238,74.45647688148001,-69.61511247876771,-9.538517035055706,76.59961922725586,35.07818518602022,91.56865533468414,34.976036811897075,70.19060727091576,31.608183876207857,83.07007581514195,28.018715046781036,-84.13744498975754,-70.86264075189538,-47.16493182289844,57.21303674844113,90.45039428195517,59.35966998187849,-82.02890098767324,68.57608745234259,54.466114070284505,39.72908982695006,94.55753585266498,-67.44087268002112,-0.17862679242710616,20.10992664428624,34.089684980847856,-60.18760546082443,90.83739433470181,-73.36219338068904,-59.50891282930673,-72.18791320521667,69.94563092608192,82.69364444851055,59.741639402297245,24.11373192715692,65.24515714526551,17.119723576276137,70.5376176949241,74.61596701371954,-36.26955120571185,-22.922019620450047,97.31853508496357,38.365077604887716,-86.6459833450316,39.7835257987345,17.8289760075093,63.709442925513486,-49.303530876721,64.08742402923363,-88.23824062783531,61.005484464976796,81.30679810972885,62.01970078673586,57.82261324814843,-35.37389691433722,44.378906883864005,57.86614655932771,-10.638754222433136,95.28868343130763,-76.60074621258131,-7.246840886033846,-87.42163627365339,-86.00299439470677,43.71429938933796,98.13251052870041,88.41317425864291,57.692093750560815,27.92283083745832,73.69287537214272,-1.7167821632799578,-36.11269652699125,65.70697086408785,63.779374184650386,-86.89694858458232,-19.639549462946082,-86.11070964235398,67.53803861959508,94.22143438003424,-71.48657704135958,-80.5506994896058,-21.614223563241264,63.13388654099623,46.01663466923585,-84.11954532467126,-82.81480214804073,66.05587629144105,-21.56924005666751,29.395053259538486,-85.45080658860894,-21.49245552629631,81.65003334827361,55.67555649094927,105.62008516376183,-67.97990974219442,64.35729500634547,-75.43828037049289,36.199501774919014,-56.19019092194317,-27.30319365775862,-37.23463243548369,-22.23177652938803,-53.96099386944131,80.1482064603373,78.21168082751672,91.61261614794299,37.05510418357131,-81.38008702716215,-47.08420856416738,48.932995492651806,48.57482782369963,33.73361635202839,-57.350311177550466,-78.98134608378058,-81.80685547196882,-53.332862398449585,59.895177413446305,69.02060254073099,61.385756885859394,-36.70289717151697,-32.93057767190804,83.79832973863678,-59.180922078023656,45.31868844327591,-77.01086053234677,-50.28461956373772,-74.85971821157794,-82.38770266126299,-78.5179817542605,-38.85951063423236,57.572796855366704,-51.9171701378624,-85.04192826558348,-51.49770625159098,-50.59416574970005,-27.637979572551412,-86.06624176990658,-39.820522921274545,-40.96425399061327,-74.1881003633974,-75.87179651035778,-16.328336131771668,-80.619177025391,-53.3543202250498,-83.1203568284951,-67.81341907228413,83.29008956606866,-39.032067528857645,25.211824099363888,28.84342652690042,41.12263305720795,-75.16783116337695,-51.18503708440015,-86.62800624148039,-64.53896791115734,-25.037498478752404,-41.46490859738527,68.88812518638693,21.336936590595595,46.16668753264662,75.88119508328488,-56.25658806232139,48.329243383325945,87.70316105350234,83.44087446925329,63.32022820456086,-42.52763831137099,-41.071218455272856,-44.59335744664995,49.7081931775346,66.55783708369289,-63.0041031305773,51.67619442936828,107.57732661312558,-61.89608316310345,-60.992669066968105,74.48840608111463,-70.81567991930685,-53.08241482756872,-85.12494637342336,-67.19420286360842,-74.69178778480762,-0.18307266806508035,66.96929703604685,98.39228167164579,-38.28018329735732,-45.5508328724955,-88.0338439121598,-17.844022103528772,-20.970619525185423,51.20123897520599,-85.50271716721458,49.72433076380558,34.89509017347742,39.53688276627173,-70.297732866893,-83.6052885144836,-52.47373018974754,-32.24344359558277,76.57841235380263,-40.942936709693754,-59.48572510063821,-72.3470580495797,33.539752422450746,-28.925786914217724,82.77795115804845,-49.46953825078431,-78.48328059596473,94.8657166142801,-34.36554331470697,-2.459783950895961,-49.189175234027125,-56.307019264768186,-65.62067674025343,-48.94987757675103,-33.93263199622882,-85.90408011194052,-58.88880122830115,-46.78417523255991,81.80871789649167,-72.24327763882094,-77.54682809310177,-76.5251829256958,-82.04738938626465,90.48230358783988,-69.1414838933436,94.73414066362459,-66.9174333766675,-62.615600274732266,-71.46530988199665,45.156666819652536,86.39127547504266,-66.54176806160515,-35.32647242735012,-72.82092725409403,46.1126160194493,-52.1462302390839,-81.42270152306115,-15.29247897276051,-76.60833565071496,78.48802581110661,-63.38294948167792,71.53604834971163,-69.59937276495408,-72.198307927792,-64.30645801859883,-39.87440489589089,-85.91839624061683,-83.33891454086968,114.5119116614495,103.49509096770323,-13.948320760971733,-71.60929076039199,55.52320771473988,44.97749064171966,-14.833793546349767,37.698083142976365,60.48123505566766,118.07883348086611,-5.0903709015179315,62.16007408746868,49.05238195775443,53.832369952712845,-41.4018385414926,-29.46924084221155,-75.12821589729914,-73.00933674941153,76.39060795405318,5.555076456447279,-77.9054996364222,-78.27806203495282,93.48257395099849,78.34337957036746,-68.31290803925701,-67.64828454245253,-52.99541512104012,86.50563836746159,-43.83951940167752,76.1739329724247,50.40945269367849,-71.0682519049571,59.10999475333905,-56.101416777413526,-12.093788141872592,16.269155690179947,-47.230714131836216,-53.394853963270855,-48.35813470115221,-53.90759959073548,40.31380900096425,-80.14102274694024,-89.05024484650832,68.03007197885101,-67.94917959622909,-34.64561860619336,-70.49758295273874,-33.23300857913895,-8.282080389812036,-28.79723200928721,70.831278396796,-58.32687355297897,60.573097874812746,-33.51816763962646,-27.568863185693637,126.18805637877047,-47.44698167732509,54.951890513221805,97.44632690477542,-51.612560544057,-70.32545742854143,30.24720765484726,-55.05351518856314,-35.599687111030754,-58.00803783012976,-38.268492632523426,-65.00742351719691,-54.96561027097504,-10.217933837801226,-39.18125912045993,-63.252025480469484,-42.645969457294385,62.9745339569521,-72.22187338012053,-49.36276109360573,60.21095232370731,-29.074511745469295,64.70034804137809,74.3293705075833,105.7198985581393,-72.33527439161712,59.98415399687233,-74.76425769696385,-41.16274068789854,70.70191048442616,39.27434321574555,-48.657643561979484,-78.80758977197179,-63.362383858598186,-47.54257601960999,-74.16781153360667,54.57794485426067,73.18175887067484,65.78163210958928,-59.43852418342055,17.035008471645984,-57.8315958579017,-53.60881949801546,-69.24298703877541,51.51231534365509,88.72286426319582,102.23127561874644,-60.64399542080801,-89.26633180252608,-66.3830563875434,-66.52954930994414],\"y\":[26.475029571803812,46.52326026597541,24.74028768690482,44.83056506138698,16.385435590401794,44.78301192381345,26.48508109854916,8.558352883977069,24.094553165722047,0.9561193170421003,0.22243472313023613,28.699454770828723,22.36832389251849,12.657058012952284,18.96885552441319,-8.236701327769028,25.130267321078797,4.307670252161864,-16.30663736523652,8.475005782990054,3.504511227118705,-8.124015813333415,16.08317186263717,1.4450247519949189,14.45100218412493,16.290696418869754,5.682462233505894,13.17735938223059,-6.794055791853201,-5.870415550527663,-14.477624860503454,3.339522563370751,2.7329253594286103,25.72031094899308,-15.237232595534838,-7.581386177866126,2.266259682761407,-16.69439897477733,2.820512334483546,18.96918915847645,18.489591347624856,8.000198387236884,2.5001892584679823,-7.105102182751874,14.553381268445612,-13.724968915972015,11.630670451864194,4.712827648866048,25.215145939337322,-10.259336271253408,9.388290997846166,2.84756088059354,-6.632172590577103,7.6056655307684995,7.505651674051539,11.996259769291585,-1.2279018558249886,18.531512844977723,29.340576079071973,12.748596971061895,12.734641484728131,24.094529095411794,17.086752736069556,24.181802117422958,-3.797913983033948,31.29140680715587,-15.018504440718612,13.758555667775347,0.009675503817300523,-1.4196190743974917,3.9677687675014646,12.457113389525938,-10.510018242638202,5.535931536766212,14.393715629926898,-8.476509599712411,30.79718215067791,3.8216539231015325,-7.54960667290029,-1.0536587079434552,-10.981047733948506,13.679233217741755,7.573521649769956,7.30546322542494,1.2063875629582628,-3.327874874682707,-2.5658722003212384,-13.708872710251004,13.021716737003857,0.7784425453718778,17.633875880821748,4.942340866988505,13.299024166179382,17.569120227192286,12.207017987232048,8.90949894751595,5.542742280883609,-5.205053589895096,12.486437469436087,0.8005546392216729,8.882971732305583,-2.3095485453104567,8.06126706932265,12.326263846765679,9.423429889196816,-12.251462158991906,-8.025898400308552,-4.821446989284821,7.624622068754488,9.442198512065213,13.865284281892333,6.239059130852625,-3.692057092414104,3.4205423799609775,-6.242837437182423,3.2478817153938695,13.964689032381449,4.037034901072331,13.325758977526831,1.7508997876743333,0.4174941351028355,-5.976244232617568,-4.084282250537175,-9.298227561926543,-12.208073124131849,-17.616384221306884,-6.317851093705133,9.937283009225855,-8.006699858534839,2.1073423541742016,9.956009270996315,14.406056173546114,10.350516661226797,-13.579933111475906,12.905274619495534,2.628831726229282,15.660350331986956,-4.594938280690882,-14.930549741245997,-17.415147756066084,-2.32923345256948,-12.337322247396997,13.956910155436715,-15.02688694458812,2.0682950267670215,-1.20870437663827,-12.90655440709656,-6.311068443058241,-4.9831952344405215,6.770161698296732,3.0202733248142817,-15.905322659894322,2.331471797655848,-16.419868538426186,-15.662555490427653,-13.20288606931512,-8.518636660124328,18.806725142632825,2.5958547585732163,10.258442038679107,-13.528787784781551,-4.78100640929106,-17.330903866690505,10.694416245052246,3.6944068531922203,17.966343755204843,-0.5625867020634352,1.4793068324168899,-13.116351911254451,-11.901429503346865,-15.763878465074155,-15.063815666414,9.87443088217963,-8.139817862089574,-14.597807262382414,-5.066128444113013,5.373125089106261,8.417762949426713,16.963660426114508,2.3518411754548194,-3.0402705317880234,-11.751427288759976,-12.137227421941128,1.0578226069598178,-15.064227948040568,-19.674883974690957,0.24043233472233333,-14.058551377990192,-6.417707744626723,8.536739612490196,17.38720493273712,9.61260722461858,3.7557585767627444,-8.482658191427412,-4.004918474110572,-18.553262616504703,6.678257264256646,17.74629067432444,-12.634414685853388,3.982181318683483,-0.8204507368348833,-0.7245540514722577,-10.391380648296376,-17.52601100850842,-14.25296433468258,16.18406882693593,4.822720689126653,17.26243017540963,-14.844562751692463,1.4140198249715819,-15.55173416134588,16.958337161337703,-14.465417628100713,-15.034743758244103,-11.751423991576333,-7.149375875847819,-16.6442564654193,-17.81997057117945,4.322537213077468,8.734936106473661,-12.47996713572327,15.139110467128754,3.5078264482124073,-8.872087682588548,4.648737118097704,-6.430761987370133,18.7830295933287,-12.40636892210774,-14.670871873694887,-7.946712440286837,-17.48416975897812,-1.9251841568586059,-3.2076803533137817,12.323308714858465,19.480586187242423,-17.1434341009348,-11.905175760825406,14.539821850210316,-19.372975564392068,-6.279615832490647,-10.568094727956636,5.481579132496265,12.959328351846809,-16.16817652028221,8.064508886714615,-17.705812489971716,4.3855292665170476,-7.596698410864948,7.270856707944448,-16.455611219675447,24.60257483699473,-14.988882670441212,-12.34371514295064,4.416782210256458,-18.645961542497705,-6.1781143887075665,10.933166911915677,11.760849994868614,-18.568261593836127,-5.571460758276845,17.840433032298403,-15.180601054822505,0.5747654071796904,-14.235934710163344,3.907896138702586,-17.225262468252847,-1.738884284062438,-1.8655066864907355,3.395377411985087,10.281614296058379,-18.901842910136924,-12.986629383949879,-16.19460241851353,24.463735533397713,7.13921766401051,-17.053592644473596,-5.131910094343801,8.903501227781518,2.091131741493138,-7.109825617692282,17.98327303036402,-11.3339329789018,-11.78748955877327,-18.74165970633465,6.930769625893488,-17.905194848023196,16.853428713097003,-10.041965015472453,-8.291205561753063,9.44966164243571,5.175711506432913,-6.379841033741399,-1.5709200715257168,-10.508238466230994,-5.761601341377442,-20.029635473748847,6.220888672368528,12.403441076390637,13.899770106832875,-16.666638894899965,11.57227415832557,-15.9836754767762,-18.327546400352748,26.98672770481816,-5.610837083575052,-4.0182125368906,1.1045442954458664,-10.847597283405639,23.06522898179566,-12.949102824464624,3.735567400670711,9.176919502668323,-11.457777795585157,12.570633469262246,-7.882014535371938,-18.226304926514953,-15.613831922222314,-5.536679242479974,-15.512773966420692,-1.8252386339979445,-2.2628022681560664,-1.0916000796227292,-11.23630288955252,-8.327301089652645,-10.343454456043476,-9.31395185422372,-19.141007263983283,3.44468661235739,-12.915878148060742,-4.83611219084548,-5.0455370215790785,-1.6594930668970163,-16.318873898276316,5.947185124729126,-3.4320861706679744,-0.6833855813005993,-16.024755814917835,-5.645512951679235,7.081791382369,-8.217272385291647,13.438952454847792,11.15054343533421,-3.928645057188201,-18.98293783468719,-8.114314783582296,-5.884460796576014,-14.703320718350978,8.378859185037086,-16.92957671630834,-17.153601385923178,2.4859341145999516,-15.87836166349742,-4.562301516870215,-14.075357337423796,-16.44204995097062,-14.8946848613883,16.558456202447893,5.014386051471794,29.996132867551964,4.218443860783467,1.7693315071778948,1.7811518197952545,-15.42595775249086,-18.665603467856155,4.709220713022664,15.063620907869138,5.941818118051284,0.4736100363408663,-9.124079636300069,8.292196889604433,0.7331789131960363,-5.9703431445415385,-11.777634436111171,-13.842298381269618,-13.160982042980244,-13.85069282365864,9.070238624555628,-13.465039633809058,-19.146950854864745,-15.202385043060527,-12.564292983736356,-0.7169099983691298,22.596681798558084,11.637128120446409,3.5358322618799263,12.331432818346887,-19.110199709896186,-12.135525994972545,-14.44282766106008,13.34650304548038,-6.3756815991292,-13.438653087013082,-16.348840227241162,5.855593178565328,-18.916011740515405,14.595935068510686,9.678163148803634,-15.399374149277607,23.690737565803683,-16.04633946637663,-20.459372445809528,-17.103116378837807,-9.276211669788422,-10.95965501342887,-11.670682771154533,0.5188692428350496,6.221003690702509,-11.03713502413519,11.443713240521388,4.320739143787769,-5.0493407775618975,9.881859988106733,1.8025370569971513,1.7733780229019163,7.232220568822714,47.29434454236249,-12.08254838003987,-17.048137324795277],\"z\":[9.502562870081046,-12.616759071911394,6.318570719020379,-10.916058408279005,9.756841984652045,-6.538322995795179,16.084384620947187,6.459602281433441,18.76367386033257,-3.9917084942412058,-8.882201896808837,4.625364684378015,15.693310686433792,-9.467879345291095,7.275609501775477,2.012782627803831,7.264087713557038,1.458539850430435,2.017539829587282,-13.590459238025707,-4.213733011214412,-5.5758963091655644,8.829084323617915,-4.407942484075249,-5.57756707983584,-2.886959147952779,14.022637172038182,9.049231207512648,-4.323373777698451,12.36488295103626,5.333335817794672,-2.910262587656449,0.007872396549434573,4.815495436617317,-0.4106769144719602,-3.032600598946396,-1.52163671556699,-5.647364618544608,0.06656882826796967,4.039708723349866,6.846450823846579,-9.298584635310798,0.4096094840550855,-7.820748793838476,-1.5013847544117742,-6.200392137693442,-5.514497576536966,-3.1682450867174086,-8.482368006418648,13.30309884678252,-4.609955655072083,2.900102406515956,2.6242965303971526,-8.308885307551742,0.041868508438483325,-2.7385451266394294,-12.201326930781471,0.6110199814233126,-4.538634349000491,0.2107614524270522,3.667671546072397,-8.8391761219132,8.240616927578047,-8.575158386062512,8.099877946909354,-5.320004183919664,7.579633693403506,-1.0454293382733941,-5.965301418034682,-7.507464472521571,-1.7995728025467501,-6.11566096638593,2.8315311279782613,7.296354047801207,0.24612223478649678,7.290563077451717,-7.430810384413564,10.907621342348284,7.737325653926117,-5.61155871523146,10.461702788562803,10.050783690346742,9.606451455708882,10.663867144202003,-1.1322250656895059,2.232992928204205,-10.905408759147324,-2.165171818061313,-9.679619856318904,-2.2166752977616726,5.844418852833182,8.029102474678957,-12.305530885789965,5.430556091091687,-12.819485246352569,-8.3149984152874,2.5988461348404863,8.700711581019206,-8.035761979734417,-11.970901409191693,-4.617816990878799,6.1475781864208106,1.3574718118584517,10.627749118938125,4.440830536757615,-6.466137867158118,8.558743528290393,-3.9637612602059997,4.958217521348879,-6.905654239603555,1.5346686561665999,13.006407112514033,5.495238676266932,-3.437496127897385,-5.946255097499361,-7.9206618214208735,2.2756051375622386,-5.199894351610601,5.580295820769772,0.6716316902872355,-2.9922915113192787,2.19138888662549,-6.218824782653639,11.762350028907857,5.993465226105093,8.11237074142752,3.2968577269198622,0.7740360264436856,-5.864832244835276,9.5218444279107,8.164469779287401,-4.458976944508732,-2.178393429111105,-1.331781918387089,8.555989076488553,-3.4764705835842995,5.137833546552179,1.9285407605250664,4.86860231332594,8.853187208423234,1.732525423104308,-6.363257051478797,-9.530782878860439,14.326669954452617,3.3228378145213715,-6.674936032699242,-5.9483947650494216,-1.7692081055656925,-0.55496768352287,6.267867454831401,3.0157234250131726,-2.907915227505342,-4.200695753198843,2.987765096055765,-5.511735851027136,-8.910643163478753,0.07775582624635512,-1.7656876097505916,-3.431976996314098,7.330890213594221,2.3289109255370595,5.6327233790067845,-0.33968271020541646,7.934784437336337,1.4561921594904836,-3.1954676464479426,3.158193903435376,-6.128073997316731,-4.794954532974264,0.2190580819992117,6.220179011192012,3.906970874907782,4.431954853465756,6.360832795941632,-2.2836006074131006,4.499035839887805,8.987028784724107,9.331774643448803,-3.2021327312023815,5.746682685692054,-1.8385819562481003,-3.0362908638514834,-3.244911415992408,-9.145304959546824,-3.0391935688381517,-6.13054180844851,3.0149924235797547,8.702233924693326,-7.784621884709455,-5.6160119357147655,-1.2728829280618899,9.599640634420592,4.454274714692363,-6.292972776958458,-5.802203733380694,3.3375086671326892,10.617630271346327,-4.774749606493469,-2.2600508763850358,-1.1617405568018802,-7.223202778962719,-6.599961410799933,-8.12193745107822,6.652579660841053,2.6896503219864347,-2.391825608844172,-7.349709186548324,-1.7376923832024618,8.313080421173233,2.340959194819109,5.121473611906226,-1.6598269249045423,-5.657215582605883,-0.7556502697509866,0.07511906058259732,-6.273069751628031,-1.8373646721790362,3.4407959505155983,4.875934460790057,-5.341522738735275,-2.879989627682381,-4.743551422635885,3.825027118792524,-6.298243965128144,6.6810778710105225,-9.550376766963042,11.080880206738238,-4.929020238012678,2.1412098514768387,-1.8364421002293558,-3.6157768656597615,-2.048683718832258,-4.243625878079432,8.234608544492556,-9.00309486580827,-7.547035844935467,-1.7052482379723304,-3.574080996098592,0.4026520090650962,1.2649587199872308,-4.696176494406146,0.48181219209572707,-2.3969365695114746,-2.7764133083256413,-3.06382507754036,-1.7169046531279202,-14.628541233511754,0.794526782218607,6.446846719522574,6.721488488162922,4.700963240283344,-0.48803114292754557,2.817186835981162,2.4696338018979844,7.769339476247905,0.9989864140966517,-7.485036104180567,5.203097039560082,-3.9149723361377493,-3.1683751029977136,-4.0275075267174865,-3.8378650922173696,13.856554116764032,-7.590016600486252,-1.0522089223397257,2.7076738235971853,-4.320525551785854,0.4795046096481753,-7.482112207040279,-6.375804831813388,-4.133595932296405,-4.705630516495104,-3.46141164553419,9.250607391000191,12.399703384191254,-3.906503293241373,0.7485579132803177,-3.3319543697573266,-4.122377607160474,4.384236491683039,7.2687158421617974,-2.6307394204579424,-1.7439207630974745,0.3687928294813983,6.46524006958804,0.2050703597351332,-3.8277523878031525,0.20349192364770444,-3.9014548989538045,-5.015057328326598,-3.473406302463261,-0.8062348396585842,-0.7785819839933455,0.6188142899916955,1.7500288484961601,-6.570491460591217,-3.741901102805163,-2.202751724702866,4.564942950468139,-2.7729357685223057,9.667729947758785,-5.562089554563403,-1.7501432823787137,17.449114395219354,-1.871068724700921,-2.003701479033573,-2.936197013007099,3.7897547579283226,-11.168881632629931,3.0520951337756075,-2.3406047318218772,-1.2237828703327056,-0.7619917932090514,-1.419919089016431,-1.4019898285484724,-2.112203045757035,-1.0241554321735105,4.776357331164017,-8.231533474479477,4.178730662864665,-6.375231767251055,4.0788461524885795,0.6106413683084578,3.26815807311884,-4.023220713584351,-4.784909412624036,-1.7172938701369993,-8.114733057714162,-5.4049846541681115,8.150085847750626,-2.8359082879110433,-4.1894824615239585,-1.7357949670641168,1.9911054943134259,-7.64012982182525,-1.8828420932949659,7.659067209931447,-1.3380633409307974,-6.411738210742783,4.626224813374938,-2.0910730295561435,1.1632192605987675,1.8265634958465873,-0.9402940026487421,14.356500362730042,5.254385306021179,-4.900250692779237,-6.83963900618454,-4.793252298982798,4.73197799213306,-4.733849631007062,6.0083206036241394,5.3083947069123765,18.715384808477435,-0.4833912513051481,-4.486526115300248,-2.7166016559157904,0.07923009569112273,-6.450442426265825,5.736880978695571,-0.25057629619233707,3.170468923755908,-2.6067204429443476,3.2469123295028908,11.871487849480639,8.63672030351199,3.2681809298768436,-4.253074278328105,-1.7566582084111373,0.8204594885800641,11.208494577902345,-0.6825914442545923,-0.8704408919660406,1.84355894178659,4.534615459933348,2.9242961853987444,-1.0744682304363857,5.165196836687136,-2.708623899704711,-0.2477454790711981,4.822105937545658,-6.854848526721204,-8.743972395616678,-5.931867608716781,-3.5959031333436786,-12.231380653238432,-5.087073869890725,0.14747602890154632,-0.9121482322844845,3.7680979360938878,-3.9285772914256456,-3.779866002512414,2.006547960410844,7.753815302435046,-0.03661125144434136,-1.900703619900679,-4.817921373513125,-2.161694211136495,-6.000404123158446,9.28119449876949,-9.122181500175621,-5.567256125875071,6.678031148479195,-3.0186177907963923,-4.602429003855454,5.773475587132032,0.18960462119236746,2.7269245421152215,-4.349573343670333,4.734704801668829,-7.868061541004088,-0.7567841962371353,8.04411578914863,5.738697312167919,5.121119226114664,-8.626147079635071,1.8498522319580093,-7.005156895733335],\"type\":\"scatter3d\"}],                        {\"template\":{\"data\":{\"histogram2dcontour\":[{\"type\":\"histogram2dcontour\",\"colorbar\":{\"outlinewidth\":0,\"ticks\":\"\"},\"colorscale\":[[0.0,\"#0d0887\"],[0.1111111111111111,\"#46039f\"],[0.2222222222222222,\"#7201a8\"],[0.3333333333333333,\"#9c179e\"],[0.4444444444444444,\"#bd3786\"],[0.5555555555555556,\"#d8576b\"],[0.6666666666666666,\"#ed7953\"],[0.7777777777777778,\"#fb9f3a\"],[0.8888888888888888,\"#fdca26\"],[1.0,\"#f0f921\"]]}],\"choropleth\":[{\"type\":\"choropleth\",\"colorbar\":{\"outlinewidth\":0,\"ticks\":\"\"}}],\"histogram2d\":[{\"type\":\"histogram2d\",\"colorbar\":{\"outlinewidth\":0,\"ticks\":\"\"},\"colorscale\":[[0.0,\"#0d0887\"],[0.1111111111111111,\"#46039f\"],[0.2222222222222222,\"#7201a8\"],[0.3333333333333333,\"#9c179e\"],[0.4444444444444444,\"#bd3786\"],[0.5555555555555556,\"#d8576b\"],[0.6666666666666666,\"#ed7953\"],[0.7777777777777778,\"#fb9f3a\"],[0.8888888888888888,\"#fdca26\"],[1.0,\"#f0f921\"]]}],\"heatmap\":[{\"type\":\"heatmap\",\"colorbar\":{\"outlinewidth\":0,\"ticks\":\"\"},\"colorscale\":[[0.0,\"#0d0887\"],[0.1111111111111111,\"#46039f\"],[0.2222222222222222,\"#7201a8\"],[0.3333333333333333,\"#9c179e\"],[0.4444444444444444,\"#bd3786\"],[0.5555555555555556,\"#d8576b\"],[0.6666666666666666,\"#ed7953\"],[0.7777777777777778,\"#fb9f3a\"],[0.8888888888888888,\"#fdca26\"],[1.0,\"#f0f921\"]]}],\"heatmapgl\":[{\"type\":\"heatmapgl\",\"colorbar\":{\"outlinewidth\":0,\"ticks\":\"\"},\"colorscale\":[[0.0,\"#0d0887\"],[0.1111111111111111,\"#46039f\"],[0.2222222222222222,\"#7201a8\"],[0.3333333333333333,\"#9c179e\"],[0.4444444444444444,\"#bd3786\"],[0.5555555555555556,\"#d8576b\"],[0.6666666666666666,\"#ed7953\"],[0.7777777777777778,\"#fb9f3a\"],[0.8888888888888888,\"#fdca26\"],[1.0,\"#f0f921\"]]}],\"contourcarpet\":[{\"type\":\"contourcarpet\",\"colorbar\":{\"outlinewidth\":0,\"ticks\":\"\"}}],\"contour\":[{\"type\":\"contour\",\"colorbar\":{\"outlinewidth\":0,\"ticks\":\"\"},\"colorscale\":[[0.0,\"#0d0887\"],[0.1111111111111111,\"#46039f\"],[0.2222222222222222,\"#7201a8\"],[0.3333333333333333,\"#9c179e\"],[0.4444444444444444,\"#bd3786\"],[0.5555555555555556,\"#d8576b\"],[0.6666666666666666,\"#ed7953\"],[0.7777777777777778,\"#fb9f3a\"],[0.8888888888888888,\"#fdca26\"],[1.0,\"#f0f921\"]]}],\"surface\":[{\"type\":\"surface\",\"colorbar\":{\"outlinewidth\":0,\"ticks\":\"\"},\"colorscale\":[[0.0,\"#0d0887\"],[0.1111111111111111,\"#46039f\"],[0.2222222222222222,\"#7201a8\"],[0.3333333333333333,\"#9c179e\"],[0.4444444444444444,\"#bd3786\"],[0.5555555555555556,\"#d8576b\"],[0.6666666666666666,\"#ed7953\"],[0.7777777777777778,\"#fb9f3a\"],[0.8888888888888888,\"#fdca26\"],[1.0,\"#f0f921\"]]}],\"mesh3d\":[{\"type\":\"mesh3d\",\"colorbar\":{\"outlinewidth\":0,\"ticks\":\"\"}}],\"scatter\":[{\"fillpattern\":{\"fillmode\":\"overlay\",\"size\":10,\"solidity\":0.2},\"type\":\"scatter\"}],\"parcoords\":[{\"type\":\"parcoords\",\"line\":{\"colorbar\":{\"outlinewidth\":0,\"ticks\":\"\"}}}],\"scatterpolargl\":[{\"type\":\"scatterpolargl\",\"marker\":{\"colorbar\":{\"outlinewidth\":0,\"ticks\":\"\"}}}],\"bar\":[{\"error_x\":{\"color\":\"#2a3f5f\"},\"error_y\":{\"color\":\"#2a3f5f\"},\"marker\":{\"line\":{\"color\":\"#E5ECF6\",\"width\":0.5},\"pattern\":{\"fillmode\":\"overlay\",\"size\":10,\"solidity\":0.2}},\"type\":\"bar\"}],\"scattergeo\":[{\"type\":\"scattergeo\",\"marker\":{\"colorbar\":{\"outlinewidth\":0,\"ticks\":\"\"}}}],\"scatterpolar\":[{\"type\":\"scatterpolar\",\"marker\":{\"colorbar\":{\"outlinewidth\":0,\"ticks\":\"\"}}}],\"histogram\":[{\"marker\":{\"pattern\":{\"fillmode\":\"overlay\",\"size\":10,\"solidity\":0.2}},\"type\":\"histogram\"}],\"scattergl\":[{\"type\":\"scattergl\",\"marker\":{\"colorbar\":{\"outlinewidth\":0,\"ticks\":\"\"}}}],\"scatter3d\":[{\"type\":\"scatter3d\",\"line\":{\"colorbar\":{\"outlinewidth\":0,\"ticks\":\"\"}},\"marker\":{\"colorbar\":{\"outlinewidth\":0,\"ticks\":\"\"}}}],\"scattermapbox\":[{\"type\":\"scattermapbox\",\"marker\":{\"colorbar\":{\"outlinewidth\":0,\"ticks\":\"\"}}}],\"scatterternary\":[{\"type\":\"scatterternary\",\"marker\":{\"colorbar\":{\"outlinewidth\":0,\"ticks\":\"\"}}}],\"scattercarpet\":[{\"type\":\"scattercarpet\",\"marker\":{\"colorbar\":{\"outlinewidth\":0,\"ticks\":\"\"}}}],\"carpet\":[{\"aaxis\":{\"endlinecolor\":\"#2a3f5f\",\"gridcolor\":\"white\",\"linecolor\":\"white\",\"minorgridcolor\":\"white\",\"startlinecolor\":\"#2a3f5f\"},\"baxis\":{\"endlinecolor\":\"#2a3f5f\",\"gridcolor\":\"white\",\"linecolor\":\"white\",\"minorgridcolor\":\"white\",\"startlinecolor\":\"#2a3f5f\"},\"type\":\"carpet\"}],\"table\":[{\"cells\":{\"fill\":{\"color\":\"#EBF0F8\"},\"line\":{\"color\":\"white\"}},\"header\":{\"fill\":{\"color\":\"#C8D4E3\"},\"line\":{\"color\":\"white\"}},\"type\":\"table\"}],\"barpolar\":[{\"marker\":{\"line\":{\"color\":\"#E5ECF6\",\"width\":0.5},\"pattern\":{\"fillmode\":\"overlay\",\"size\":10,\"solidity\":0.2}},\"type\":\"barpolar\"}],\"pie\":[{\"automargin\":true,\"type\":\"pie\"}]},\"layout\":{\"autotypenumbers\":\"strict\",\"colorway\":[\"#636efa\",\"#EF553B\",\"#00cc96\",\"#ab63fa\",\"#FFA15A\",\"#19d3f3\",\"#FF6692\",\"#B6E880\",\"#FF97FF\",\"#FECB52\"],\"font\":{\"color\":\"#2a3f5f\"},\"hovermode\":\"closest\",\"hoverlabel\":{\"align\":\"left\"},\"paper_bgcolor\":\"white\",\"plot_bgcolor\":\"#E5ECF6\",\"polar\":{\"bgcolor\":\"#E5ECF6\",\"angularaxis\":{\"gridcolor\":\"white\",\"linecolor\":\"white\",\"ticks\":\"\"},\"radialaxis\":{\"gridcolor\":\"white\",\"linecolor\":\"white\",\"ticks\":\"\"}},\"ternary\":{\"bgcolor\":\"#E5ECF6\",\"aaxis\":{\"gridcolor\":\"white\",\"linecolor\":\"white\",\"ticks\":\"\"},\"baxis\":{\"gridcolor\":\"white\",\"linecolor\":\"white\",\"ticks\":\"\"},\"caxis\":{\"gridcolor\":\"white\",\"linecolor\":\"white\",\"ticks\":\"\"}},\"coloraxis\":{\"colorbar\":{\"outlinewidth\":0,\"ticks\":\"\"}},\"colorscale\":{\"sequential\":[[0.0,\"#0d0887\"],[0.1111111111111111,\"#46039f\"],[0.2222222222222222,\"#7201a8\"],[0.3333333333333333,\"#9c179e\"],[0.4444444444444444,\"#bd3786\"],[0.5555555555555556,\"#d8576b\"],[0.6666666666666666,\"#ed7953\"],[0.7777777777777778,\"#fb9f3a\"],[0.8888888888888888,\"#fdca26\"],[1.0,\"#f0f921\"]],\"sequentialminus\":[[0.0,\"#0d0887\"],[0.1111111111111111,\"#46039f\"],[0.2222222222222222,\"#7201a8\"],[0.3333333333333333,\"#9c179e\"],[0.4444444444444444,\"#bd3786\"],[0.5555555555555556,\"#d8576b\"],[0.6666666666666666,\"#ed7953\"],[0.7777777777777778,\"#fb9f3a\"],[0.8888888888888888,\"#fdca26\"],[1.0,\"#f0f921\"]],\"diverging\":[[0,\"#8e0152\"],[0.1,\"#c51b7d\"],[0.2,\"#de77ae\"],[0.3,\"#f1b6da\"],[0.4,\"#fde0ef\"],[0.5,\"#f7f7f7\"],[0.6,\"#e6f5d0\"],[0.7,\"#b8e186\"],[0.8,\"#7fbc41\"],[0.9,\"#4d9221\"],[1,\"#276419\"]]},\"xaxis\":{\"gridcolor\":\"white\",\"linecolor\":\"white\",\"ticks\":\"\",\"title\":{\"standoff\":15},\"zerolinecolor\":\"white\",\"automargin\":true,\"zerolinewidth\":2},\"yaxis\":{\"gridcolor\":\"white\",\"linecolor\":\"white\",\"ticks\":\"\",\"title\":{\"standoff\":15},\"zerolinecolor\":\"white\",\"automargin\":true,\"zerolinewidth\":2},\"scene\":{\"xaxis\":{\"backgroundcolor\":\"#E5ECF6\",\"gridcolor\":\"white\",\"linecolor\":\"white\",\"showbackground\":true,\"ticks\":\"\",\"zerolinecolor\":\"white\",\"gridwidth\":2},\"yaxis\":{\"backgroundcolor\":\"#E5ECF6\",\"gridcolor\":\"white\",\"linecolor\":\"white\",\"showbackground\":true,\"ticks\":\"\",\"zerolinecolor\":\"white\",\"gridwidth\":2},\"zaxis\":{\"backgroundcolor\":\"#E5ECF6\",\"gridcolor\":\"white\",\"linecolor\":\"white\",\"showbackground\":true,\"ticks\":\"\",\"zerolinecolor\":\"white\",\"gridwidth\":2}},\"shapedefaults\":{\"line\":{\"color\":\"#2a3f5f\"}},\"annotationdefaults\":{\"arrowcolor\":\"#2a3f5f\",\"arrowhead\":0,\"arrowwidth\":1},\"geo\":{\"bgcolor\":\"white\",\"landcolor\":\"#E5ECF6\",\"subunitcolor\":\"white\",\"showland\":true,\"showlakes\":true,\"lakecolor\":\"white\"},\"title\":{\"x\":0.05},\"mapbox\":{\"style\":\"light\"}}},\"scene\":{\"domain\":{\"x\":[0.0,1.0],\"y\":[0.0,1.0]},\"xaxis\":{\"title\":{\"text\":\"PC1\"}},\"yaxis\":{\"title\":{\"text\":\"PC2\"}},\"zaxis\":{\"title\":{\"text\":\"PC3\"}}},\"coloraxis\":{\"colorbar\":{\"title\":{\"text\":\"stroke\"}},\"colorscale\":[[0.0,\"#0d0887\"],[0.1111111111111111,\"#46039f\"],[0.2222222222222222,\"#7201a8\"],[0.3333333333333333,\"#9c179e\"],[0.4444444444444444,\"#bd3786\"],[0.5555555555555556,\"#d8576b\"],[0.6666666666666666,\"#ed7953\"],[0.7777777777777778,\"#fb9f3a\"],[0.8888888888888888,\"#fdca26\"],[1.0,\"#f0f921\"]]},\"legend\":{\"tracegroupgap\":0},\"margin\":{\"t\":60}},                        {\"responsive\": true}                    ).then(function(){\n",
              "                            \n",
              "var gd = document.getElementById('52007c8b-3e4e-48fe-ba72-a78980273ec3');\n",
              "var x = new MutationObserver(function (mutations, observer) {{\n",
              "        var display = window.getComputedStyle(gd).display;\n",
              "        if (!display || display === 'none') {{\n",
              "            console.log([gd, 'removed!']);\n",
              "            Plotly.purge(gd);\n",
              "            observer.disconnect();\n",
              "        }}\n",
              "}});\n",
              "\n",
              "// Listen for the removal of the full notebook cells\n",
              "var notebookContainer = gd.closest('#notebook-container');\n",
              "if (notebookContainer) {{\n",
              "    x.observe(notebookContainer, {childList: true});\n",
              "}}\n",
              "\n",
              "// Listen for the clearing of the current output cell\n",
              "var outputEl = gd.closest('.output');\n",
              "if (outputEl) {{\n",
              "    x.observe(outputEl, {childList: true});\n",
              "}}\n",
              "\n",
              "                        })                };                            </script>        </div>\n",
              "</body>\n",
              "</html>"
            ]
          },
          "metadata": {}
        }
      ]
    },
    {
      "cell_type": "markdown",
      "source": [
        "Although faint, one can clearly see a linear separation in the data at the 0 of the x-axis. this shows the data will likely be classified using linear algorithms."
      ],
      "metadata": {
        "id": "9PYW4KSo9z4q"
      }
    },
    {
      "cell_type": "markdown",
      "source": [
        "## <h2 align=\"center\" id = '3'><font color='green'>Conclusion</h2>\n"
      ],
      "metadata": {
        "id": "aXvmdRZTi_9L"
      }
    },
    {
      "cell_type": "markdown",
      "source": [
        "Principal Component Analysis (PCA) is a powerful technique in data analysis and machine learning that can help us identify the underlying patterns in complex datasets. Mastering PCA can greatly enhance your ability to extract insights and make informed decisions from complex data, making it an essential skill for any data scientist or machine learning practitioner."
      ],
      "metadata": {
        "id": "WE2lYnCJjDGP"
      }
    }
  ]
}